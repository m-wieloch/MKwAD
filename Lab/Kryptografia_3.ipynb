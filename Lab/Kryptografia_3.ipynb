{
  "nbformat": 4,
  "nbformat_minor": 0,
  "metadata": {
    "colab": {
      "provenance": []
    },
    "kernelspec": {
      "name": "python3",
      "display_name": "Python 3"
    },
    "language_info": {
      "name": "python"
    }
  },
  "cells": [
    {
      "cell_type": "markdown",
      "source": [
        "# RSA\n",
        "\n",
        "Rivest Shamir Adleman (RSA) jest jednym z pierwszych algorytmów asymetrycznych. Został zaprojektowany w 1977 roku i jest używany do dzisiejszego dnia. Zyskał akceptację zarówno NISTu jak i organizacji ISO/IEC oraz RFC. RSA posiada parę kluczy - publiczny oraz prywatny. Publiczny klucz może być znany każdemu i służy on do operacji szyfrowania. Klucz prywatny jest znany tylko i wyłącznie instancji, która klucze generowała. Ta sama instancja jako jedna jedyna ma możliwość odszyfrowania kryptogramów.\n",
        "\n",
        "RSA umożliwia także tworzenie podpisów cyfrowych (z ang *Digital Signatures*, czyli *DS*). Podpis cyfrowy to dodatkowy blok informacji dołączony do wiadomości, który zapewnia:\n",
        "1. *Integrity* - integralność wiadomości, czyli potwierdzenie, że nie była ona w żaden sposób modyfikowana.\n",
        "2. *Authentication* - autentykacje podpisującego, czyli potwierdzenie jego tożsamości.\n",
        "3. *Non-repudiation* - czyli wysyłający podpisaną wiadomość nie ma możliwości zaprzeczenia faktu, że to on ją podpisał, natomiast otrzymujący wiadomość nie ma możliwości zaprzeczenia faktu, iż to on ją zweryfikował. \n",
        "\n",
        "Samo haszowanie wiadomości zapewnia tylko *integirty*, natomiast utworzenie kodu MAC (*Message Authentiaction Code*) zapewnia jedynie *integrity* oraz *authentiaction*.\n",
        "\n",
        "Tworzenie podpisu cyfrowego z wykorzystaniem RSA wygląda odwrotnie niż komunikacja szyfrowana. To znaczy: podpis tworzony jest z wykorzystaniem klucza prywatnego - a więc tylko instancja generująca klucze może wiadomość podpisać. Weryfikacja odbywa się z wykorzystaniem klucza publicznego - czyli każda instancja, której nasz klucz udostępnimy, może podpis zweryfikować. \n",
        "\n",
        "Na początek zaimportujmy niezbędne biblioteki."
      ],
      "metadata": {
        "id": "O4N_EaD6qK27"
      }
    },
    {
      "cell_type": "code",
      "source": [
        "!pip install pycryptodome\n",
        "import Crypto.Util.number as cu\n",
        "import hashlib as hl\n",
        "import math\n",
        "import random"
      ],
      "metadata": {
        "id": "F7OxWY2Mz7BD",
        "colab": {
          "base_uri": "https://localhost:8080/"
        },
        "outputId": "5ac2e824-87ea-41e1-9265-124f5bcb593c"
      },
      "execution_count": 112,
      "outputs": [
        {
          "output_type": "stream",
          "name": "stdout",
          "text": [
            "Looking in indexes: https://pypi.org/simple, https://us-python.pkg.dev/colab-wheels/public/simple/\n",
            "Requirement already satisfied: pycryptodome in /usr/local/lib/python3.9/dist-packages (3.17)\n"
          ]
        }
      ]
    },
    {
      "cell_type": "markdown",
      "source": [
        "**Zadanie 1**\n",
        "\n",
        "Odpowiedz na poniższe pytania. Rozważ sytuację, w której dwie instancje komunikują się ze sobą, a trzecia próbuje dokonywać nieautoryzowanych zmian w treści wiadomości na drodze jej przesyłu.\n",
        "1. Dlaczego haszowanie zapewnia tylko integrity? Podpowiedź: czy haszowanie uwzględnia jakikolwiek klucz prywatny?\n",
        "2. Dlaczego kod MAC nie zapewnia *non-repudiation*? Co (niepożądanego) może dokonać odbierający wiadomość i atakujący komunikację? Podpowiedź: czy kody MAC, w szczególności popularny kod HMAC - który zakłada użycie klucza prywatnego - w jakikolwiek sposób weryfikuje KTO i DO CZEGO go użył? Kto dysponuje, a kto NIE dysponuje kluczem prywatnym HMAC?\n",
        "3. Dlaczego podpis cyfrowy zapewnia wszystkie te trzy cechy?"
      ],
      "metadata": {
        "id": "64vuvjiEuP3M"
      }
    },
    {
      "cell_type": "markdown",
      "source": [
        "1. Haszowanie zapewnia jedynie integralność, ponieważ proces ten polega na przekształceniu wiadomości na wartość skrótu, który można później porównać z wartością skrótu oryginalnej wiadomości. Haszowanie nie uwzględnia klucza prywatnego, ponieważ jest to proces jednostronny - ​​nie jest możliwe odtworzenie oryginalnej wiadomości z wartości skrótu.\n",
        "\n",
        "2. Kod MAC zapewnia poufność i integralność, ale nie zapewnia non-repudiation. Odbiorca wiadomości lub atakujący może nadal przesłać tę samą wiadomość, ponieważ kod MAC nie uwzględnia, kto i do czego go użył. Nawet popularny kod HMAC, który wymaga użycia klucza prywatnego, nie zapewnia non-repudiation, ponieważ klucz prywatny może być udostępniony wielu osobom, a HMAC nie umożliwia identyfikacji konkretnego użytkownika.\n",
        "\n",
        "3. Podpis cyfrowy zapewnia wszystkie trzy cechy, czyli poufność, integralność i non-repudiation. Podpis cyfrowy wykorzystuje klucz prywatny do podpisywania wiadomości, a klucz publiczny do weryfikacji podpisu. Dzięki temu procesowi można jednoznacznie zidentyfikować nadawcę wiadomości i potwierdzić, że wiadomość nie została zmieniona od momentu podpisania."
      ],
      "metadata": {
        "id": "TF-FUs6HS1L0"
      }
    },
    {
      "cell_type": "markdown",
      "source": [
        "## Generowanie kluczy\n",
        "\n",
        "Algorytm generowania kluczy RSA może zostać przedstawiony w następujący sposób:\n",
        "\n",
        "1) Znajdź dwie różne i kryptograficznie bezpieczne liczby pierwsze.\n",
        "\n",
        "2) Oblicz $n = p * q$.\n",
        "\n",
        "3) Oblicz $f = (p - 1) * (q - 1)$.\n",
        "\n",
        "4) Znajdź dowolne $e$, takie, że $1 < e < f$ oraz $GCD(f, e) = 1$. GCD to największy wspólny dzielnik. Para $(e, n)$ to jest **klucz publiczny**.\n",
        "\n",
        "5) Oblicz $d = e^{-1}$ mod $f$. Para $(d, n)$ to **klucz prywatny**, przy czym tajne jest tylko $d$. "
      ],
      "metadata": {
        "id": "2qE7Uzp2xXKM"
      }
    },
    {
      "cell_type": "markdown",
      "source": [
        "W ten sposób generowane parametry byłyby matematycznie poprawne, lecz kryptograficznie niebezpieczne. Ustalmy więc, że chcemy aby nasz klucz publiczny był odpwowiednio długi. Będzie to długość bitowa parametru $n$, oznaczmy ją jako $nlen = 2048$. Parametr $nlen$ zawsze przyjmuje parzyste wartości. Mając to założenie, musimy (**uwzględniając wszystkie założenia z algorytmu generowania kluczy**) dodatkowo zapewnić, że:\n",
        "\n",
        "1. $65537 ≤ e < 2^{256}$\n",
        "2. $LCM(p - 1, q - 1) \\geq e * 2^{nlen/2}$\n",
        "3. $2^{(nlen - 1)//2} < p < 2^{nlen/2}$\n",
        "4. $2^{(nlen - 1)//2} < q < 2^{nlen/2}$\n",
        "5. $|p - q| > 2^{(nlen/2) - 100}$\n",
        "\n",
        "Gdzie LCM oznacza *Least Common Multiple*, czyli najmniejszą wspólną wielokrotność. Funkcję LCM znajdziesz w bibliotece math. Do potęgowania **nie używaj** pythonowej notacji \"**\", tylko metody pow() - przetestuj obie te metody obliczania potęgi i porównaj wydajność (zadanie opcjonalne). Do obliczania wartości bezwzględnej użyj metody abs() - również standardowa metoda pythona. Resztę niezbędnych metod znajdziesz w bibliotece [Crypto.Util.number](https://pycryptodome.readthedocs.io/en/latest/src/util/util.html) zaimpoertowanej jako cu. Opis powyższych założeń możesz znaleźć w [tym](https://nvlpubs.nist.gov/nistpubs/SpecialPublications/NIST.SP.800-56Br2.pdf) dokumencie NIST-owym."
      ],
      "metadata": {
        "id": "1MRcuBhC0UHA"
      }
    },
    {
      "cell_type": "markdown",
      "source": [
        "**Zadanie 2**\n",
        "\n",
        "Uwzględniając wszystko powyższe, napisz metodę/metody generujące wartości $n$, $e$ oraz $d$."
      ],
      "metadata": {
        "id": "5inlXTklGGMv"
      }
    },
    {
      "cell_type": "code",
      "source": [
        "nlen = 2048\n",
        "\n",
        "def gen_p_q():\n",
        "  p, q = cu.getPrime(nlen // 2), cu.getPrime(nlen // 2)\n",
        "  while not (abs(p - q) > pow(2, (nlen // 2) - 100)):\n",
        "    p, q = cu.getPrime(nlen // 2), cu.getPrime(nlen // 2)\n",
        "\n",
        "  return p, q\n",
        "\n",
        "def gen_f_e(p, q):\n",
        "  e = cu.getRandomRange(65537, pow(2, 256))\n",
        "  # e = 65537\n",
        "  f = (p - 1) * (q - 1)\n",
        "  while not math.gcd(f, e):\n",
        "    e = cu.getRandomRange(65537, pow(2, 256))\n",
        "\n",
        "  return f, e\n",
        "\n",
        "def gen_numbers_set():\n",
        "  p, q = gen_p_q()\n",
        "  f, e = gen_f_e(p, q)\n",
        "\n",
        "  while math.lcm(p - 1, q - 1) < e * pow(2, nlen // 2):\n",
        "    p, q = gen_p_q()\n",
        "    f, e = gen_f_e(p, q)\n",
        "\n",
        "  return p, q, f, e\n",
        "\n",
        "def gen_private_key(p, q, f, e):\n",
        "  n = p * q\n",
        "  d = cu.inverse(e, f)\n",
        "\n",
        "  return (d, n)\n",
        "\n",
        "def gen_public_key(p, q, e):\n",
        "  n = p * q\n",
        "\n",
        "  return (e, n)"
      ],
      "metadata": {
        "id": "g0NrTqwxc4gw"
      },
      "execution_count": 113,
      "outputs": []
    },
    {
      "cell_type": "code",
      "source": [
        "gen_numbers_set_success = False\n",
        "err_count = 0\n",
        "\n",
        "while not gen_numbers_set_success:\n",
        "  try:\n",
        "    p, q, f, e = gen_numbers_set()\n",
        "\n",
        "    # print(f'f=\\n{f}')\n",
        "    # print(f'e=\\n{e}')\n",
        "\n",
        "    private_key = gen_private_key(p, q, f, e)\n",
        "    public_key = gen_public_key(p, q, e)\n",
        "    gen_numbers_set_success = True\n",
        "  except ValueError:\n",
        "    err_count += 1\n",
        "    print(f'{err_count} ValueError: base is not invertible for the given modules')\n",
        "\n",
        "# Czesto wywala blad - musi byc jakis scenariusz do pokrycia z f i e - odpalac do skutku\n",
        "# ValueError: base is not invertible for the given modulus"
      ],
      "metadata": {
        "id": "OrBQ2hrihLaS"
      },
      "execution_count": 114,
      "outputs": []
    },
    {
      "cell_type": "code",
      "source": [
        "print(f'd=\\n{private_key[0]}\\n')\n",
        "print(f'n=\\n{private_key[1]}\\n')\n",
        "print(f'private_key =\\n{private_key}\\n')\n",
        "\n",
        "print(400 * '=')\n",
        "print(f'\\n')\n",
        "\n",
        "print(f'e=\\n{public_key[0]}\\n')\n",
        "print(f'n=\\n{public_key[1]}\\n')\n",
        "print(f'private_key =\\n{public_key}')"
      ],
      "metadata": {
        "colab": {
          "base_uri": "https://localhost:8080/"
        },
        "id": "DoCrz6mLldI1",
        "outputId": "17526d1c-04e0-4fa5-9930-87d4ed4127af"
      },
      "execution_count": 115,
      "outputs": [
        {
          "output_type": "stream",
          "name": "stdout",
          "text": [
            "d=\n",
            "4523324168486181923894757978661242165009076853879626071377199309173175328562759466126457311800034745885170170263797214465970591074826344523034441464580519100310333627915347142741116674552600489077416374576424417001034610834635749849839934040065502118752107560528359271104382711762100571796607641655919602931054208310631713386142409301238234935400718367730519954500230776069681946693145713608950046654198514172241340890558271048515934791598164266790963878284038913013850482479212432859308678658637582722983400434874654814943651229235681241975568091559378055929645236787860904495387780952278035780201738178610963018629\n",
            "\n",
            "n=\n",
            "15637875250537014518874081171568258780265376896923457089407483257767721078646164854739879296422736802511530124011418546525906399251864518955309582732227785740936370800557450589929161296143448834827590043470621566933372661941084690214829469563145466602206433325459652317407756461666306107780041503201923659132696273316936892884831717689239826481985424930526051444178600688778048158470579146957939310608839509863813342260251195794968756612058622559742416342927672350277663947519159696360211290929577304948281128317943706785149641341173714492393951610551950344881030992275743850779491184202256552978566509323464626221997\n",
            "\n",
            "private_key =\n",
            "(4523324168486181923894757978661242165009076853879626071377199309173175328562759466126457311800034745885170170263797214465970591074826344523034441464580519100310333627915347142741116674552600489077416374576424417001034610834635749849839934040065502118752107560528359271104382711762100571796607641655919602931054208310631713386142409301238234935400718367730519954500230776069681946693145713608950046654198514172241340890558271048515934791598164266790963878284038913013850482479212432859308678658637582722983400434874654814943651229235681241975568091559378055929645236787860904495387780952278035780201738178610963018629, 15637875250537014518874081171568258780265376896923457089407483257767721078646164854739879296422736802511530124011418546525906399251864518955309582732227785740936370800557450589929161296143448834827590043470621566933372661941084690214829469563145466602206433325459652317407756461666306107780041503201923659132696273316936892884831717689239826481985424930526051444178600688778048158470579146957939310608839509863813342260251195794968756612058622559742416342927672350277663947519159696360211290929577304948281128317943706785149641341173714492393951610551950344881030992275743850779491184202256552978566509323464626221997)\n",
            "\n",
            "================================================================================================================================================================================================================================================================================================================================================================================================================\n",
            "\n",
            "\n",
            "e=\n",
            "71980838361480188068992011426076161405548657164155623754530746349583300374169\n",
            "\n",
            "n=\n",
            "15637875250537014518874081171568258780265376896923457089407483257767721078646164854739879296422736802511530124011418546525906399251864518955309582732227785740936370800557450589929161296143448834827590043470621566933372661941084690214829469563145466602206433325459652317407756461666306107780041503201923659132696273316936892884831717689239826481985424930526051444178600688778048158470579146957939310608839509863813342260251195794968756612058622559742416342927672350277663947519159696360211290929577304948281128317943706785149641341173714492393951610551950344881030992275743850779491184202256552978566509323464626221997\n",
            "\n",
            "private_key =\n",
            "(71980838361480188068992011426076161405548657164155623754530746349583300374169, 15637875250537014518874081171568258780265376896923457089407483257767721078646164854739879296422736802511530124011418546525906399251864518955309582732227785740936370800557450589929161296143448834827590043470621566933372661941084690214829469563145466602206433325459652317407756461666306107780041503201923659132696273316936892884831717689239826481985424930526051444178600688778048158470579146957939310608839509863813342260251195794968756612058622559742416342927672350277663947519159696360211290929577304948281128317943706785149641341173714492393951610551950344881030992275743850779491184202256552978566509323464626221997)\n"
          ]
        }
      ]
    },
    {
      "cell_type": "markdown",
      "source": [
        "## Naiwne szyfrowanie i deszyfrowanie"
      ],
      "metadata": {
        "id": "wae-whoNGlz_"
      }
    },
    {
      "cell_type": "markdown",
      "source": [
        "\n",
        "Naiwny algorytm szyfrowania wiadomości **M** z wykorzystaniem RSA:\n",
        "\n",
        "1) Zakoduj $M$ jako liczbę.\n",
        "\n",
        "2) Oblicz: $C = M^e$ mod $n$."
      ],
      "metadata": {
        "id": "fESNrzCYNVfy"
      }
    },
    {
      "cell_type": "markdown",
      "source": [
        "Naiwny algorytm deszyfrowania kryptogramu **C** z wykorzystaniem RSA:\n",
        "\n",
        "1) $M = C^d$ mod $n$.\n",
        "\n",
        "2) Zdekoduj wiadomość $M$ do jej pierwotnej postaci (np. stringa). \n"
      ],
      "metadata": {
        "id": "FQvVgWWrHBX2"
      }
    },
    {
      "cell_type": "markdown",
      "source": [
        "**Zadanie 3**\n",
        "\n",
        "Napisz metody szyfrujące i deszyfrujące wiadomość $M$ zgodnie z powyższym algorytmem. Zaszyfruj wiadomość, zdeszyfruj i wypisz oryginalny tekst na ekranie. Odpowiedz na pytanie: jaki warunek musi spełniać liczbowa reprezentacja wiadomości $M$, aby można ją było poprawnie zaszyfrować i zdeszyfrować?"
      ],
      "metadata": {
        "id": "mFRFP0BsHc9l"
      }
    },
    {
      "cell_type": "markdown",
      "source": [
        "Wiadomość musi być mniejsza lub równa liczbie $n$, w przeciwnym wypadku należy podzielić ją na bloki."
      ],
      "metadata": {
        "id": "_FMXzsjT0i3X"
      }
    },
    {
      "cell_type": "code",
      "source": [
        "def str2num(text):\n",
        "  print(f'str2num::text = {text}')\n",
        "  conv = text.encode('utf-8')\n",
        "  number = int.from_bytes(conv, byteorder='big')\n",
        "  return number\n",
        "\n",
        "def num2str(number):\n",
        "  # number.bit_length() - liczba bitów potrzebnych do zapisania liczby\n",
        "  # dodanie 7 i podzielenie całości przez 8 (wynik całkowity) pozwala na zaokrąglenie w górę do pełnej liczby, co pozwala na prawidłową konwersję na tekst\n",
        "  conv = number.to_bytes((number.bit_length() + 7) // 8, byteorder='big')\n",
        "  text = conv.decode('utf-8')\n",
        "  return text"
      ],
      "metadata": {
        "id": "DMxSsIloqE1U"
      },
      "execution_count": 146,
      "outputs": []
    },
    {
      "cell_type": "code",
      "source": [
        "def encryptRSA(M, public_key):\n",
        "  M = str2num(M)\n",
        "  e, n = public_key\n",
        "  C = pow(M, e, n) # nie dawać n poza modulo - liczy sie w nieskonczonosc!\n",
        "  return C\n",
        "\n",
        "def decryptRSA(C, private_key):\n",
        "  d, n = private_key\n",
        "  M = pow(C, d, n)\n",
        "  return num2str(M)"
      ],
      "metadata": {
        "id": "La2FPCUHtmTH"
      },
      "execution_count": 117,
      "outputs": []
    },
    {
      "cell_type": "code",
      "source": [
        "M = 'Ala ma kota'\n",
        "\n",
        "print(str2num(M))\n",
        "print(num2str(str2num(M)))"
      ],
      "metadata": {
        "id": "N3y7NMf_HkuB",
        "colab": {
          "base_uri": "https://localhost:8080/"
        },
        "outputId": "92150065-4c4a-4211-d618-904750853b4b"
      },
      "execution_count": 118,
      "outputs": [
        {
          "output_type": "stream",
          "name": "stdout",
          "text": [
            "79091985525906541409956961\n",
            "Ala ma kota\n"
          ]
        }
      ]
    },
    {
      "cell_type": "code",
      "source": [
        "msg_enc = encryptRSA(M, public_key)"
      ],
      "metadata": {
        "id": "jVEmqK2s2fUN"
      },
      "execution_count": 119,
      "outputs": []
    },
    {
      "cell_type": "code",
      "source": [
        "print(f'Encrypted M = \\n{msg_enc}')"
      ],
      "metadata": {
        "colab": {
          "base_uri": "https://localhost:8080/"
        },
        "id": "BGVJp1kw2x6K",
        "outputId": "f0bd5451-fa36-4599-8da1-53b9e082f017"
      },
      "execution_count": 120,
      "outputs": [
        {
          "output_type": "stream",
          "name": "stdout",
          "text": [
            "Encrypted M = \n",
            "15043479762734672107125844105030224932426522402995086219475746181177742121118855713227708229896521840183905071681662321736164091064853612880480269750499316697602896668105829028862391376468695805561885331150022112220362292020341175807716104622530742589499638619740800805449736229656958744154420400064144998272693053300935943421398361794814936896667629735554074915373572717348265896201824192699640908438489166253653449445149268877247077690169753899521178722168894392517477635512353640118147663106912763064356363850283712731958391459386744450498496940765019125938050187012335704399366459566237639629528583517061359350591\n"
          ]
        }
      ]
    },
    {
      "cell_type": "code",
      "source": [
        "msg_dec = decryptRSA(msg_enc, private_key)"
      ],
      "metadata": {
        "id": "2-2NosFi3beu"
      },
      "execution_count": 121,
      "outputs": []
    },
    {
      "cell_type": "code",
      "source": [
        "print(f'Decrypted M = \\n{msg_dec}')"
      ],
      "metadata": {
        "colab": {
          "base_uri": "https://localhost:8080/"
        },
        "id": "8xcr-uqV3kOX",
        "outputId": "7890b6f8-8033-4619-9e20-5a092c0d25bb"
      },
      "execution_count": 122,
      "outputs": [
        {
          "output_type": "stream",
          "name": "stdout",
          "text": [
            "Decrypted M = \n",
            "Ala ma kota\n"
          ]
        }
      ]
    },
    {
      "cell_type": "markdown",
      "source": [
        "## Naiwny schemat podpisu cyfrowego"
      ],
      "metadata": {
        "id": "NjF8Fr_dN0s6"
      }
    },
    {
      "cell_type": "markdown",
      "source": [
        "Naiwna metoda tworzenia podpisu z wiadmości $M$:\n",
        "\n",
        "1) Oblicz $h = H(M)$. H to uzgodniona funkcja skrótu, niech to będzie SHA-256.\n",
        "\n",
        "2) Zakoduj $h$ jako liczbę.\n",
        "\n",
        "3) Oblicz $SIG = h^d$ mod $n$.\n",
        "\n",
        "4) Wyślij parę $(M, SIG)$ weryfikującemu."
      ],
      "metadata": {
        "id": "AsvkSf9zN4i8"
      }
    },
    {
      "cell_type": "markdown",
      "source": [
        "Naiwna metoda weryfikacji podpisu $(M, SIG)$:\n",
        "\n",
        "1) Oblicz $h = H(M)$. H to uzgodniona funkcja skrótu, niech to będzie SHA-256.\n",
        "\n",
        "2) Zakoduj $h$ jako liczbę.\n",
        "\n",
        "3) Oblicz $VER = SIG^e$ mod $n$.\n",
        "\n",
        "4) Jeżeli $VER = h$, weryfikacja przebiegła pomyślnie, a w przeciwnym razie niepomyślnie."
      ],
      "metadata": {
        "id": "xcMiT4DhOoOt"
      }
    },
    {
      "cell_type": "markdown",
      "source": [
        "**Zadanie 4**\n",
        "\n",
        "Zaimplementuj naiwną metodę tworzenia i weryfikowania podpisu cyfrowego RSA."
      ],
      "metadata": {
        "id": "Jx86zFg6PDDs"
      }
    },
    {
      "cell_type": "code",
      "source": [
        "def create_SIG(M, key):\n",
        "  h = hl.sha256(M.encode('utf-8')).hexdigest()\n",
        "  SIG = encryptRSA(h, key)\n",
        "  return M, SIG\n",
        "\n",
        "def verify_SIG(M, SIG, key):\n",
        "  h = hl.sha256(M.encode('utf-8')).hexdigest()\n",
        "  VER = decryptRSA(SIG, key)\n",
        "\n",
        "  if VER == h:\n",
        "    return True\n",
        "  else:\n",
        "    return False"
      ],
      "metadata": {
        "id": "Y7OSfmf0PJ2Q"
      },
      "execution_count": 123,
      "outputs": []
    },
    {
      "cell_type": "code",
      "source": [
        "M = 'Ala ma kota'"
      ],
      "metadata": {
        "id": "qqJwP_RlBzWh"
      },
      "execution_count": 124,
      "outputs": []
    },
    {
      "cell_type": "code",
      "source": [
        "sigmsg, sig = create_SIG(M, private_key)\n",
        "verify_SIG(sigmsg, sig, public_key)"
      ],
      "metadata": {
        "colab": {
          "base_uri": "https://localhost:8080/"
        },
        "id": "jtzmSLxq8FKE",
        "outputId": "ae030e01-fc14-4482-fba2-2fbd74610f26"
      },
      "execution_count": 125,
      "outputs": [
        {
          "output_type": "execute_result",
          "data": {
            "text/plain": [
              "True"
            ]
          },
          "metadata": {},
          "execution_count": 125
        }
      ]
    },
    {
      "cell_type": "code",
      "source": [
        "M2 = 'Kot ma Ale'"
      ],
      "metadata": {
        "id": "4Zk5tFASB19V"
      },
      "execution_count": 126,
      "outputs": []
    },
    {
      "cell_type": "code",
      "source": [
        "verify_SIG(M2, sig, public_key)"
      ],
      "metadata": {
        "colab": {
          "base_uri": "https://localhost:8080/"
        },
        "id": "WRGY2sIU8cXt",
        "outputId": "20343720-a367-434e-d0d4-5b5c17435ff2"
      },
      "execution_count": 127,
      "outputs": [
        {
          "output_type": "execute_result",
          "data": {
            "text/plain": [
              "False"
            ]
          },
          "metadata": {},
          "execution_count": 127
        }
      ]
    },
    {
      "cell_type": "markdown",
      "source": [
        "## MGF 1\n",
        "\n",
        "W dalszej części laboratoriów będziemy potrzebowali generować maskę. Jedynym zatwierdzonym algorytmem który do tego służy jest *Mask Generation Function 1*, opisany w [RFC 8017](https://www.rfc-editor.org/rfc/rfc8017). Jest on stosunkowo prosty. "
      ],
      "metadata": {
        "id": "-6MsXDuaIj2C"
      }
    },
    {
      "cell_type": "markdown",
      "source": [
        "Parametry wejściowe:\n",
        "\n",
        "1) M - bajty wiadomości.\n",
        "\n",
        "2) len - pożądana długość zwórconej maski w bajtach.\n",
        "\n",
        "3) H - wybrana funkcja skrótu, zwracająca $n$ bitowy skrót. Niech to będzie SHA-256. Dla wygody przyjmijmy też, że $hlen = n / 8$ oznacza liczbę bajtów zwracaną przez naszą funkcję skrótu.\n",
        "\n",
        "Wyjściem funkcji są bajty tworzące maskę."
      ],
      "metadata": {
        "id": "wXuwYrpsJzkU"
      }
    },
    {
      "cell_type": "markdown",
      "source": [
        "Algorytm MGF-1:\n",
        "\n",
        "1) Dla 32-biotwego integera $i = 0, ..., ⌈ \\frac{len}{hlen}⌉ - 1$ wykonuj kroki 2 i 3.\n",
        "\n",
        "2) Oblicz tmp = H(M || i). Znak || to konkatenacja i chodzi tu o bajty wiadomości M oraz reprezentację w bajtach 32-bitowego itegera $i$.\n",
        "\n",
        "3) Oblicz output = output || tmp.\n",
        "\n",
        "4) Zwróc $len$ wiodących bajtów zmiennej output."
      ],
      "metadata": {
        "id": "oriQJLCvJ0vM"
      }
    },
    {
      "cell_type": "markdown",
      "source": [
        "**Zadanie 5**\n",
        "\n",
        "Zaprogramuj i przetestuj dla dowolnych wartości funkcję MGF1."
      ],
      "metadata": {
        "id": "o-AkA1mHK7cp"
      }
    },
    {
      "cell_type": "code",
      "source": [
        "def MGF1(M, len, H=hl.sha256, hlen=256//8):\n",
        "  if not isinstance(M, bytes):\n",
        "    M = bytes(M, 'utf-8')\n",
        "\n",
        "  output = bytes()\n",
        "\n",
        "  for i in range(0, math.ceil(len / hlen)):\n",
        "    tmp = H(M + i.to_bytes(4, byteorder='big')).digest() # 4 bytes = size of int\n",
        "    output = output + tmp\n",
        "  return output[:len]"
      ],
      "metadata": {
        "id": "rrBuKJWZLCV9"
      },
      "execution_count": 128,
      "outputs": []
    },
    {
      "cell_type": "code",
      "source": [
        "MGF1('', 4)"
      ],
      "metadata": {
        "colab": {
          "base_uri": "https://localhost:8080/"
        },
        "id": "HlM-ipSGHZZs",
        "outputId": "d443019e-ad47-4ec6-c774-8bf55db6db01"
      },
      "execution_count": 129,
      "outputs": [
        {
          "output_type": "execute_result",
          "data": {
            "text/plain": [
              "b'\\xdf?a\\x98'"
            ]
          },
          "metadata": {},
          "execution_count": 129
        }
      ]
    },
    {
      "cell_type": "code",
      "source": [
        "MGF1('', 8)"
      ],
      "metadata": {
        "colab": {
          "base_uri": "https://localhost:8080/"
        },
        "id": "8PIgLFcRHYPz",
        "outputId": "9415c57e-96ad-4d86-e190-d7fcb7750b2d"
      },
      "execution_count": 130,
      "outputs": [
        {
          "output_type": "execute_result",
          "data": {
            "text/plain": [
              "b'\\xdf?a\\x98\\x04\\xa9/\\xdb'"
            ]
          },
          "metadata": {},
          "execution_count": 130
        }
      ]
    },
    {
      "cell_type": "code",
      "source": [
        "MGF1('', 16)"
      ],
      "metadata": {
        "colab": {
          "base_uri": "https://localhost:8080/"
        },
        "id": "lrxjutwaHXPd",
        "outputId": "2339d81e-b92f-4f2a-e53f-040df72e2611"
      },
      "execution_count": 131,
      "outputs": [
        {
          "output_type": "execute_result",
          "data": {
            "text/plain": [
              "b'\\xdf?a\\x98\\x04\\xa9/\\xdb@W\\x19-\\xc4=\\xd7H'"
            ]
          },
          "metadata": {},
          "execution_count": 131
        }
      ]
    },
    {
      "cell_type": "code",
      "source": [
        "M = 'Ala ma kota'"
      ],
      "metadata": {
        "id": "CkhJPdRmHi6L"
      },
      "execution_count": 132,
      "outputs": []
    },
    {
      "cell_type": "code",
      "source": [
        "MGF1(M, 5)"
      ],
      "metadata": {
        "colab": {
          "base_uri": "https://localhost:8080/"
        },
        "id": "NfQFaJpsHjUE",
        "outputId": "5dc4a6fa-f980-4f77-82eb-aca1d6fd8c5c"
      },
      "execution_count": 133,
      "outputs": [
        {
          "output_type": "execute_result",
          "data": {
            "text/plain": [
              "b'O\\x82y,\\xd5'"
            ]
          },
          "metadata": {},
          "execution_count": 133
        }
      ]
    },
    {
      "cell_type": "code",
      "source": [
        "MGF1(M, 10)"
      ],
      "metadata": {
        "colab": {
          "base_uri": "https://localhost:8080/"
        },
        "id": "FvYqb8tjHmx1",
        "outputId": "da6566ba-1fd3-4168-dff7-64f41352161b"
      },
      "execution_count": 134,
      "outputs": [
        {
          "output_type": "execute_result",
          "data": {
            "text/plain": [
              "b'O\\x82y,\\xd5\\x98\\x18\\xc5B7'"
            ]
          },
          "metadata": {},
          "execution_count": 134
        }
      ]
    },
    {
      "cell_type": "code",
      "source": [
        "MGF1(M, 20)"
      ],
      "metadata": {
        "colab": {
          "base_uri": "https://localhost:8080/"
        },
        "id": "5djytWVGHnv-",
        "outputId": "fab2c518-f838-4047-e86e-f54164af2ecb"
      },
      "execution_count": 135,
      "outputs": [
        {
          "output_type": "execute_result",
          "data": {
            "text/plain": [
              "b'O\\x82y,\\xd5\\x98\\x18\\xc5B7\\xc4YT\\xe6\\xfa\\x82\\xdd\\x08\\xc8\\x8d'"
            ]
          },
          "metadata": {},
          "execution_count": 135
        }
      ]
    },
    {
      "cell_type": "markdown",
      "source": [
        "## OAEP\n",
        "\n",
        "Nasz schemat ma na ten moment jedną sporą wadę, mianowicie rozmiar szyfrowanej wiadomości może być zbyt mały, czyniąc algorytm mniej bezpiecznym. Aby tego uniknąć, używamy algorytmu paddingu opisanego w [RFC 8017](https://www.rfc-editor.org/rfc/rfc8017#section-8), który zwie się *Optimal Assymetric Encryption Padding*."
      ],
      "metadata": {
        "id": "K3gM9vGyPtna"
      }
    },
    {
      "cell_type": "markdown",
      "source": [
        "### OAEP encoding"
      ],
      "metadata": {
        "id": "PFJW4wW5QjjH"
      }
    },
    {
      "cell_type": "markdown",
      "source": [
        "Parametry wejściowe:\n",
        "\n",
        "1) $H$ - funkcja skrótu SHA-256, oraz $hlen$ czyli długość zwracanego skrótu w bajtach.\n",
        "\n",
        "2) $k$ - długość liczby $n$ wyrażona w bajtach.\n",
        "\n",
        "3) $mlen$ - długość wiadomości wyrażona w bajtach.\n",
        "\n",
        "4) $M$ - bajty wiadomości.\n",
        "\n",
        "5) $mgf1$ - Mask Generation Function 1."
      ],
      "metadata": {
        "id": "0BTXF8j6Reel"
      }
    },
    {
      "cell_type": "markdown",
      "source": [
        "Algorytm:\n",
        "\n",
        "1) Jeżeli $mlen > k - 2*hlen - 2$ zwróc błąd.\n",
        "\n",
        "2) Oblicz: $lHash = H(\"\")$.\n",
        "\n",
        "3) Wygeneruj tablicę bajtów $PS$ składającą się z $k - mlen - 2*hlen - 2$ bajtów o wartości 0x00. Rozmiar $PS$ może wynosić 0.\n",
        "\n",
        "4) Oblicz: $DB = lHash || PS || 0x01 || M$. Długość $DB$ powinna wynosić $k - hlen - 1$ bajtów.\n",
        "\n",
        "5) Wygeneruj losową tablicę bajtów $seed$ o rozmiarze $hlen$.\n",
        "\n",
        "6) Oblicz: $dbMask = mgf1(seed, k - hlen - 1)$.\n",
        "\n",
        "7) Oblicz: $maskedDB = DB ⊕ dbMask$.\n",
        "\n",
        "8) Oblicz: $seedMask = mgf1(maskedDB, hlen)$.\n",
        "\n",
        "9) Oblicz: $maskedSeed = seed ⊕ seedMask$.\n",
        "\n",
        "10) Oblicz: $EM = 0x00 || maskedSeed || maskedDB$. Długość $EM$ powinna wynosić $k$.\n",
        "\n",
        "11) Zwróc $EM$."
      ],
      "metadata": {
        "id": "YWse9bSFRfmu"
      }
    },
    {
      "cell_type": "markdown",
      "source": [
        "### OAEP decoding"
      ],
      "metadata": {
        "id": "lwJfZ28SUeKC"
      }
    },
    {
      "cell_type": "markdown",
      "source": [
        "Parametry wejściowe:\n",
        "\n",
        "1) $H$ - funkcja skrótu SHA-256, oraz $hlen$ czyli długość zwracanego skrótu w bajtach.\n",
        "\n",
        "2) $k$ - rozmiar EM wyrażony w bajtach.\n",
        "\n",
        "3) $mgf1$ - Mask Generation Function 1.\n",
        "\n",
        "4) $EM$ - bajty zakodowanej wiadomości."
      ],
      "metadata": {
        "id": "i21JfT9TUlXN"
      }
    },
    {
      "cell_type": "markdown",
      "source": [
        "Algorytm:\n",
        "\n",
        "1) Rozpakuj tablicę bajtów $EM$. Jej pierwszy bajt (najbardziej znaczący) przypisz do $Y$. Kolejne $hlen$ bajtów przypisz do $maskedSeed$, resztę do $maskedDB$. Czyli $EM = Y || maskedSeed || maskedDB$.\n",
        "\n",
        "2) Oblicz: $lHash = H(\"\")$.\n",
        "\n",
        "3) Oblicz: $seedMask = mgf1(maskedDB, hlen)$.\n",
        "\n",
        "4) Oblicz: $seed = maskedSeed ⊕ seedMask$.\n",
        "\n",
        "5) Oblicz: $dbMask = mgf1(seed, k - hlen - 1)$.\n",
        "\n",
        "6) Oblicz: $DB = maskedDB ⊕ dbMask$.\n",
        "\n",
        "7) Rozpkauj tablicę bakjtów $DB$. Pierwsze (najbardziej znaczące) $hlen$ bajtów przypisz do zmiennej $lHash'$. Następne $k - mlen - 2*hlen - 2$ bajtów do PS. Kolejny pojedynczy bajt powinien wynosić 0x01, jeżeli jest inaczej zwróć błąd i **zakończ działanie**. Resztę bajtów przypsiz do zmiennej $M$. Czyli: $DB = lHash' || PS || 0x01 || M$. \n",
        "\n",
        "8) Jeżeli $Y \\neq 0x00$ zwróć błąd i **zakończ działanie**.\n",
        "\n",
        "9) Jeżeli $lHash \\neq lHash'$ zwróć błąd i **zakończ działanie**.\n",
        "\n",
        "10) Zwróc $M$."
      ],
      "metadata": {
        "id": "Toe-FHBzU1n-"
      }
    },
    {
      "cell_type": "markdown",
      "source": [
        "**Zadanie 6**\n",
        "\n",
        "Zaproogramuj kodowanie i dekodowanie OAEP. Zmodyfikuj algorytm szyfrowania RSA, tak, aby przed zaszyfrowaniem wiadomość była paddingowana. Zmodyfikuj algorytm deszyfrowania tak, aby po zdeszyfrowaniu konieczne było wywołanie metody dekodowania OAEP w celu odzyskania wiadomości."
      ],
      "metadata": {
        "id": "A0yx2wepX4n1"
      }
    },
    {
      "cell_type": "code",
      "source": [
        "def bytes_xor(n1, n2):\n",
        "  result = int.from_bytes(n1, byteorder='big') ^ int.from_bytes(n2, byteorder='big')\n",
        "  result = result.to_bytes((result.bit_length() + 7) // 8, byteorder='big')\n",
        "  return result"
      ],
      "metadata": {
        "id": "oeeS3sjeTC5X"
      },
      "execution_count": 136,
      "outputs": []
    },
    {
      "cell_type": "code",
      "source": [
        "def OAEP_encode(k, M, H=hl.sha256, hlen=256//8, mgf=MGF1):\n",
        "  mlen = len(M)\n",
        "  # print(f'mlen = {mlen}')\n",
        "  if mlen > k - 2 * hlen - 2:\n",
        "    raise ValueError('Algorithm pt. 1: \"mlen > k - 2 * hlen - 2\" criterium met (message is too long)')\n",
        "\n",
        "  # print(f'OAEP_encode::M = {M}')\n",
        "  if not isinstance(M, bytes):\n",
        "    M = bytes(M, 'utf-8')\n",
        "\n",
        "  lHash = H(b'').digest()\n",
        "\n",
        "  PS = bytes(k - mlen - 2 * hlen - 2)\n",
        "  # print(PS)\n",
        "\n",
        "  DB = lHash + PS + b'\\x01' + M\n",
        "  # print(f'len(DB) = {len(DB)}')\n",
        "  # print(f'(k - hlen - 1) = {(k - hlen - 1)}')\n",
        "\n",
        "  if len(DB) != (k - hlen - 1):\n",
        "    raise ValueError('Algorithm pt. 4: \"len(DB) == (k - hlen - 1)\" criterium not met')\n",
        "  \n",
        "  seed = b''.join([cu.getRandomRange(0, 256).to_bytes(1, byteorder='big') for _ in range(hlen)])\n",
        "  # print(seed)\n",
        "\n",
        "  dbMask = mgf(seed, k - hlen - 1)\n",
        "  maskedDB = bytes_xor(DB, dbMask) # DB ^ dbMask\n",
        "  # print(maskedDB)\n",
        "  seedMask = mgf(maskedDB, hlen)\n",
        "  maskedSeed = bytes_xor(seed, seedMask) # seed ^ seedMask\n",
        "\n",
        "  EM = b'\\x00' + maskedSeed + maskedDB\n",
        "\n",
        "  if len(EM) != k:\n",
        "    raise ValueError('Algorithm pt. 10: \"len(EM) == k\" criterium not met')\n",
        "  \n",
        "  return EM\n",
        "\n",
        "def OAEP_decode(k, EM, mlen, H=hl.sha256, hlen=256//8, mgf=MGF1):\n",
        "  # print(f'EM = {EM}')\n",
        "  # print(f'mlen = {mlen}')\n",
        "  Y = EM[0]\n",
        "\n",
        "  # print(f'Y = \\n{Y.to_bytes(1, byteorder='big')}')\n",
        "\n",
        "  if not Y.to_bytes(1, byteorder='big') == b'\\x00':\n",
        "    raise ValueError('Algorithm pt. 8: \"Y == b\\\\x00\" criterium not met')\n",
        "\n",
        "  maskedSeed = EM[1:hlen + 1] # desc tells that it should be hlen but hlen + 1 is ok\n",
        "  maskedDB = EM[hlen + 1::]\n",
        "  \n",
        "  # print(f'maskedSeed = \\n{maskedSeed}')\n",
        "  # print(f'maskedDB = \\n{maskedDB}')\n",
        "\n",
        "  lHash = H(b'').digest()\n",
        "  seedMask = mgf(maskedDB, hlen)\n",
        "  seed = bytes_xor(maskedSeed, seedMask)\n",
        "  dbMask = mgf(seed, k - hlen - 1)\n",
        "  DB = bytes_xor(maskedDB, dbMask)\n",
        "\n",
        "  # print(f'DB = \\n{DB}')\n",
        "\n",
        "  lHash_prim = DB[:hlen]\n",
        "  # print(f'lHash_prim = \\n{lHash_prim}')\n",
        "  # print(f'lHash = \\n{lHash}')\n",
        "\n",
        "  if not lHash == lHash_prim:\n",
        "    raise ValueError('Algorithm pt. 9: \"lHash == lHash_prim\" criterium not met')\n",
        "\n",
        "  PS = DB[hlen:(k - mlen - hlen - 2)] # (k - mlen - hlen - 2) instead of (k - mlen - 2 * hlen - 2)\n",
        "  \n",
        "  # print(f'PS = \\n{PS}')\n",
        "  # print(f'k - mlen - 2 * hlen - 2) = \\n{(k - mlen - hlen - 2)}')\n",
        "\n",
        "  if not DB[(k - mlen - hlen - 2):(k - mlen - hlen - 2) + 1] == b'\\x01':\n",
        "    raise ValueError('Algorithm pt. 7: \"DB[(k - mlen - 2 * hlen - 2) + 1] == b\\\\x01\" criterium not met')\n",
        "  \n",
        "  M = DB[(k - mlen - hlen - 2) + 1::]\n",
        "\n",
        "  # return M.decode('utf-8')\n",
        "  return M"
      ],
      "metadata": {
        "id": "-XNdRTSJI31Q"
      },
      "execution_count": 211,
      "outputs": []
    },
    {
      "cell_type": "code",
      "source": [
        "M = 'Ala ma kota'\n",
        "\n",
        "OAEP_encode_res = OAEP_encode(nlen, M)\n",
        "print(f'OAEP encode result: \\n{OAEP_encode_res}')\n",
        "\n",
        "OAEP_decode_res = OAEP_decode(nlen, OAEP_encode_res, len(M))\n",
        "print(f'OAEP decode result: \\n{OAEP_decode_res.decode(\"utf-8\")}')"
      ],
      "metadata": {
        "id": "sA1oCpziYT6z",
        "colab": {
          "base_uri": "https://localhost:8080/"
        },
        "outputId": "b2bcfb08-4c2b-4c0b-9195-402b110d2cdc"
      },
      "execution_count": 204,
      "outputs": [
        {
          "output_type": "stream",
          "name": "stdout",
          "text": [
            "OAEP_encode::M = Ala ma kota\n",
            "OAEP encode result: \n",
            "b'\\x00v\\x0f\\xf21\\xcaNl\\xe9\\xadgH\\xf2\\xddD+;\\xd4@8H\\x1e\\xd9\\xb9\\xfcv \\xcd\\xc2*\\x8cd\\xe8X!\\x0f\\x96\\x80A\\x1a\\xf5G\\xadb9^ga\\xac~O\\xdc\\xd6\\r\\x82\\r\\xfc0\\xb9\\x1b\\x92j\\xb3\\x1b\\xe0\\xbb\\xfe\\x1b\\x80Z\\xbdq\\xf5\\xe6\\xfd\\t;\\xaa#\\x99\\x033\\x16y\\xfbFb\\x7f\\xd61\\xb4\\xcd\\xe6\\xecU*\\xfc\\xd2\\xe1\\x7fj\\x82\\x94\\x8c\\xfcL\\xdaYJ<K\\x98(\\xa6\\x8fP\\xea\\xb7]\\xc7\\xd6?\\'z=\\xe8\\x00]\\xbc\\xd30\\xc9\\xc3\\xb4\\xe8A\\x97\\xa1\\xcf\\x94?\\x03\\x12\\xd8m\\xf0\\x9bn\\xed\\xcf\\xe2p\\xe7\\xd6\\xb7\\xdc\\x90uy\\x90X\\xb4K\\t\\xa7&\\xd4\\x0c3\\x13\\x83fK\\xd6\\xce\\x02\\xd8\\xbf\\xbfi^\\x96\\xba/\\xbd\\xceZ\\xc9\\x1dE\\x1cg\\x8bo\\x1e{.\\xf7\\xae\"b\\xd5\\x9aK\\xf2R\\n\\xc7\\x02\\x9e\\xfa\\xe0\\xfdO{\\xd1A\\x08\\x0eA\\xfa\\xd9$-N\\xd3\\xddJ;\\x05\\xd2\\x98\\xe6hqz\\xce\\x90\\xe2\\xd3\\xf5\\xe9\\x15\\xcf\\t\\xe0\\x96K/\\xfcp\\x93\\xf3!DP\\x8e\\x9a\\x1a\\xaa\\xba\\xe0\\x98l\\xec\\xb3\\xe7\\xd1N\\xebk\\xc7\\x08\\x04\\x13\\rg\\tPOx\\xc1\\xcc\\x81KKs^\\x1c\\xd5\\x9d\\x96\\xfc\\x10\\xe5\\xdd\\xfe\\xb4\\xf6}Wu\\xa2]\\x8aQ\\x9c\\xe7\\x83\\xa4\\xe1\\xb2\\xa0\\xe9\\x8fi\\x91O&\\xc47\\xf8~\\xe8\\x1d|H\\x9c\\x9d\\xb6\\xb3\\xda>\\x83]a\\xfb\\xfb\\xda\\xd8o\\xee\\xab\\x01\\xff\\x8d\\x9d\\xc3y;\\xd56\\xc8\\x94\"\\xe2\\x8dB\\x0b\\x0cn\\'\\xf1v~\\xe4\\xd7\\r\\xd6\\xc3<\\xe5\\xb6)\\xc0\\x01O4O8\\xcd\\xf1\\xa0K\\xe3\\x08\\xef\\x01r\\xd0\\x1f\\xe3XT\\x88\\xab\\x9a\\xe8\\xddF\\xd67\\xe5\\xd6\\xd38\\xd4V]I\\x00kx\\xa99\\x9e6\\xa91\\xe7K\\x12\\xd5F\\xb7\\xf7\\x94\\x9c\\xef!\\xf0Y3\\xd1\\xb6\\xa4\\x80\\r\\xf0\\xde\\x8a\\xd0\\\\kW\\xaa\\xf1@.r4\\xde9\\xa8g\\xc1\\x87+\\x97\\xbc\\x93\\x06a\\xf5\\xf4\\xf1\\xdazoq4\\xda<i\\xa1\\x85\\x827z\\xfe\\xadxo\\x99\\xb3\\xb4\\xf5W2F\\x97\\xd7\\xe7\\x8f\\x7f\\x81:v\\xe8^\\x9a\\xa8\\xf0\\x04\\xcf\\x1aF\\xa1mp!\\xd40x\\x93\\x97\\xc2\\xe15E\\xed5\\xaaC3\\xf9O\\xab\\xb8\\xa3\\xbb\\xd5\\xa2\\\\2\\x9b\\xeb\\x85\\xdcbfvP\\x08\\x9c=yK\\xc7U\\x8e\\xf38\\xbe\\xe4\\xb2k\\xc1\\xdf\\xd7\\x83\\x10\\xf2a\\xc8\\xea\\xa3\\xaa<\\xfc\\x10\\xf2\\xe5J\\xbcsj\\x1e\\xd7rY\\xe9\\xd5oo\\xae\\x15\\x8bx\\x0f\\xf9\\x980\\\\9(\\x94\\x05\\xa7\\x14:\\xd9\\xaf\\xe2\\xef\\xef\\xdaS\\x03\\xfeoi\\xaf\\xa8\\xad\\x14\\tL\\x03\\x89\\xaa+I\\x10Dc\\xb3\\x81#U\\xd9#\\xef\\xd9\\x84\\x9bM\\xa3Q\\x95\\xa4`\\xf7*v(=\\xb9\\xc4O\\x8eD ]\\x15\\xe5\\xc1\\xd8\\x9f\\x82\\x1b\\x92\\xfc\\x91\\xe0}.>`R\\xf2c\\xd5M\\\\\\xfa\\xb6\\xeb\\xef\\xab\\xd3\\n\\xe1gy*\\xef\\x07\\xd0\\x8615e\\x1c\\xdf9r\\xaa\\x86\\xa5\\xb9=*\\xb6\\x8f9\\xdc2Q\\xc4\\xff\\xde\\x87_U\\xe7\\x07>\\xb4\\xc2\\xd7ED[\\x93B\\x94\\xa29\\xe7t%\\xe55\\x9b\\xf0#\\x80\\x0b\\xfaD\\xaf%@\\xa9\\x17\\x83\\x96s\\x99\\x1c\\xcf\\xa6\\xe0g!\\x1d?\\x8d\\xa3?_V\\xb7ocf\\x04\\x809-\\x898`\\xb1\\xc1\\xc7\\xf3j\\xd3\\x95\\x937\\xc7\\xd9\\\\\\xbc\\x1b\\x12\\xbf\\xcb\\xad\\xcf\\xd8WYOH4\\xc9\\xa7\\x1a\\x90\\xa5\\xba\\x1a\\xd3\\xc8\\xf5J\\x9c\\x08:l7\\x15\\xf0\\x8cz\\xbd\\x16s\\x15\\x19\\x11*t}\\xb2I\\xb7-obL\\\\\\x11A\\xb9K\\xab2\\x05y\\xf9\\xc3`\\xec7\\xb3O\\xca\\rF\\x03\\xa4?&\\xeb\\x02\\x16\\x08\\xcf\\x1b]\\x0ci}*\\xe7\\xa9\\x89\\x03n\\xe0\\x14\\xf3\\x9e\\xcc\\x115\\xc8\\x0en:t~`<\\xd7E\\x9b\\xa6J2\\x9a&\\xabj\\x19\\xbd\\xe2\\xe7\\xb0/4\\xb5\\xb4\\xac\\x90\\x17\\xc6\\x13\\xa0\\x8d\\xa3u_3\\xad\\xda\\xac\\xa3\\x03+ \\x9f%m\\x02\\xddpOj\\xe1\\x1f\\x0b\\xea\\x9e\\x9ea\\xe2\\xb8j\\xec\\xdd\\xa5\\xce\\x00\\x07\\xe8\\x19\\x8c\\xaa\\x14R!\\x84r\\xde\\x1d\\xf6\\x89PP\\x9e\\xd7(\\x00W\\xb3\\xc5&\\x91\\xe5\\x8f\\xdb\\xee\\x9b\\xe3\\xba\\xfa3)u\\xe7(b\\r\\xbdC,\\x01\\x98|\\x98\\x8c\\xc2\\x18e\\xcfN\\x19\\xc0D\\xec/\\xa9\\x1a\\xf8\\xf9W\\xff\\xe9\\xe3\\x89\\xd0G64z\\xdb\\xcdc\\xb4\\xbaO\\x98\\xcf\\xb4\\xad\"3T_\\xf4e\\xd5\\xec\\x02\\xa3XJ\\xf3\\xc4g^\\x89\\x8c\\xb0\\xe9|\\xa1wm;!\\x9e\\xcaJX\\xa8\\xbe\\x07\\x8c\\xb5\\xf1\\xb6\\xc72\\xe4\\xe7f\\xb5g{\\x1d\\x83\\x86\\xaab*\\x13\\x14\\x8eB\\x98\\x18\\x7f\\xef+\\n\\x1f\\xd7\\t\\xc2\\x1c\\xd8C92\\x91\\xec\\xa3\\x80\\xdf\\x86\\xbdjh\\x0e%\\xc8\\xea\\rl\\x15v\\xea?G\\xce\\x08\\x1e\\r\\xc6\\x85\\xc2&T\\xbf\\x84\\xac\\xc1\\xee8\\xdd\\x18\\xaa\\xbb3Z\\x83\\xd4\\x84\\x1czG\\xa0N\\x1e\\xec\\x81\\xf6H\\xeb\\xfb\\xe3\\x7fk\\xbd\\xae+\\xe8\\x1d\\xe0\\xf9\\x19\\xaa:G(\\x82\\xc5\\xb4\\xc5~\\x97\\x81e\\xef\\x90\\x1d\\x010\\xced\\x1d\\xaa?\\xbd&\\xf9\\xd0K\\x1d\\xb0;\\xf4`\\xdd3\\xa6\\xe990U\\xa9@\\xa9\\xe6\\xf6\\xa6;i\\xdf\\xc3j\\xb3\\x87\\xa0A\\x94\\x8c\"\\x0fl\\xb6\\xbb/WezAO\\x084\\x0f\\xd9\\xdf\\xb9\\x11\\x7f\\xc0\\xca\\x92\\xc8!\\xe8\\xdd\\x8e\\xfc\\x85z0%\\xaa\\xf8\\xec,|\\x1f\\xb3\\x84E\\xf05\\xec\\xa0&\\xda\\xf3x\\xd3\\xd3Bqs\\x95tY\\xf5\\xd8bv\\x0f2\\xc3\\xfe\\xc7~\\t\\xa0\\xf2\\x96\\xba(\\xa4\\x01)\\x12\\x9b\\x92\\xe6\\xfe\\xf5\\x08\\xe0J\\x14\\xd5\\x9e\\xc3\\x0c\\x1a2\\x8e\\xadm\\x1bG\\x10\\xa4^\\xae\\xb2\\x1ep\\x81l6&\\xd5\\x913\\xf8\\xba\\'D&\\xc0\\xc0\\x10\\x069\\x0b\\x95W\\xd6\\x8f\\xb5\\x93)\\xe9\\xf6\\n\\xc2\\xb5\\xae:\\x98\\x8eP\\xf3\\xb3i\\xf3\\xd9(B\\x19\\xe4\\xd3\\xba\\xc5\\xc8\\xe4s\\xa8\\xae\\xda\\x92\\xecxH\\xc4\\xde\\xbd\\x16\\x1bt\\xc5q\\\\\\xaa\\xaf^\\xd0\\xd9\\xe6w\\x99\\xa7\\x1b\\xdb\\xdd\\x06\\'\\xbd\\xcdf\\x8a\\xe3\\xb2J\\x06/\\xaf\\x91tC\\xd7\\x15\\xf7|(\\xc1s#i\\xf3\\xfb\\x03\\xa1D\\xd53*Y1\\xb4\\xb1\\r\\xadq\\xec\\xa1\\xba\\x9a\\x92k\\xc8\\x95\\xdb\\x17a\\xdd\\xe9\\xb1\\xb8\\xe3\\xf6\\xe2\\xd5XuyZ\\x8aQ\\x90\\xb1b\\xa7\\xe2\\xba=Q$Q\\x1eX\\r\\xa6\\x99\\xa8\\x05\\xbbW\\xca\\xf2[\\x8f\\xeeZ\\x11U0\\xeb\\xc7\\xd2|)\\x03\\xc5R\\xdc\\x9aG\\x0f&J\\xb7\\x1e@\\x0fK&\\x92\\x88\\x85\\xe3b\\x83\\xb7\\xfc\\xcc\\'\\x96\\xfdZ#\\xb5\\xdf.\\xf8\\xf6\\xa2\\x04\\xc4\\xf3*\\xa1:\\xf8\\xd8\\xc3\\xe7M:8\\x19\\xbd\\x0f\\xc4\\xd7\\xa3\\xe9\\xf6)\\xc2{O\\x85/\\xbb\\x98\\xb7\\xa8\\xc3\\xe5HTK\\nq\\x8b[w\\x18I=~p(\\xac\\x8b\\xa0\\xddF\\xf3:R[\\x81\\xd5\\x9cm.\\xc2\\xca\\x05J\\xf9\\xff@\\';K\\xb4\\xaa\\x11\\x80&J\\xc7\\x08\\x8dN\\xf7Dj\\xb0\\x1a\\xec\\xc5;|\\x81\\x91y\\x98\\xd8n\\xfb-c\\xcb2\\xb4C\\x89\\x9e\\x1e\\xda\\x9cn@\\x8f/\\x9e;\\xcb\\xff\\x83\\xe6\\x13\\xc5\\x98\\x97Q\\x00]\\xdc\\x9e9+c\\xf7\\xaf\\xb2\\xa1\\x02\\x01S\\xbe\\xb4\\xa2\\xcds&\\xecP\\xaf\\xba\\x9e\\xe2\\x03\\xa2\\xa2\\x8b\\x14\\x9e\\x1f\\x8c\\x1a\\xd1\\xe8\\x10\\xad\\x95\\x0b\\xd1\\xbcX\\xfe\\x12\\xf4>w~\\x1eE\\x10\\xff~\\xb1\\xb6\\xc9,\\xf4\\x08\\n=\\xbdM\\x84lv\\x86C\\xb1!\\xeb\\xb8/\\x8d\\xac\\xd9\\x14~JlCb\\x03\\xd8\\x94\\xe1\\xd4\\xd5\\xb0\\xc5\\xc2\\xacG\\xb9\\xbb\\x8a\\xe3n\\xc3\\xec\\xde\\x1ei\\xf0\\x04hf\\xef\\x05:\\xfd \\xce\\xc1\\x03\\xbd\\xd8\\xddD\\x1f{A\\xcb\\xbe\\x0c\\x88\\xba \\xdc\\xb1\\x1a\\x99\\x1ax\\xb3\\xc5k\\x0e\\xbe:f@3&E\\xa2\\xbfz[y\\x0c\\xdd!Wm\\xe8,\\xd6f\\x99\\'\\xd7\\xd3\\xe8\\x1f\\xd2\\x9exj\\xf1\\xce\\xcd\\xa3\\xbeB\\xa7\\xe4\\x86l\\xc1AW~\\x0ep\\xdf\\x9b\\xd3\\xf6\\xba(\\xaa\\xbe\\'Y\\xb8\\xf9\\xb0\\xa2u\\t\\xb3\\xc5\\x9c\\xf7\\xc3\\x18\"\\x11Iz\\x89l\\x17\\x98\\x96\\x1b>x\\x17=\\xd3\\x1a\\x13\\xf0\\xae\\xf5\\x83\\x107\\x19\\x19*X\\xab\\xc9\\xdb\\xd7\\xb6\\xf3\\xe1<\\x98\\x1b\\xa6\\xa3\\xfc\\xfc\\xb0\\x07\\xc0\\xb8\"\\xe5\\xb3\\x84\\x86\\xcd%jc*z\\xe9\\x05\\xef\\xa5\\xd9\\xea\\x0f\\xae\\x85\\xbc\\xd4\\xbd\\x06`H\\x0bmu\\xccZK\\xad]\\xd5\\xfcVVM\\xa6_H\\xdb\\xde\\x1a\\xc1\\x05\\xbe\\xe4\\x0b\\xde\\xe0\\xfb!<Y[\\x8c\\xd4\\xac\\x1c2\\xd3\\x98\\x08\\xf0\\x12\\\\al\\x02\\xdf\\xb5F\\xd2\\xc5\\x87O\\xa3\\x19\\xca\\x1b1\\x96\\xfb\\xa7E\\xcd\\x07?\\xd7e\\x16R\\xe2\\xcd_s\\xa4\\xa6E{R\\xdf\\xb2_ \\xae]6\\xbc\\x00\\x93-V\\xb6\\xb7\\x17\\xb5\\xb1\\'R\\xfb\\xca\\xfcb\\x8a\\x04e\\xc9\\xe6G\\xed'\n",
            "OAEP decode result: \n",
            "Ala ma kota\n"
          ]
        }
      ]
    },
    {
      "cell_type": "code",
      "source": [
        "def encryptRSA_OAEP(M, public_key):\n",
        "  e, n = public_key\n",
        "  k = n.bit_length() // 8\n",
        "  M = OAEP_encode(k, M)\n",
        "  M = int.from_bytes(M, byteorder='big')\n",
        "  C = pow(M, e, n)\n",
        "  return C\n",
        "\n",
        "def decryptRSA_OAEP(C, mlen, private_key):\n",
        "  d, n = private_key\n",
        "  k = n.bit_length() // 8\n",
        "  M = pow(C, d, n)\n",
        "  M = M.to_bytes(k, byteorder='big')\n",
        "  M = OAEP_decode(k, M, mlen)\n",
        "  return M"
      ],
      "metadata": {
        "id": "Ba49-k7-pQs5"
      },
      "execution_count": 139,
      "outputs": []
    },
    {
      "cell_type": "code",
      "source": [
        "M = 'Ala ma kota'\n",
        "\n",
        "encryptRSA_OAEP_res = encryptRSA_OAEP(M, public_key)\n",
        "print(f'encryptRSA_OAEP: \\n{encryptRSA_OAEP_res}')\n",
        "\n",
        "decryptRSA_OAEP_res = decryptRSA_OAEP(encryptRSA_OAEP_res, len(M), private_key)\n",
        "print(f'decryptRSA_OAEP_res: \\n{decryptRSA_OAEP_res}')"
      ],
      "metadata": {
        "colab": {
          "base_uri": "https://localhost:8080/"
        },
        "id": "0792MmRWqXTt",
        "outputId": "5f90b6ff-cb68-4dde-f7df-948ad3024779"
      },
      "execution_count": 140,
      "outputs": [
        {
          "output_type": "stream",
          "name": "stdout",
          "text": [
            "encryptRSA_OAEP: \n",
            "8227645238342626325248301600197055250201854095072587433000551696038136042605651550895067268812818569284111891848439011686790251574613821404716978519725317021485014821997632267910588435788572945922050920151737318374992277402834351698641703544651645899990215552893333735310789762292473628051722237849908684981002894174479297529886990172862948044194217645618937824214222428063953894145736783614467803114877906712588639527778017623237468431358072297259049795679673864183292738511481789590988281721020172548841896843518415504344423609488588640042074287630137795579609356977732316701592223733183156625918102290675457437398\n",
            "decryptRSA_OAEP_res: \n",
            "Ala ma kota\n"
          ]
        }
      ]
    },
    {
      "cell_type": "markdown",
      "source": [
        "## EMSA - PSS\n",
        "\n",
        "Utworzenie bezpiecznej sygnatury RSA wymaga zastowania algorytmu *Encoding Method for Signature with Appendix - Probabilistic Signature Scheme* ."
      ],
      "metadata": {
        "id": "ug2e_I03YoR1"
      }
    },
    {
      "cell_type": "markdown",
      "source": [
        "### EMSA encoding"
      ],
      "metadata": {
        "id": "KrWpFTRHZSA7"
      }
    },
    {
      "cell_type": "markdown",
      "source": [
        "Parametry wejściowe:\n",
        "\n",
        "1) $H$ - funkcja skrótu SHA-256, oraz $hlen$ czyli długość zwracanego skrótu w bajtach.\n",
        "\n",
        "2) $slen$ - długość soli w bajtach, powinna być równa $hlen$.\n",
        "\n",
        "3) $M$ - bajty wiadomości do podpisania.\n",
        "\n",
        "4) $mgf1$ - Mask Generation Function 1.\n",
        "\n",
        "5) $emBits$ - pożądana długość sygnatury w bitach. Jest to najczęściej długość bitowa liczby modulus $n$ pomniejszona o jeden, czyli w naszym przypadku 2047.\n",
        "\n",
        "6) $emlen$ - długość sygnatury w bajtach, równa długości parametru $n$ wyrażonego w bajtach.\n"
      ],
      "metadata": {
        "id": "bNPN9mqIZT5F"
      }
    },
    {
      "cell_type": "markdown",
      "source": [
        "Algorytm:\n",
        "\n",
        "1) Oblicz: $mHash = H(M)$.\n",
        "\n",
        "2) Jeżeli $emlen < hlen + slen + 2$ **zakończ i zwróć błąd**.\n",
        "\n",
        "3) Wygeneruj tablicę losowych bajtów $salt$ o długości $slen$.\n",
        "\n",
        "4) Oblicz: $M' = 0x00 00 00 00 00 00 00 00 || mHash || salt$. Długość $M'$ to $8 + hlen + slen$.\n",
        "\n",
        "5) Oblicz: $mHash' = H(M')$.\n",
        "\n",
        "6) Wygeneruj tablicę $PS$ składającą się z bajtów 0x00 o długości $emlen - slen - hlen - 2$.\n",
        "\n",
        "7) Oblicz: $DB = PS || 0x01 || salt$. Długość $DB$ powinna wynosić $emlen - hlen - 1$ bajtów.\n",
        "\n",
        "8) Oblicz: $dbMask = mgf1(mHash', emlen - hlen - 1)$.\n",
        "\n",
        "9) Oblicz: $maskedDB = DB ⊕ dbMask$.\n",
        "\n",
        "10) Ustaw $8 * emlen - emBits$ **najbardziej znaczących** bitów $maskedDB$ na wartości 0.\n",
        "\n",
        "11) Oblicz: $EM = maskedDB || mHash' || 0xbc$.\n",
        "\n",
        "12) Zwróć $EM$.\n"
      ],
      "metadata": {
        "id": "6-0Vzuzf_f81"
      }
    },
    {
      "cell_type": "markdown",
      "source": [
        "## EMSA decoding"
      ],
      "metadata": {
        "id": "HWbbbw1DCGpr"
      }
    },
    {
      "cell_type": "markdown",
      "source": [
        "Parametry wejściowe:\n",
        "\n",
        "1) $H$ - funkcja skrótu SHA-256, oraz $hlen$ czyli długość zwracanego skrótu w bajtach.\n",
        "\n",
        "2) $slen$ - długość soli w bajtach, powinna być równa $hlen$.\n",
        "\n",
        "3) $EM$ - sygnatura wiadomości $M$.\n",
        "\n",
        "4) $M$ - bajty wiadomości do weryfikacji.\n",
        "\n",
        "4) $mgf1$ - Mask Generation Function 1.\n",
        "\n",
        "5) $emBits$ - długość sygnatury w bitach. Jest to najczęściej długość bitowa liczby modulus $n$ pomniejszona o jeden, czyli w naszym przypadku 2047.\n",
        "\n",
        "6) $emlen$ - długość sygnatury w bajtach, równa długości parametru $n$ wyrażonego w bajtach."
      ],
      "metadata": {
        "id": "xR6QyzduCIoc"
      }
    },
    {
      "cell_type": "markdown",
      "source": [
        "Algorytm:\n",
        "\n",
        "1) Oblicz: $mHash = H(M)$.\n",
        "\n",
        "2) Jeżeli $emlen < hlen + slen + 2$ **zakończ i zwróć błąd weryfikacji**.\n",
        "\n",
        "3) Jeżeli ostatni bajt (najmniej znaczący) $EM$ nie ma wartości 0xbc **zakończ i zwróć błąd weryfikacji**.\n",
        "\n",
        "4) Podstaw $emlen - hlen - 1$ najbardziej znaczących bajtów do $maskedDB$ oraz kolejne $hlen$ bajtów do $mHash'$.\n",
        "\n",
        "5) Jeżeli $8 * emlen - emBits$ najbardziej znaczących bitów $maskedDB$ nie ma wartości 0, **zakończ i zwróć błąd weryfikacji**.\n",
        "\n",
        "6) Oblicz: $dbMask = mgf1(mHash', emlen - hlen - 1)$.\n",
        "\n",
        "7) Oblicz: $DB = maskedDB ⊕ dbMask$.\n",
        "\n",
        "8) Ustaw $8 * emlen - emBits$ najbardziej znaczących bitów $DB$ na 0.\n",
        "\n",
        "9) Jeżeli $emlen - hlen - slen - 2$ najbardziej znaczących bajtów $DB$ nie posiada wartości 0x00 lub gdy bajt na pozycji $emlen - hlen - slen - 1$ (licząc od najbardziej znaczącego) nie posiada wartości 0x01 **zakończ i zwróć błąd weryfikacji**.\n",
        "\n",
        "10) Przypisz do zmiennej $salt$ dokładnie $slen$ najmniej znaczących bajtów $DB$.\n",
        "\n",
        "11) Oblicz: $M' = 0x00 00 00 00 00 00 00 00 || mHash || salt$. Długość $M'$ to $8 + hlen + slen$.\n",
        "\n",
        "12) Oblicz $mHash'' = H(M')$.\n",
        "\n",
        "13) Jeżeli $mHash' \\neq mHash''$ **zakończ i zwróć błąd weryfikacji**, w przeciwnym razie **weryfikacja powiodła się**.\n"
      ],
      "metadata": {
        "id": "MqZUQgT6CspI"
      }
    },
    {
      "cell_type": "markdown",
      "source": [
        "**Zadanie 7**\n",
        "\n",
        "Zaprogramuj kodowanie i dekodowanie EMSA, a następnie popraw algorytmy tworzenia i weryfikacji podpisu cyfrowego RSA. Tworzenie podpisu powinno wyglądać tak, że wiadomość najpierw jest kodowana z wykorzystaniem EMSA, a później tworzony jest popdis z wykorzystaniem klucza prywatnego. Dekodowanie powinno wyglądać tak, że najpierw używany jest klucz publiczny do odtworzenia podpisu EMSA, a następnie wykorzystywane jest dekodowanie EMSA w celu weryfikacji."
      ],
      "metadata": {
        "id": "wrxJHSkyIvz5"
      }
    },
    {
      "cell_type": "code",
      "source": [
        "def EMSA_encode(emlen, M, H=hl.sha256, hlen=256//8, mgf=MGF1):\n",
        "  emBits = emlen - 1\n",
        "  slen = hlen\n",
        "  M = bytes(M, 'utf-8')\n",
        "\n",
        "  mHash = H(M).digest()\n",
        "  if emlen < hlen + slen + 2:\n",
        "    raise ValueError('Algorithm pt. 2: \"emlen < hlen + slen + 2\" criterium met')\n",
        "  \n",
        "  salt = bytearray(random.getrandbits(4) for _ in range(slen))\n",
        "  # print(f'salt =\\n{salt}')\n",
        "  # print(f'len(salt) =\\n{len(salt)}')\n",
        "  \n",
        "  # print(f'mHash = {mHash}')\n",
        "  # print(f'len(mHash) = {len(mHash)}')\n",
        "  # print(f'salt = {salt}')\n",
        "  # print(f'len(salt) = {len(salt)}')\n",
        "\n",
        "  M_prim = b'\\x00\\x00\\x00\\x00\\x00\\x00\\x00\\x00' + mHash + salt # M_prim = b'\\x0000000000000000' + mHash + salt\n",
        "  # print(f'len(M_prim) = {len(M_prim)}')\n",
        "  # print(f'8 + hlen + slen = {8 + hlen + slen}')\n",
        "\n",
        "  if not len(M_prim) == 8 + hlen + slen:\n",
        "    raise ValueError('Algorithm pt. 4: \"len(M_prim) == 8 + hlen + slen\" criterium not met')\n",
        "  \n",
        "  mHash_prim = H(M_prim).digest()\n",
        "  # print(f'EMSA_encode::mHash_prim = {mHash_prim}')\n",
        "  PS = bytes(emlen - slen - hlen - 2)\n",
        "\n",
        "  DB = PS + b'\\x01' + salt\n",
        "\n",
        "  if not len(DB) == emlen - hlen - 1:\n",
        "    raise ValueError('Algorithm pt. 7: \"emlen - hlen - 1\" criterium not met')\n",
        "  \n",
        "  dbMask = mgf(mHash_prim, emlen - hlen - 1)\n",
        "  maskedDB = bytes_xor(DB, dbMask)\n",
        "\n",
        "  # bin -> format 0b -> dlatego [2:] usuwa ten prefiks\n",
        "  # zfill dopełnia do pełnej długości\n",
        "  binary = bin(int.from_bytes(maskedDB, byteorder='big'))[2:].zfill(len(maskedDB) * 8)\n",
        "  binary = '0' * (8 * emlen - emBits) + binary[8 * emlen - emBits:]\n",
        "  num = int(binary, 2)\n",
        "  maskedDB = num.to_bytes(len(maskedDB), byteorder='big')\n",
        "  \n",
        "  # print(f'maskedDB = \\n{maskedDB}')\n",
        "  # print(f'len(maskedDB) = {len(maskedDB)}')\n",
        "  # print(f'8 * emlen - emBits = {8 * emlen - emBits}')\n",
        "  # print(f'maskedDB[8 * emlen - emBits:] = \\n{maskedDB[:8 * emlen - emBits]}')\n",
        "  # print(f'maskedDB[8 * emlen - emBits:8 * emlen - emBits + 1] (next bit) = \\n{maskedDB[8 * emlen - emBits:8 * emlen - emBits + 1]}')\n",
        "\n",
        "  EM = maskedDB + mHash_prim + b'\\xbc'\n",
        "\n",
        "  # print(f'EMSA_encode::len(EM) = {len(EM)}')\n",
        "  return EM\n",
        "\n",
        "def EMSA_decode(emlen, EM, M, H=hl.sha256, hlen=256//8, mgf=MGF1):\n",
        "  emBits = emlen - 1\n",
        "  slen = hlen\n",
        "  # print(f'EM = {EM}')\n",
        "  # print(f'len(EM) = {len(EM)}')\n",
        "\n",
        "  M = bytes(M, 'utf-8')\n",
        "  mHash = H(M).digest()\n",
        "\n",
        "  # print(f'mHash = {mHash}')\n",
        "\n",
        "  if emlen < hlen + slen + 2:\n",
        "    raise ValueError('Algorithm pt. 2: \"emlen < hlen + slen + 2\" criterium met')\n",
        "  \n",
        "  # print(f'EM[-1] = {EM[-1]}')\n",
        "  # print(f'EM[-1].to_bytes(1, byteorder=\"big\") = {EM[-1].to_bytes(1, byteorder=\"big\")}')\n",
        "\n",
        "  if EM[-1].to_bytes(1, byteorder='big') != b'\\xbc':\n",
        "    raise ValueError('Algorithm pt. 3: \"M[-1] != b\\\\xbc\" criterium not met')\n",
        "\n",
        "  maskedDB = EM[:emlen - hlen - 1]\n",
        "  # print(f'maskedDB = {maskedDB}')\n",
        "  # print(f'len(maskedDB) = {len(maskedDB)}')\n",
        "  mHash_prim = EM[emlen - hlen - 1:emlen - 1]\n",
        "  # print(f'mHash_prim = {mHash_prim}')\n",
        "  \n",
        "  if not bin(int.from_bytes(maskedDB, byteorder='big'))[2:].zfill(len(maskedDB) * 8)[:8 * emlen - emBits] == '0' * (8 * emlen - emBits):\n",
        "    raise ValueError('Algorithm pt. 5: \"maskedDB[8 * emlen - emBits] == 0\" criterium not met')\n",
        "\n",
        "  dbMask = mgf(mHash_prim, emlen - hlen - 1)\n",
        "\n",
        "  # print(f'dbMask = {dbMask}')\n",
        "  # print(f'maskedDB = {maskedDB}')\n",
        "\n",
        "  DB = bytes_xor(maskedDB, dbMask)\n",
        "\n",
        "  binary = bin(int.from_bytes(DB, byteorder='big'))[2:].zfill(len(DB) * 8)\n",
        "  binary = '0' * (8 * emlen - emBits) + binary[8 * emlen - emBits:]\n",
        "  num = int(binary, 2)\n",
        "  DB = num.to_bytes(len(DB), byteorder='big')\n",
        "\n",
        "  # print(f'DB = {DB}')\n",
        "\n",
        "  if DB[:emlen - hlen - slen - 2] != b'\\x00' * (emlen - hlen - slen - 2):\n",
        "    raise ValueError('Algorithm pt. 9: \"DB[emlen - hlen - slen - 2] == 0\" criterium not met')\n",
        "  \n",
        "  # print(f'len(DB) = {len(DB)}')\n",
        "  # print(f'DB[emlen - hlen - slen - 2:emlen - hlen - slen - 1] = {DB[emlen - hlen - slen - 2:emlen - hlen - slen - 1]}')\n",
        "  if DB[emlen - hlen - slen - 2:emlen - hlen - slen - 1] != b'\\x01':\n",
        "    raise ValueError('Algorithm pt. 9: \"DB[emlen - hlen - slen - 1] == b\\\\x01\" criterium not met')\n",
        "\n",
        "  salt = DB[-slen:]\n",
        "  M_prim = b'\\x00\\x00\\x00\\x00\\x00\\x00\\x00\\x00' + mHash + salt\n",
        "  if not len(M_prim) == 8 + hlen + slen:\n",
        "    raise ValueError('Algorithm pt. 11: \"len(M_prim) == 8 + hlen + slen\" criterium not met')\n",
        "  \n",
        "  mHash_bis = H(M_prim).digest()\n",
        "\n",
        "  if not mHash_prim == mHash_bis:\n",
        "    raise ValueError('Algorithm pt. 13: \"mHash_prim == mHash_bis\" criterium not met')\n",
        "  \n",
        "  return True"
      ],
      "metadata": {
        "id": "UMR18zEnbrke"
      },
      "execution_count": 141,
      "outputs": []
    },
    {
      "cell_type": "code",
      "source": [
        "M = 'Ala ma podpis'\n",
        "\n",
        "EMSA_encode_res = EMSA_encode(nlen, M)\n",
        "\n",
        "print(f'M = \\n{M}')\n",
        "print(f'EMSA_encode_res = \\n{EMSA_encode_res}\\n')\n",
        "print(f'EMSA_decode verify: \\n{EMSA_decode(nlen, EMSA_encode_res, M)}')"
      ],
      "metadata": {
        "id": "S-TbQA4NJrl3",
        "colab": {
          "base_uri": "https://localhost:8080/"
        },
        "outputId": "0c716a11-e302-465a-b29f-5ef4703e1d8c"
      },
      "execution_count": 142,
      "outputs": [
        {
          "output_type": "stream",
          "name": "stdout",
          "text": [
            "M = \n",
            "Ala ma podpis\n",
            "EMSA_encode_res = \n",
            "b'\\x00\\x00\\x00\\x00\\x00\\x00\\x00\\x00\\x00\\x00\\x00\\x00\\x00\\x00\\x00\\x00\\x00\\x00\\x00\\x00\\x00\\x00\\x00\\x00\\x00\\x00\\x00\\x00\\x00\\x00\\x00\\x00\\x00\\x00\\x00\\x00\\x00\\x00\\x00\\x00\\x00\\x00\\x00\\x00\\x00\\x00\\x00\\x00\\x00\\x00\\x00\\x00\\x00\\x00\\x00\\x00\\x00\\x00\\x00\\x00\\x00\\x00\\x00\\x00\\x00\\x00\\x00\\x00\\x00\\x00\\x00\\x00\\x00\\x00\\x00\\x00\\x00\\x00\\x00\\x00\\x00\\x00\\x00\\x00\\x00\\x00\\x00\\x00\\x00\\x00\\x00\\x00\\x00\\x00\\x00\\x00\\x00\\x00\\x00\\x00\\x00\\x00\\x00\\x00\\x00\\x00\\x00\\x00\\x00\\x00\\x00\\x00\\x00\\x00\\x00\\x00\\x00\\x00\\x00\\x00\\x00\\x00\\x00\\x00\\x00\\x00\\x00\\x00\\x00\\x00\\x00\\x00\\x00\\x00\\x00\\x00\\x00\\x00\\x00\\x00\\x00\\x00\\x00\\x00\\x00\\x00\\x00\\x00\\x00\\x00\\x00\\x00\\x00\\x00\\x00\\x00\\x00\\x00\\x00\\x00\\x00\\x00\\x00\\x00\\x00\\x00\\x00\\x00\\x00\\x00\\x00\\x00\\x00\\x00\\x00\\x00\\x00\\x00\\x00\\x00\\x00\\x00\\x00\\x00\\x00\\x00\\x00\\x00\\x00\\x00\\x00\\x00\\x00\\x00\\x00\\x00\\x00\\x00\\x00\\x00\\x00\\x00\\x00\\x00\\x00\\x00\\x00\\x00\\x00\\x00\\x00\\x00\\x00\\x00\\x00\\x00\\x00\\x00\\x00\\x00\\x00\\x00\\x00\\x00\\x00\\x00\\x00\\x00\\x00\\x00\\x00\\x00\\x00\\x00\\x00\\x00\\x00\\x00\\x00\\x00\\x00\\x00\\x00\\x00\\x00\\x00\\x00\\x00\\x00\\x00\\x00\\x00\\x00\\x00\\x00\\x00\\x00\\x00\\x00\\x00\\x00\\x00\\x00\\x00\\x00\\x00\\x00\\x00\\x00\\x00\\x00\\x00\\x00\\x00\\x00\\x00\\x00\\x00\\x00\\x00\\x00\\x00\\x00\\x00\\x00\\x00\\x00\\x00\\x00\\x00\\x00\\x00\\x00\\x00\\x00\\x00\\x00\\x00\\x00\\x00\\x00\\x00\\x00\\x00\\x00\\x00\\x00\\x00\\x00\\x00\\x00\\x00\\x00\\x00\\x00\\x00\\x00\\x00\\x00\\x00\\x00\\x00\\x00\\x00\\x00\\x00\\x00\\x00\\x00\\x00\\x00\\x00\\x00\\x00\\x00\\x00\\x00\\x00\\x00\\x00\\x00\\x00\\x00\\x00\\x00\\x00\\x00\\x00\\x00\\x00\\x00\\x00\\x00\\x00\\x00\\x00\\x00\\x00\\x00\\x00\\x00\\x00\\x00\\x00\\x00\\x00\\x00\\x00\\x00\\x00\\x00\\x00\\x00\\x00\\x00\\x00\\x00\\x00\\x00\\x00\\x00\\x00\\x00\\x00\\x00\\x00\\x00\\x00\\x00\\x00\\x00\\x00\\x00\\x00\\x00\\x00\\x00\\x00\\x00\\x00\\x00\\x00\\x00\\x00\\x00\\x00\\x00\\x00\\x00\\x00\\x00\\x00\\x00\\x00\\x00\\x00\\x00\\x00\\x00\\x00\\x00\\x00\\x00\\x00\\x00\\x00\\x00\\x00\\x00\\x00\\x00\\x00\\x00\\x00\\x00\\x00\\x00\\x00\\x00\\x00\\x00\\x00\\x00\\x00\\x00\\x00\\x00\\x00\\x00\\x00\\x00\\x00\\x00\\x00\\x00\\x00\\x00\\x00\\x00\\x00\\x00\\x00\\x00\\x00\\x00\\x00\\x00\\x00\\x00\\x00\\x00\\x00\\x00\\x00\\x00\\x00\\x00\\x00\\x00\\x00\\x00\\x00\\x00\\x00\\x00\\x00\\x00\\x00\\x00\\x00\\x00\\x00\\x00\\x00\\x00\\x00\\x00\\x00\\x00\\x00\\x00\\x00\\x00\\x00\\x00\\x00\\x00\\x00\\x00\\x00\\x00\\x00\\x00\\x00\\x00\\x00\\x00\\x00\\x00\\x00\\x00\\x00\\x00\\x00\\x00\\x00\\x00\\x00\\x00\\x00\\x00\\x00\\x00\\x00\\x00\\x00\\x00\\x00\\x00\\x00\\x00\\x00\\x00\\x00\\x00\\x00\\x00\\x00\\x00\\x00\\x00\\x00\\x00\\x00\\x00\\x00\\x00\\x00\\x00\\x00\\x00\\x00\\x00\\x00\\x00\\x00\\x00\\x00\\x00\\x00\\x00\\x00\\x00\\x00\\x00\\x00\\x00\\x00\\x00\\x00\\x00\\x00\\x00\\x00\\x00\\x00\\x00\\x00\\x00\\x00\\x00\\x00\\x00\\x00\\x00\\x00\\x00\\x00\\x00\\x00\\x00\\x00\\x00\\x00\\x00\\x00\\x00\\x00\\x00\\x00\\x00\\x00\\x00\\x00\\x00\\x00\\x00\\x00\\x00\\x00\\x00\\x00\\x00\\x00\\x00\\x00\\x00\\x00\\x00\\x00\\x00\\x00\\x00\\x00\\x00\\x00\\x00\\x00\\x00\\x00\\x00\\x00\\x00\\x00\\x00\\x00\\x00\\x00\\x00\\x00\\x00\\x00\\x00\\x00\\x00\\x00\\x00\\x00\\x00\\x00\\x00\\x00\\x00\\x00\\x00\\x00\\x00\\x00\\x00\\x00\\x00\\x00\\x00\\x00\\x00\\x00\\x00\\x00\\x00\\x00\\x00\\x00\\x00\\x00\\x00\\x00\\x00\\x00\\x00\\x00\\x00\\x00\\x00\\x00\\x00\\x00\\x00\\x00\\x00\\x00\\x00\\x00\\x00\\x00\\x00\\x00\\x00\\x00\\x00\\x00\\x00\\x00\\x00\\x00\\x00\\x00\\x00\\x00\\x00\\x00\\x00\\x00\\x00\\x00\\x00\\x00\\x00\\x00\\x00\\x00\\x00\\x00\\x00\\x00\\x00\\x00\\x00\\x00\\x00\\x00\\x00\\x00\\x00\\x00\\x00\\x00\\x00\\x00\\x00\\x00\\x00\\x00\\x00\\x00\\x00\\x00\\x00\\x00\\x00\\x00\\x00\\x00\\x00\\x00\\x00\\x00\\x00\\x00\\x00\\x00\\x00\\x00\\x00\\x00\\x00\\x00\\x00\\x00\\x00\\x00\\x00\\x00\\x00\\x00\\x00\\x00\\x00\\x00\\x00\\x00\\x00\\x00\\x00\\x00\\x00\\x00\\x00\\x00\\x00\\x00\\x00\\x00\\x00\\x00\\x00\\x00\\x00\\x00\\x00\\x00\\x00\\x00\\x00\\x00\\x00\\x00\\x00\\x00\\x00\\x00\\x00\\x00\\x00\\x00\\x00\\x00\\x00\\x00\\x00\\x00\\x00\\x00\\x00\\x00\\x00\\x00\\x00\\x00\\x00\\x00\\x00\\x00\\x00\\x00\\x00\\x00\\x00\\x00\\x00\\x00\\x00\\x00\\x00\\x00\\x00\\x00\\x00\\x00\\x00\\x00\\x00\\x00\\x00\\x00\\x00\\x00\\x00\\x00\\x00\\x00\\x00\\x00\\x00\\x00\\x00\\x00\\x00\\x00\\x00\\x00\\x00\\x00\\x00\\x00\\x00\\x00\\x00\\x00\\x00\\x00\\x00\\x00\\x00\\x00\\x00\\x00\\x00\\x00\\x00\\x00\\x00\\x00\\x00\\x00\\x00\\x00\\x00\\x00\\x00\\x00\\x00\\x00\\x00\\x00\\x00\\x00\\x00\\x00\\x00\\x00\\x00\\x00\\x00\\x00\\x00\\x00\\x00\\x00\\x00\\x00\\x00\\x00\\x00\\x00\\x00\\x00\\x00\\x00\\x00\\x00\\x00\\x00\\x00\\x00\\x00\\x00\\x00\\x00\\x00\\x00\\x00\\x00\\x00\\x00\\x00\\x00\\x00\\x00\\x00\\x00\\x00\\x00\\x00\\x00\\x00\\x00\\x00\\x00\\x00\\x00\\x00\\x00\\x00\\x00\\x00\\x00\\x00\\x00\\x00\\x00\\x00\\x00\\x00\\x00\\x00\\x00\\x00\\x00\\x00\\x00\\x00\\x00\\x00\\x00\\x00\\x00\\x00\\x00\\x00\\x00\\x00\\x00\\x00\\x00\\x00\\x00\\x00\\x00\\x00\\x00\\x00\\x00\\x00\\x00\\x00\\x00\\x00\\x00\\x00\\x00\\x00\\x00\\x00\\x00\\x00\\x00\\x00\\x00\\x00\\x00\\x00\\x00\\x00\\x00\\x00\\x00\\x00\\x00\\x00\\x00\\x00\\x00\\x00\\x00\\x00\\x00\\x00\\x00\\x00\\x00\\x00\\x00\\x00\\x00\\x00\\x00\\x00\\x00\\x00\\x00\\x00\\x00\\x00\\x00\\x00\\x00\\x00\\x00\\x00\\x00\\x00\\x00\\x00\\x00\\x00\\x00\\x00\\x00\\x00\\x00\\x00\\x00\\x00\\x00\\x00\\x00\\x00\\x00\\x00\\x00\\x00\\x00\\x00\\x00\\x00\\x00\\x00\\x00\\x00\\x00\\x00\\x00\\x00\\x00\\x00\\x00\\x00\\x00\\x00\\x00\\x00\\x00\\x00\\x00\\x00\\x00\\x00\\x00\\x00\\x00\\x00\\x00\\x00\\x00\\x00\\x00\\x00\\x00\\x00\\x00\\x00\\x00\\x00\\x00\\x00\\x00\\x00\\x00\\x00\\x00\\x00\\x00\\x00\\x00\\x00\\x00\\x00\\x00\\x00\\x00\\x00\\x00\\x00\\x00\\x00\\x00\\x00\\x00\\x00\\x00\\x00\\x00\\x00\\x00\\x00\\x00\\x00\\x00\\x00\\x00\\x00\\x00\\x00\\x00\\x00\\x00\\x00\\x00\\x00\\x00\\x00\\x00\\x00\\x00\\x00\\x00\\x00\\x00\\x00\\x00\\x00\\x00\\x00\\x00\\x00\\x00\\x00\\x00\\x00\\x00\\x00\\x00\\x00\\x00\\x00\\x00\\x00\\x00\\x00\\x00\\x00\\x00\\x00\\x00\\x00\\x00\\x00\\x00\\x00\\x00\\x00\\x00\\x00\\x00\\x00\\x00\\x00\\x00\\x00\\x00\\x00\\x00\\x00\\x00\\x00\\x00\\x00\\x00\\x00\\x00\\x00\\x00\\x00\\x00\\x00\\x00\\x00\\x00\\x00\\x00\\x00\\x00\\x00\\x00\\x00\\x00\\x00\\x00\\x00\\x00\\x00\\x00\\x00\\x00\\x00\\x00\\x00\\x00\\x00\\x00\\x00\\x00\\x00\\x00\\x00\\x00\\x00\\x00\\x00\\x00\\x00\\x00\\x00\\x00\\x00\\x00\\x00\\x00\\x00\\x00\\x00\\x00\\x00\\x00\\x00\\x00\\x00\\x00\\x00\\x00\\x00\\x00\\x00\\x00\\x00\\x00\\x00\\x00\\x00\\x00\\x00\\x00\\x00\\x00\\x00\\x00\\x00\\x00\\x00\\x00\\x00\\x00\\x00\\x00\\x00\\x00\\x00\\x00\\x00\\x00\\x00\\x00\\x00\\x00\\x00\\x00\\x00\\x00\\x00\\x00\\x00\\x00\\x00\\x00\\x00\\x00\\x00\\x00\\x00\\x00\\x00\\x00\\x00\\x00\\x00\\x00\\x00\\x00\\x00\\x00\\x00\\x00\\x00\\x00\\x00\\x00\\x00\\x00\\x00\\x00\\x00\\x00\\x00\\x00\\x00\\x00\\x00\\x00\\x00\\x00\\x00\\x00\\x00\\x00\\x00\\x00\\x00\\x00\\x00\\x00\\x00\\x00\\x00\\x00\\x00\\x00\\x00\\x00\\x00\\x00\\x00\\x00\\x00\\x00\\x00\\x00\\x00\\x00\\x00\\x00\\x00\\x00\\x00\\x00\\x00\\x00\\x00\\x00\\x00\\x00\\x00\\x00\\x00\\x00\\x00\\x00\\x00\\x00\\x00\\x00\\x00\\x00\\x00\\x00\\x00\\x00\\x00\\x00\\x00\\x00\\x00\\x00\\x00\\x00\\x00\\x00\\x00\\x00\\x00\\x00\\x00\\x00\\x00\\x00\\x00\\x00\\x00\\x00\\x00\\x00\\x00\\x00\\x00\\x00\\x00\\x00\\x00\\x00\\x00\\x00\\x00\\x00\\x00\\x00\\x00\\x00\\x00\\x00\\x00\\x00\\x00\\x00\\x00\\x00\\x00\\x00\\x00\\x00\\x00\\x00\\x00\\x00\\x00\\x00\\x00\\x00\\x00\\x00\\x00\\x00\\x00\\x00\\x00\\x00\\x00\\x00\\x00\\x00\\x00\\x00\\x00\\x00\\x00\\x00\\x00\\x00\\x00\\x00\\x00\\x00\\x00\\x00\\x00\\x00\\x00\\x00\\x00\\x00\\x00\\x00\\x00\\x00\\x00\\x00\\x00\\x00\\x00\\x00\\x00\\x00\\x00\\x00\\x00\\x00\\x00\\x00\\x00\\x00\\x00\\x00\\x00\\x00\\x00\\x00\\x00\\x00\\x00\\x00\\x00\\x00\\x00\\x00\\x00\\x00\\x00\\x00\\x00\\x00\\x00\\x00\\x00\\x00\\x00\\x00\\x00\\x00\\x00\\x00\\x00\\x00\\x00\\x00\\x00\\x00\\x00\\x00\\x00\\x00\\x00\\x00\\x00\\x00\\x00\\x00\\x00\\x00\\x00\\x00\\x00\\x00\\x00\\x00\\x00\\x00\\x00\\x00\\x00\\x00\\x00\\x00\\x00\\x00\\x00\\x00\\x00\\x00\\x00\\x00\\x00\\x00\\x00\\x00\\x00\\x00\\x00\\x00\\x00\\x00\\x00\\x00\\x00\\x00\\x00\\x00\\x00\\x00\\x00\\x00\\x00\\x00\\x00\\x00\\x00\\x00\\x00\\x00\\x00\\x00\\x00\\x00\\x00\\x00\\x00\\x00\\x00\\x00\\x00\\x00\\x00\\x00\\x00\\x00\\x00\\x00\\x00\\x00\\x00\\x00\\x00\\x00\\x00\\x00\\x00\\x00\\x00\\x00\\x00\\x00\\x00\\x00\\x00\\x00\\x00\\x00\\x00\\x00\\x00\\x00\\x00\\x00\\x00\\x00\\x00\\x00\\x00\\x00\\x00\\x00\\x00\\x00\\x00\\x00\\x00\\x00\\x00\\x00\\x00\\x00\\x00\\x00\\x00\\x00\\x00\\x00\\x00\\x00\\x00\\x00\\x00\\x00\\x00\\x00\\x00\\x00\\x00\\x00\\x00\\x00\\x00\\x00\\x00\\x00\\x00\\x00\\x00\\x00\\x00\\x00\\x00\\x00\\x00\\x00\\x00\\x00\\x00\\x00\\x00\\x00\\x00\\x00\\x00\\x00\\x00\\x00\\x00\\x00\\x00\\x00\\x00\\x00\\x00\\x00\\x00\\x00\\x00\\x00\\x00\\x00\\x00\\x00\\x00\\x00\\x00\\x00\\x00\\x00\\x00\\x00\\x00\\x00\\x00\\x00\\x00\\x00\\x00\\x00\\x00\\x00\\x00\\x00\\x00\\x00\\x0b8\\xdfv\\xd5\\xbc\\xa7{\\x02+\\x9db \\x8d\\xe0pf\\x0f\\x05-\\x1f\\xc2\\t\\xb6\\x90\\xe2\\x95\\x83\\xe5\\xef0\\xfd?\\xb9\\x04w(\\x11\\xeb!\\xaebov\\xc8X\\xd4+8\\xbc\\xdf\\xda+\\x17eth\\xe8\\x14$\\xdc\\xdcPM4}\\x18\\xf7c\\x94U\\x8e\"\\x85\\xfd\\x82\\x17\\xd5b*=\\xbcD\\xec$\\xcf\\xc9\\x13\\x90\\x8e\\xa0\\xa3%{\\xf9\\xeax\\xd1\\x07\\xed\\xfa\\x91\\xd8\\xcfb\\xb1\\xcb\\xde\\xaaq\\xbe1\\x97kt\\x80b\\xf3z\\x94\\xf0\\x08|\\x12K\\x80\\xa7<\\x18`\\xdeCf\\x11\\xb7\\x13D&D\\xad?d\\x0c\\xbdY\\xee`\\xf4\\x08@\\xa4\\x15\\x85\\xa8\\xf2\\xf0\\xf8e\\x82\\x97\\x12\\xe5\\xa5T\\xd3|w\\xb0\\xce\\xfcflO\\xb4\\x16\\xc4H\\xd1+\\xe2\\xfd\\xeeM;q\\xef\\x05w\\xa8\\xb0\\x92\\x17\\xb3\\xce<a,\\xf8\\xccT\\xcd%\\xb6t\\xad\\x01@\\xf9\\x90PX\\xde\\xab{\\xd4\\xc9DN\\xeaR\\x0f<\\xc8U\\xe1\\xf6\\x1b\\x12\\xce^\\xad-\\xd9\\x18_\\xf8[n\\xf6\\xa3\\x8e\\x06$\\xe2\\xaf\\xdd\\xd2.\\xcc\\x0fg\\xd1\\x18y$\\xbc'\n",
            "\n",
            "EMSA_decode verify: \n",
            "True\n"
          ]
        }
      ]
    },
    {
      "cell_type": "code",
      "source": [
        "def create_SIG_EMSA(M, key, nlen=2048):\n",
        "  EMSA_encode_res = EMSA_encode(nlen, M)\n",
        "  SIG = pow(int.from_bytes(EMSA_encode_res, byteorder='big'), key[0], key[1])\n",
        "  return M, SIG\n",
        "\n",
        "def verify_SIG_EMSA(M, SIG, key, nlen=2048):\n",
        "  VER = pow(SIG, key[0], key[1])\n",
        "\n",
        "  try:\n",
        "    return EMSA_decode(nlen, VER.to_bytes(nlen, byteorder='big'), M)\n",
        "  except ValueError:\n",
        "    return False"
      ],
      "metadata": {
        "id": "vpPlAWEk6jAk"
      },
      "execution_count": 156,
      "outputs": []
    },
    {
      "cell_type": "code",
      "source": [
        "M = 'Ala ma podpis'\n",
        "M2 = 'Podpis ma Ale'\n",
        "\n",
        "create_SIG_EMSA_result = create_SIG_EMSA(M, private_key)\n",
        "print(f'Message 1: {M}')\n",
        "print(f'Message 2: {M}')\n",
        "print(f'Verify result: {verify_SIG_EMSA(M, create_SIG_EMSA_result[1], public_key)}')"
      ],
      "metadata": {
        "colab": {
          "base_uri": "https://localhost:8080/"
        },
        "id": "epe4eOU3PL34",
        "outputId": "7cdf71a8-9af2-4f53-c75b-03d84f869566"
      },
      "execution_count": 168,
      "outputs": [
        {
          "output_type": "stream",
          "name": "stdout",
          "text": [
            "Message 1: Ala ma podpis\n",
            "Message 2: Ala ma podpis\n",
            "Verify result: True\n"
          ]
        }
      ]
    },
    {
      "cell_type": "code",
      "source": [
        "print(f'Message 1: {M}')\n",
        "print(f'Message 2: {M2}')\n",
        "create_SIG_EMSA_result = create_SIG_EMSA(M, private_key)\n",
        "print(f'Verify result: {verify_SIG_EMSA(M2, create_SIG_EMSA_result[1], public_key)}')"
      ],
      "metadata": {
        "colab": {
          "base_uri": "https://localhost:8080/"
        },
        "id": "eAfcVbnHUjZg",
        "outputId": "d5447033-7816-4217-eb22-94aa48a7da3f"
      },
      "execution_count": 169,
      "outputs": [
        {
          "output_type": "stream",
          "name": "stdout",
          "text": [
            "Message 1: Ala ma podpis\n",
            "Message 2: Podpis ma Ale\n",
            "Verify result: False\n"
          ]
        }
      ]
    },
    {
      "cell_type": "markdown",
      "source": [
        "## RSA - KEM\n",
        "\n",
        "RSA - KEM, czyli z ang. *Key Encapsulation Mechanism* to prosty algorytm dedykowany do wymiany klucza symetrycznego. Obie strony dysponują uzgodnioną funkcją skótu H. Instancja, która chce **otrzymać** tajny klucz do komunikacji symetrycznej generuje klucze RSA i udostępnia swój klucz publiczny. Instancja, która chce wygenerować tajny klucz do komunikacji symetrycznej dysponuje kluczem publicznym instancji, która chce go otrzymać."
      ],
      "metadata": {
        "id": "d7txLS64JZI-"
      }
    },
    {
      "cell_type": "markdown",
      "source": [
        "Instancja generująca klucz symetryczny:\n",
        "\n",
        "1) Znajdź losową liczbę $RAND$ spełniającą warunki OAEP.\n",
        "\n",
        "2) Oblicz: $KEY = H(RAND)$. Jeżeli trzeba, przytnij $KEY$ do odpowiedniej długości.\n",
        "\n",
        "3) Oblicz: $CIPHERED\\_KEY = RSA\\_OAEP\\_ENCODING(KEY, (e, n))$.\n",
        "\n",
        "4) Wyślij $CIPHERED\\_KEY$."
      ],
      "metadata": {
        "id": "tl7cu30PJ1lk"
      }
    },
    {
      "cell_type": "markdown",
      "source": [
        "Instancja otrzymująca zaszyfrowany klucz symetryczny:\n",
        "\n",
        "1) Oblicz: $KEY = RSA\\_OAEP\\_DECODING(CIPHERED\\_KEY, (d, n))$\n",
        "\n",
        "2) Jeżeli trzeba przytnij $KEY$ do odpowiedniej długości."
      ],
      "metadata": {
        "id": "oFB9JAwULw70"
      }
    },
    {
      "cell_type": "markdown",
      "source": [
        "Np. AES występuje w wersji 128b, 192b i 256b. Jeżeli jako H przyjmiemy więc SHA-256, nie trzeba przycinać klucza dla algorytmu AES-256. W przeciwnym razie należy klucz odpowiednio przyciąć (z lewej lub prawej, byle obie strony tak samo) i to ta wartość staje się kluczem symetrycznym."
      ],
      "metadata": {
        "id": "386c_pDZMSRG"
      }
    },
    {
      "cell_type": "markdown",
      "source": [
        "**Zadanie 8**\n",
        "\n",
        "Zasymuluj takową wymianę (bez przycinania klucza)."
      ],
      "metadata": {
        "id": "7N66NPBBMpLS"
      }
    },
    {
      "cell_type": "code",
      "source": [
        "def encrypt_key_RSA_KEM(pkey, H=hl.sha256):\n",
        "  rand = random.randint(0, 256).to_bytes(1, byteorder='big')\n",
        "  key = H(rand).digest()\n",
        "  cipherered_key = encryptRSA_OAEP(key, pkey)\n",
        "  return cipherered_key, key\n",
        "\n",
        "def decrypt_key_RSA_KEM(cipherered_key, key, pkey):\n",
        "  # print(f'cipherered_key = {cipherered_key}')\n",
        "  # print(f'key = {key}')\n",
        "  return decryptRSA_OAEP(cipherered_key, len(key), pkey)"
      ],
      "metadata": {
        "id": "Td_Qg2zlMuRt"
      },
      "execution_count": 209,
      "outputs": []
    },
    {
      "cell_type": "code",
      "source": [
        "encrypt_key_RSA_KEM_res = encrypt_key_RSA_KEM(public_key)\n",
        "decrypt_key_RSA_KEM_res = decrypt_key_RSA_KEM(encrypt_key_RSA_KEM_res[0], encrypt_key_RSA_KEM_res[1], private_key)\n",
        "\n",
        "print(f'encrypt_key_RSA_KEM key = \\n{encrypt_key_RSA_KEM_res[1]}')\n",
        "print(f'decrypt_key_RSA_KEM key = \\n{decrypt_key_RSA_KEM_res}\\n')\n",
        "\n",
        "print(f'Is equal?:')\n",
        "if decrypt_key_RSA_KEM_res == encrypt_key_RSA_KEM_res[1]:\n",
        "  print(f'True')\n",
        "else:\n",
        "  print(f'False')"
      ],
      "metadata": {
        "colab": {
          "base_uri": "https://localhost:8080/"
        },
        "id": "EJA9JTmAcCFD",
        "outputId": "0f8e1c89-e410-4c1e-af1d-1ef82d51664d"
      },
      "execution_count": 215,
      "outputs": [
        {
          "output_type": "stream",
          "name": "stdout",
          "text": [
            "encrypt_key_RSA_KEM key = \n",
            "b'(\\x96\\x9c\\xdf\\xa7J\\x12\\xc8/;\\xad\\x96\\x0b\\x0b\\x00\\n\\xca*\\xc3)\\xde\\xea\\\\#(\\xeb\\xc6\\xf2\\xba\\x98\\x02\\xc1'\n",
            "decrypt_key_RSA_KEM key = \n",
            "b'(\\x96\\x9c\\xdf\\xa7J\\x12\\xc8/;\\xad\\x96\\x0b\\x0b\\x00\\n\\xca*\\xc3)\\xde\\xea\\\\#(\\xeb\\xc6\\xf2\\xba\\x98\\x02\\xc1'\n",
            "\n",
            "Is equal?:\n",
            "True\n"
          ]
        }
      ]
    }
  ]
}