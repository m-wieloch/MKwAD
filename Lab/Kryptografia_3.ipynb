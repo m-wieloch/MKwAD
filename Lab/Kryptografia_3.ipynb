{
  "nbformat": 4,
  "nbformat_minor": 0,
  "metadata": {
    "colab": {
      "provenance": []
    },
    "kernelspec": {
      "name": "python3",
      "display_name": "Python 3"
    },
    "language_info": {
      "name": "python"
    }
  },
  "cells": [
    {
      "cell_type": "markdown",
      "source": [
        "# RSA\n",
        "\n",
        "Rivest Shamir Adleman (RSA) jest jednym z pierwszych algorytmów asymetrycznych. Został zaprojektowany w 1977 roku i jest używany do dzisiejszego dnia. Zyskał akceptację zarówno NISTu jak i organizacji ISO/IEC oraz RFC. RSA posiada parę kluczy - publiczny oraz prywatny. Publiczny klucz może być znany każdemu i służy on do operacji szyfrowania. Klucz prywatny jest znany tylko i wyłącznie instancji, która klucze generowała. Ta sama instancja jako jedna jedyna ma możliwość odszyfrowania kryptogramów.\n",
        "\n",
        "RSA umożliwia także tworzenie podpisów cyfrowych (z ang *Digital Signatures*, czyli *DS*). Podpis cyfrowy to dodatkowy blok informacji dołączony do wiadomości, który zapewnia:\n",
        "1. *Integrity* - integralność wiadomości, czyli potwierdzenie, że nie była ona w żaden sposób modyfikowana.\n",
        "2. *Authentication* - autentykacje podpisującego, czyli potwierdzenie jego tożsamości.\n",
        "3. *Non-repudiation* - czyli wysyłający podpisaną wiadomość nie ma możliwości zaprzeczenia faktu, że to on ją podpisał, natomiast otrzymujący wiadomość nie ma możliwości zaprzeczenia faktu, iż to on ją zweryfikował. \n",
        "\n",
        "Samo haszowanie wiadomości zapewnia tylko *integirty*, natomiast utworzenie kodu MAC (*Message Authentiaction Code*) zapewnia jedynie *integrity* oraz *authentiaction*.\n",
        "\n",
        "Tworzenie podpisu cyfrowego z wykorzystaniem RSA wygląda odwrotnie niż komunikacja szyfrowana. To znaczy: podpis tworzony jest z wykorzystaniem klucza prywatnego - a więc tylko instancja generująca klucze może wiadomość podpisać. Weryfikacja odbywa się z wykorzystaniem klucza publicznego - czyli każda instancja, której nasz klucz udostępnimy, może podpis zweryfikować. \n",
        "\n",
        "Na początek zaimportujmy niezbędne biblioteki."
      ],
      "metadata": {
        "id": "O4N_EaD6qK27"
      }
    },
    {
      "cell_type": "code",
      "source": [
        "!pip install pycryptodome\n",
        "import Crypto.Util.number as cu\n",
        "import hashlib as hl\n",
        "import math\n",
        "import random"
      ],
      "metadata": {
        "id": "F7OxWY2Mz7BD",
        "colab": {
          "base_uri": "https://localhost:8080/"
        },
        "outputId": "682e587b-46fa-4bf4-e6d1-6170e1414d51"
      },
      "execution_count": null,
      "outputs": [
        {
          "output_type": "stream",
          "name": "stdout",
          "text": [
            "Looking in indexes: https://pypi.org/simple, https://us-python.pkg.dev/colab-wheels/public/simple/\n",
            "Collecting pycryptodome\n",
            "  Downloading pycryptodome-3.18.0-cp35-abi3-manylinux_2_17_x86_64.manylinux2014_x86_64.whl (2.1 MB)\n",
            "\u001b[2K     \u001b[90m━━━━━━━━━━━━━━━━━━━━━━━━━━━━━━━━━━━━━━━━\u001b[0m \u001b[32m2.1/2.1 MB\u001b[0m \u001b[31m27.5 MB/s\u001b[0m eta \u001b[36m0:00:00\u001b[0m\n",
            "\u001b[?25hInstalling collected packages: pycryptodome\n",
            "Successfully installed pycryptodome-3.18.0\n"
          ]
        }
      ]
    },
    {
      "cell_type": "markdown",
      "source": [
        "**Zadanie 1**\n",
        "\n",
        "Odpowiedz na poniższe pytania. Rozważ sytuację, w której dwie instancje komunikują się ze sobą, a trzecia próbuje dokonywać nieautoryzowanych zmian w treści wiadomości na drodze jej przesyłu.\n",
        "1. Dlaczego haszowanie zapewnia tylko integrity? Podpowiedź: czy haszowanie uwzględnia jakikolwiek klucz prywatny?\n",
        "2. Dlaczego kod MAC nie zapewnia *non-repudiation*? Co (niepożądanego) może dokonać odbierający wiadomość i atakujący komunikację? Podpowiedź: czy kody MAC, w szczególności popularny kod HMAC - który zakłada użycie klucza prywatnego - w jakikolwiek sposób weryfikuje KTO i DO CZEGO go użył? Kto dysponuje, a kto NIE dysponuje kluczem prywatnym HMAC?\n",
        "3. Dlaczego podpis cyfrowy zapewnia wszystkie te trzy cechy?"
      ],
      "metadata": {
        "id": "64vuvjiEuP3M"
      }
    },
    {
      "cell_type": "markdown",
      "source": [
        "1. Haszowanie zapewnia jedynie integralność, ponieważ proces ten polega na przekształceniu wiadomości na wartość skrótu, który można później porównać z wartością skrótu oryginalnej wiadomości.\n",
        "\n",
        "2. Kod MAC zapewnia poufność i integralność, ale nie zapewnia non-repudiation. Odbiorca wiadomości lub atakujący może nadal przesłać tę samą wiadomość, ponieważ kod MAC nie uwzględnia, kto i do czego go użył. Nawet popularny kod HMAC, który wymaga użycia klucza prywatnego, nie zapewnia non-repudiation, ponieważ klucz prywatny może być udostępniony wielu osobom, a HMAC nie umożliwia identyfikacji konkretnego użytkownika.\n",
        "\n",
        "3. Podpis cyfrowy zapewnia wszystkie trzy cechy, czyli poufność, integralność i non-repudiation. Podpis cyfrowy wykorzystuje klucz prywatny do podpisywania wiadomości, a klucz publiczny do weryfikacji podpisu. Dzięki temu procesowi można jednoznacznie zidentyfikować nadawcę wiadomości i potwierdzić, że wiadomość nie została zmieniona od momentu podpisania."
      ],
      "metadata": {
        "id": "TF-FUs6HS1L0"
      }
    },
    {
      "cell_type": "markdown",
      "source": [
        "## Generowanie kluczy\n",
        "\n",
        "Algorytm generowania kluczy RSA może zostać przedstawiony w następujący sposób:\n",
        "\n",
        "1) Znajdź dwie różne i kryptograficznie bezpieczne liczby pierwsze.\n",
        "\n",
        "2) Oblicz $n = p * q$.\n",
        "\n",
        "3) Oblicz $f = (p - 1) * (q - 1)$.\n",
        "\n",
        "4) Znajdź dowolne $e$, takie, że $1 < e < f$ oraz $GCD(f, e) = 1$. GCD to największy wspólny dzielnik. Para $(e, n)$ to jest **klucz publiczny**.\n",
        "\n",
        "5) Oblicz $d = e^{-1}$ mod $f$. Para $(d, n)$ to **klucz prywatny**, przy czym tajne jest tylko $d$. "
      ],
      "metadata": {
        "id": "2qE7Uzp2xXKM"
      }
    },
    {
      "cell_type": "markdown",
      "source": [
        "W ten sposób generowane parametry byłyby matematycznie poprawne, lecz kryptograficznie niebezpieczne. Ustalmy więc, że chcemy aby nasz klucz publiczny był odpwowiednio długi. Będzie to długość bitowa parametru $n$, oznaczmy ją jako $nlen = 2048$. Parametr $nlen$ zawsze przyjmuje parzyste wartości. Mając to założenie, musimy (**uwzględniając wszystkie założenia z algorytmu generowania kluczy**) dodatkowo zapewnić, że:\n",
        "\n",
        "1. $65537 ≤ e < 2^{256}$\n",
        "2. $LCM(p - 1, q - 1) \\geq e * 2^{nlen/2}$\n",
        "3. $2^{(nlen - 1)//2} < p < 2^{nlen/2}$\n",
        "4. $2^{(nlen - 1)//2} < q < 2^{nlen/2}$\n",
        "5. $|p - q| > 2^{(nlen/2) - 100}$\n",
        "\n",
        "Gdzie LCM oznacza *Least Common Multiple*, czyli najmniejszą wspólną wielokrotność. Funkcję LCM znajdziesz w bibliotece math. Do potęgowania **nie używaj** pythonowej notacji \"**\", tylko metody pow() - przetestuj obie te metody obliczania potęgi i porównaj wydajność (zadanie opcjonalne). Do obliczania wartości bezwzględnej użyj metody abs() - również standardowa metoda pythona. Resztę niezbędnych metod znajdziesz w bibliotece [Crypto.Util.number](https://pycryptodome.readthedocs.io/en/latest/src/util/util.html) zaimpoertowanej jako cu. Opis powyższych założeń możesz znaleźć w [tym](https://nvlpubs.nist.gov/nistpubs/SpecialPublications/NIST.SP.800-56Br2.pdf) dokumencie NIST-owym."
      ],
      "metadata": {
        "id": "1MRcuBhC0UHA"
      }
    },
    {
      "cell_type": "markdown",
      "source": [
        "**Zadanie 2**\n",
        "\n",
        "Uwzględniając wszystko powyższe, napisz metodę/metody generujące wartości $n$, $e$ oraz $d$."
      ],
      "metadata": {
        "id": "5inlXTklGGMv"
      }
    },
    {
      "cell_type": "code",
      "source": [
        "nlen = 2048\n",
        "\n",
        "def gen_p_q():\n",
        "  p, q = cu.getPrime(nlen // 2), cu.getPrime(nlen // 2)\n",
        "  while not (abs(p - q) > pow(2, (nlen // 2) - 100)):\n",
        "    p, q = cu.getPrime(nlen // 2), cu.getPrime(nlen // 2)\n",
        "\n",
        "  return p, q\n",
        "\n",
        "def gen_f_e(p, q):\n",
        "  e = cu.getRandomRange(65537, pow(2, 256))\n",
        "  # e = 65537\n",
        "  f = (p - 1) * (q - 1)\n",
        "  while not math.gcd(f, e):\n",
        "    e = cu.getRandomRange(65537, pow(2, 256))\n",
        "\n",
        "  return f, e\n",
        "\n",
        "def gen_numbers_set():\n",
        "  p, q = gen_p_q()\n",
        "  f, e = gen_f_e(p, q)\n",
        "\n",
        "  while math.lcm(p - 1, q - 1) < e * pow(2, nlen // 2):\n",
        "    p, q = gen_p_q()\n",
        "    f, e = gen_f_e(p, q)\n",
        "\n",
        "  return p, q, f, e\n",
        "\n",
        "def gen_private_key(p, q, f, e):\n",
        "  n = p * q\n",
        "  d = cu.inverse(e, f)\n",
        "\n",
        "  return (d, n)\n",
        "\n",
        "def gen_public_key(p, q, e):\n",
        "  n = p * q\n",
        "\n",
        "  return (e, n)"
      ],
      "metadata": {
        "id": "g0NrTqwxc4gw"
      },
      "execution_count": null,
      "outputs": []
    },
    {
      "cell_type": "code",
      "source": [
        "gen_numbers_set_success = False\n",
        "err_count = 0\n",
        "\n",
        "while not gen_numbers_set_success:\n",
        "  try:\n",
        "    p, q, f, e = gen_numbers_set()\n",
        "\n",
        "    # print(f'f=\\n{f}')\n",
        "    # print(f'e=\\n{e}')\n",
        "\n",
        "    private_key = gen_private_key(p, q, f, e)\n",
        "    public_key = gen_public_key(p, q, e)\n",
        "    gen_numbers_set_success = True\n",
        "  except ValueError:\n",
        "    err_count += 1\n",
        "    print(f'{err_count} ValueError: base is not invertible for the given modules')\n",
        "\n",
        "# Czesto wywala blad - musi byc jakis scenariusz do pokrycia z f i e - odpalac do skutku\n",
        "# ValueError: base is not invertible for the given modulus"
      ],
      "metadata": {
        "id": "OrBQ2hrihLaS"
      },
      "execution_count": null,
      "outputs": []
    },
    {
      "cell_type": "code",
      "source": [
        "print(f'd=\\n{private_key[0]}\\n')\n",
        "print(f'n=\\n{private_key[1]}\\n')\n",
        "print(f'private_key =\\n{private_key}\\n')\n",
        "\n",
        "print(400 * '=')\n",
        "print(f'\\n')\n",
        "\n",
        "print(f'e=\\n{public_key[0]}\\n')\n",
        "print(f'n=\\n{public_key[1]}\\n')\n",
        "print(f'private_key =\\n{public_key}')"
      ],
      "metadata": {
        "colab": {
          "base_uri": "https://localhost:8080/"
        },
        "id": "DoCrz6mLldI1",
        "outputId": "a162dc7f-828b-47a2-b195-29602b4e7f27"
      },
      "execution_count": null,
      "outputs": [
        {
          "output_type": "stream",
          "name": "stdout",
          "text": [
            "d=\n",
            "11177741845808176832015209665518930031356682387397300497542422248100762976215024701331763969434027431669215157012452390687135627580668615325415001387626718873636105611540685719894235110277011084914515164972854599329081855458271963605013701924955579445645620056691642838923106478820116941221977124907198170260735653282716389113284138041661485532890153917981663767720199497356812552426376666414938607787867869885958295634386311993067143114962845701596733997283108221954343981073098895461443784690060870709176293935842572251657712582269837662744964210159008621332186366763898509822721072189775443363149713015503246020685\n",
            "\n",
            "n=\n",
            "15809064357566825944628874306000598720973748873987317223016903937931503661678270067318156556156139298188496944645410289929258733607509487615042614228291595697525163690931412280945644870480935702454259078691563739544897812966086563292989534707142812422203720447782619002972263932811901448182253572256934877948607568492359002825123339362942712560339550333906375265778722283177342384320810691803693429438511785856766932293870721882066106054817877500151928284848856482737629759401890628139726699976125112299910403994987375903381268948258189660460980564227452764157366085490862420009755297215934350186738454095437174670949\n",
            "\n",
            "private_key =\n",
            "(11177741845808176832015209665518930031356682387397300497542422248100762976215024701331763969434027431669215157012452390687135627580668615325415001387626718873636105611540685719894235110277011084914515164972854599329081855458271963605013701924955579445645620056691642838923106478820116941221977124907198170260735653282716389113284138041661485532890153917981663767720199497356812552426376666414938607787867869885958295634386311993067143114962845701596733997283108221954343981073098895461443784690060870709176293935842572251657712582269837662744964210159008621332186366763898509822721072189775443363149713015503246020685, 15809064357566825944628874306000598720973748873987317223016903937931503661678270067318156556156139298188496944645410289929258733607509487615042614228291595697525163690931412280945644870480935702454259078691563739544897812966086563292989534707142812422203720447782619002972263932811901448182253572256934877948607568492359002825123339362942712560339550333906375265778722283177342384320810691803693429438511785856766932293870721882066106054817877500151928284848856482737629759401890628139726699976125112299910403994987375903381268948258189660460980564227452764157366085490862420009755297215934350186738454095437174670949)\n",
            "\n",
            "================================================================================================================================================================================================================================================================================================================================================================================================================\n",
            "\n",
            "\n",
            "e=\n",
            "93516297093243182365936760571676894371706479141117399882401776783584308745029\n",
            "\n",
            "n=\n",
            "15809064357566825944628874306000598720973748873987317223016903937931503661678270067318156556156139298188496944645410289929258733607509487615042614228291595697525163690931412280945644870480935702454259078691563739544897812966086563292989534707142812422203720447782619002972263932811901448182253572256934877948607568492359002825123339362942712560339550333906375265778722283177342384320810691803693429438511785856766932293870721882066106054817877500151928284848856482737629759401890628139726699976125112299910403994987375903381268948258189660460980564227452764157366085490862420009755297215934350186738454095437174670949\n",
            "\n",
            "private_key =\n",
            "(93516297093243182365936760571676894371706479141117399882401776783584308745029, 15809064357566825944628874306000598720973748873987317223016903937931503661678270067318156556156139298188496944645410289929258733607509487615042614228291595697525163690931412280945644870480935702454259078691563739544897812966086563292989534707142812422203720447782619002972263932811901448182253572256934877948607568492359002825123339362942712560339550333906375265778722283177342384320810691803693429438511785856766932293870721882066106054817877500151928284848856482737629759401890628139726699976125112299910403994987375903381268948258189660460980564227452764157366085490862420009755297215934350186738454095437174670949)\n"
          ]
        }
      ]
    },
    {
      "cell_type": "markdown",
      "source": [
        "## Naiwne szyfrowanie i deszyfrowanie"
      ],
      "metadata": {
        "id": "wae-whoNGlz_"
      }
    },
    {
      "cell_type": "markdown",
      "source": [
        "\n",
        "Naiwny algorytm szyfrowania wiadomości **M** z wykorzystaniem RSA:\n",
        "\n",
        "1) Zakoduj $M$ jako liczbę.\n",
        "\n",
        "2) Oblicz: $C = M^e$ mod $n$."
      ],
      "metadata": {
        "id": "fESNrzCYNVfy"
      }
    },
    {
      "cell_type": "markdown",
      "source": [
        "Naiwny algorytm deszyfrowania kryptogramu **C** z wykorzystaniem RSA:\n",
        "\n",
        "1) $M = C^d$ mod $n$.\n",
        "\n",
        "2) Zdekoduj wiadomość $M$ do jej pierwotnej postaci (np. stringa). \n"
      ],
      "metadata": {
        "id": "FQvVgWWrHBX2"
      }
    },
    {
      "cell_type": "markdown",
      "source": [
        "**Zadanie 3**\n",
        "\n",
        "Napisz metody szyfrujące i deszyfrujące wiadomość $M$ zgodnie z powyższym algorytmem. Zaszyfruj wiadomość, zdeszyfruj i wypisz oryginalny tekst na ekranie. Odpowiedz na pytanie: jaki warunek musi spełniać liczbowa reprezentacja wiadomości $M$, aby można ją było poprawnie zaszyfrować i zdeszyfrować?"
      ],
      "metadata": {
        "id": "mFRFP0BsHc9l"
      }
    },
    {
      "cell_type": "markdown",
      "source": [
        "Wiadomość musi być mniejsza lub równa liczbie $n$, w przeciwnym wypadku należy podzielić ją na bloki."
      ],
      "metadata": {
        "id": "_FMXzsjT0i3X"
      }
    },
    {
      "cell_type": "code",
      "source": [
        "def str2num(text):\n",
        "  print(f'str2num::text = {text}')\n",
        "  conv = text.encode('utf-8')\n",
        "  number = int.from_bytes(conv, byteorder='big')\n",
        "  return number\n",
        "\n",
        "def num2str(number):\n",
        "  # number.bit_length() - liczba bitów potrzebnych do zapisania liczby\n",
        "  # dodanie 7 i podzielenie całości przez 8 (wynik całkowity) pozwala na zaokrąglenie w górę do pełnej liczby, co pozwala na prawidłową konwersję na tekst\n",
        "  conv = number.to_bytes((number.bit_length() + 7) // 8, byteorder='big')\n",
        "  text = conv.decode('utf-8')\n",
        "  return text"
      ],
      "metadata": {
        "id": "DMxSsIloqE1U"
      },
      "execution_count": null,
      "outputs": []
    },
    {
      "cell_type": "code",
      "source": [
        "def encryptRSA(M, public_key):\n",
        "  M = str2num(M)\n",
        "  e, n = public_key\n",
        "  C = pow(M, e, n) # nie dawać n poza modulo - liczy sie w nieskonczonosc!\n",
        "  return C\n",
        "\n",
        "def decryptRSA(C, private_key):\n",
        "  d, n = private_key\n",
        "  M = pow(C, d, n)\n",
        "  return num2str(M)"
      ],
      "metadata": {
        "id": "La2FPCUHtmTH"
      },
      "execution_count": null,
      "outputs": []
    },
    {
      "cell_type": "code",
      "source": [
        "M = 'Ala ma kota'\n",
        "\n",
        "print(str2num(M))\n",
        "print(num2str(str2num(M)))"
      ],
      "metadata": {
        "id": "N3y7NMf_HkuB",
        "colab": {
          "base_uri": "https://localhost:8080/"
        },
        "outputId": "dbd1ead9-dffc-4abf-a5bd-2826965f7121"
      },
      "execution_count": null,
      "outputs": [
        {
          "output_type": "stream",
          "name": "stdout",
          "text": [
            "str2num::text = Ala ma kota\n",
            "79091985525906541409956961\n",
            "str2num::text = Ala ma kota\n",
            "Ala ma kota\n"
          ]
        }
      ]
    },
    {
      "cell_type": "code",
      "source": [
        "msg_enc = encryptRSA(M, public_key)"
      ],
      "metadata": {
        "id": "jVEmqK2s2fUN",
        "colab": {
          "base_uri": "https://localhost:8080/"
        },
        "outputId": "2386d588-f6f9-485c-dbcb-d05f5b9ad9e4"
      },
      "execution_count": null,
      "outputs": [
        {
          "output_type": "stream",
          "name": "stdout",
          "text": [
            "str2num::text = Ala ma kota\n"
          ]
        }
      ]
    },
    {
      "cell_type": "code",
      "source": [
        "print(f'Encrypted M = \\n{msg_enc}')"
      ],
      "metadata": {
        "colab": {
          "base_uri": "https://localhost:8080/"
        },
        "id": "BGVJp1kw2x6K",
        "outputId": "7b28164c-322c-444b-a88e-be3878144184"
      },
      "execution_count": null,
      "outputs": [
        {
          "output_type": "stream",
          "name": "stdout",
          "text": [
            "Encrypted M = \n",
            "3911609399368800141279934436914423844598508462512917730562359263965907096416681787860204435854469812483819822157808975911595022364602504693671181681956241702298305125494903579312004127636048165334685470240644052304942858471128384000009269846938979626985810754212821185819622203472112793787030483772464357137770504442263590685338540610020084221724821996574756630337453339674856923916492228646848953332618510286128616949217740622876079531626972532438807369803231395168793899392215917400652025917607952047493348048603569208707014332062213362563503849773286340599152600253050997736397992517590527220586999116192349646608\n"
          ]
        }
      ]
    },
    {
      "cell_type": "code",
      "source": [
        "msg_dec = decryptRSA(msg_enc, private_key)"
      ],
      "metadata": {
        "id": "2-2NosFi3beu"
      },
      "execution_count": null,
      "outputs": []
    },
    {
      "cell_type": "code",
      "source": [
        "print(f'Decrypted M = \\n{msg_dec}')"
      ],
      "metadata": {
        "colab": {
          "base_uri": "https://localhost:8080/"
        },
        "id": "8xcr-uqV3kOX",
        "outputId": "7dfa85e3-f928-4648-a5af-aa8ac6f39cdb"
      },
      "execution_count": null,
      "outputs": [
        {
          "output_type": "stream",
          "name": "stdout",
          "text": [
            "Decrypted M = \n",
            "Ala ma kota\n"
          ]
        }
      ]
    },
    {
      "cell_type": "markdown",
      "source": [
        "## Naiwny schemat podpisu cyfrowego"
      ],
      "metadata": {
        "id": "NjF8Fr_dN0s6"
      }
    },
    {
      "cell_type": "markdown",
      "source": [
        "Naiwna metoda tworzenia podpisu z wiadmości $M$:\n",
        "\n",
        "1) Oblicz $h = H(M)$. H to uzgodniona funkcja skrótu, niech to będzie SHA-256.\n",
        "\n",
        "2) Zakoduj $h$ jako liczbę.\n",
        "\n",
        "3) Oblicz $SIG = h^d$ mod $n$.\n",
        "\n",
        "4) Wyślij parę $(M, SIG)$ weryfikującemu."
      ],
      "metadata": {
        "id": "AsvkSf9zN4i8"
      }
    },
    {
      "cell_type": "markdown",
      "source": [
        "Naiwna metoda weryfikacji podpisu $(M, SIG)$:\n",
        "\n",
        "1) Oblicz $h = H(M)$. H to uzgodniona funkcja skrótu, niech to będzie SHA-256.\n",
        "\n",
        "2) Zakoduj $h$ jako liczbę.\n",
        "\n",
        "3) Oblicz $VER = SIG^e$ mod $n$.\n",
        "\n",
        "4) Jeżeli $VER = h$, weryfikacja przebiegła pomyślnie, a w przeciwnym razie niepomyślnie."
      ],
      "metadata": {
        "id": "xcMiT4DhOoOt"
      }
    },
    {
      "cell_type": "markdown",
      "source": [
        "**Zadanie 4**\n",
        "\n",
        "Zaimplementuj naiwną metodę tworzenia i weryfikowania podpisu cyfrowego RSA."
      ],
      "metadata": {
        "id": "Jx86zFg6PDDs"
      }
    },
    {
      "cell_type": "code",
      "source": [
        "def create_SIG(M, key):\n",
        "  h = hl.sha256(M.encode('utf-8')).hexdigest()\n",
        "  SIG = encryptRSA(h, key)\n",
        "  return M, SIG\n",
        "\n",
        "def verify_SIG(M, SIG, key):\n",
        "  h = hl.sha256(M.encode('utf-8')).hexdigest()\n",
        "  VER = decryptRSA(SIG, key)\n",
        "\n",
        "  if VER == h:\n",
        "    return True\n",
        "  else:\n",
        "    return False"
      ],
      "metadata": {
        "id": "Y7OSfmf0PJ2Q"
      },
      "execution_count": null,
      "outputs": []
    },
    {
      "cell_type": "code",
      "source": [
        "M = 'Ala ma kota'"
      ],
      "metadata": {
        "id": "qqJwP_RlBzWh"
      },
      "execution_count": null,
      "outputs": []
    },
    {
      "cell_type": "code",
      "source": [
        "sigmsg, sig = create_SIG(M, private_key)\n",
        "verify_SIG(sigmsg, sig, public_key)"
      ],
      "metadata": {
        "colab": {
          "base_uri": "https://localhost:8080/"
        },
        "id": "jtzmSLxq8FKE",
        "outputId": "be486843-2e30-4439-f89c-4e773f293ccb"
      },
      "execution_count": null,
      "outputs": [
        {
          "output_type": "stream",
          "name": "stdout",
          "text": [
            "str2num::text = 124bfb6284d82f3b1105f88e3e7a0ee02d0e525193413c05b75041917022cd6e\n"
          ]
        },
        {
          "output_type": "execute_result",
          "data": {
            "text/plain": [
              "True"
            ]
          },
          "metadata": {},
          "execution_count": 14
        }
      ]
    },
    {
      "cell_type": "code",
      "source": [
        "M2 = 'Kot ma Ale'"
      ],
      "metadata": {
        "id": "4Zk5tFASB19V"
      },
      "execution_count": null,
      "outputs": []
    },
    {
      "cell_type": "code",
      "source": [
        "verify_SIG(M2, sig, public_key)"
      ],
      "metadata": {
        "colab": {
          "base_uri": "https://localhost:8080/"
        },
        "id": "WRGY2sIU8cXt",
        "outputId": "b87716a7-060b-49e9-b76f-7ec247af5e2b"
      },
      "execution_count": null,
      "outputs": [
        {
          "output_type": "execute_result",
          "data": {
            "text/plain": [
              "False"
            ]
          },
          "metadata": {},
          "execution_count": 16
        }
      ]
    },
    {
      "cell_type": "markdown",
      "source": [
        "## MGF 1\n",
        "\n",
        "W dalszej części laboratoriów będziemy potrzebowali generować maskę. Jedynym zatwierdzonym algorytmem który do tego służy jest *Mask Generation Function 1*, opisany w [RFC 8017](https://www.rfc-editor.org/rfc/rfc8017). Jest on stosunkowo prosty. "
      ],
      "metadata": {
        "id": "-6MsXDuaIj2C"
      }
    },
    {
      "cell_type": "markdown",
      "source": [
        "Parametry wejściowe:\n",
        "\n",
        "1) M - bajty wiadomości.\n",
        "\n",
        "2) len - pożądana długość zwórconej maski w bajtach.\n",
        "\n",
        "3) H - wybrana funkcja skrótu, zwracająca $n$ bitowy skrót. Niech to będzie SHA-256. Dla wygody przyjmijmy też, że $hlen = n / 8$ oznacza liczbę bajtów zwracaną przez naszą funkcję skrótu.\n",
        "\n",
        "Wyjściem funkcji są bajty tworzące maskę."
      ],
      "metadata": {
        "id": "wXuwYrpsJzkU"
      }
    },
    {
      "cell_type": "markdown",
      "source": [
        "Algorytm MGF-1:\n",
        "\n",
        "1) Dla 32-biotwego integera $i = 0, ..., ⌈ \\frac{len}{hlen}⌉ - 1$ wykonuj kroki 2 i 3.\n",
        "\n",
        "2) Oblicz tmp = H(M || i). Znak || to konkatenacja i chodzi tu o bajty wiadomości M oraz reprezentację w bajtach 32-bitowego itegera $i$.\n",
        "\n",
        "3) Oblicz output = output || tmp.\n",
        "\n",
        "4) Zwróc $len$ wiodących bajtów zmiennej output."
      ],
      "metadata": {
        "id": "oriQJLCvJ0vM"
      }
    },
    {
      "cell_type": "markdown",
      "source": [
        "**Zadanie 5**\n",
        "\n",
        "Zaprogramuj i przetestuj dla dowolnych wartości funkcję MGF1."
      ],
      "metadata": {
        "id": "o-AkA1mHK7cp"
      }
    },
    {
      "cell_type": "code",
      "source": [
        "def MGF1(M, len, H=hl.sha256, hlen=256//8):\n",
        "  if not isinstance(M, bytes):\n",
        "    M = bytes(M, 'utf-8')\n",
        "\n",
        "  output = bytes()\n",
        "\n",
        "  for i in range(0, math.ceil(len / hlen)):\n",
        "    tmp = H(M + i.to_bytes(4, byteorder='big')).digest() # 4 bytes = size of int\n",
        "    output = output + tmp\n",
        "  return output[:len]"
      ],
      "metadata": {
        "id": "rrBuKJWZLCV9"
      },
      "execution_count": null,
      "outputs": []
    },
    {
      "cell_type": "code",
      "source": [
        "MGF1('', 4)"
      ],
      "metadata": {
        "colab": {
          "base_uri": "https://localhost:8080/"
        },
        "id": "HlM-ipSGHZZs",
        "outputId": "bf74a17e-f910-46ad-9752-d385220f684d"
      },
      "execution_count": null,
      "outputs": [
        {
          "output_type": "execute_result",
          "data": {
            "text/plain": [
              "b'\\xdf?a\\x98'"
            ]
          },
          "metadata": {},
          "execution_count": 18
        }
      ]
    },
    {
      "cell_type": "code",
      "source": [
        "MGF1('', 8)"
      ],
      "metadata": {
        "colab": {
          "base_uri": "https://localhost:8080/"
        },
        "id": "8PIgLFcRHYPz",
        "outputId": "cfd142e5-8651-4935-d43c-59a5f8214c72"
      },
      "execution_count": null,
      "outputs": [
        {
          "output_type": "execute_result",
          "data": {
            "text/plain": [
              "b'\\xdf?a\\x98\\x04\\xa9/\\xdb'"
            ]
          },
          "metadata": {},
          "execution_count": 19
        }
      ]
    },
    {
      "cell_type": "code",
      "source": [
        "MGF1('', 16)"
      ],
      "metadata": {
        "colab": {
          "base_uri": "https://localhost:8080/"
        },
        "id": "lrxjutwaHXPd",
        "outputId": "8e698696-b429-4eba-b049-244b1aef3e2c"
      },
      "execution_count": null,
      "outputs": [
        {
          "output_type": "execute_result",
          "data": {
            "text/plain": [
              "b'\\xdf?a\\x98\\x04\\xa9/\\xdb@W\\x19-\\xc4=\\xd7H'"
            ]
          },
          "metadata": {},
          "execution_count": 20
        }
      ]
    },
    {
      "cell_type": "code",
      "source": [
        "M = 'Ala ma kota'"
      ],
      "metadata": {
        "id": "CkhJPdRmHi6L"
      },
      "execution_count": null,
      "outputs": []
    },
    {
      "cell_type": "code",
      "source": [
        "MGF1(M, 5)"
      ],
      "metadata": {
        "colab": {
          "base_uri": "https://localhost:8080/"
        },
        "id": "NfQFaJpsHjUE",
        "outputId": "86fb0683-55c1-45d4-bf6f-81f36cc0dc25"
      },
      "execution_count": null,
      "outputs": [
        {
          "output_type": "execute_result",
          "data": {
            "text/plain": [
              "b'O\\x82y,\\xd5'"
            ]
          },
          "metadata": {},
          "execution_count": 22
        }
      ]
    },
    {
      "cell_type": "code",
      "source": [
        "MGF1(M, 10)"
      ],
      "metadata": {
        "colab": {
          "base_uri": "https://localhost:8080/"
        },
        "id": "FvYqb8tjHmx1",
        "outputId": "35f96d45-a70d-4339-f340-2ddcd9f70f53"
      },
      "execution_count": null,
      "outputs": [
        {
          "output_type": "execute_result",
          "data": {
            "text/plain": [
              "b'O\\x82y,\\xd5\\x98\\x18\\xc5B7'"
            ]
          },
          "metadata": {},
          "execution_count": 23
        }
      ]
    },
    {
      "cell_type": "code",
      "source": [
        "MGF1(M, 20)"
      ],
      "metadata": {
        "colab": {
          "base_uri": "https://localhost:8080/"
        },
        "id": "5djytWVGHnv-",
        "outputId": "64a1b9f0-feb0-4c81-ad8b-589aca314fbe"
      },
      "execution_count": null,
      "outputs": [
        {
          "output_type": "execute_result",
          "data": {
            "text/plain": [
              "b'O\\x82y,\\xd5\\x98\\x18\\xc5B7\\xc4YT\\xe6\\xfa\\x82\\xdd\\x08\\xc8\\x8d'"
            ]
          },
          "metadata": {},
          "execution_count": 24
        }
      ]
    },
    {
      "cell_type": "markdown",
      "source": [
        "## OAEP\n",
        "\n",
        "Nasz schemat ma na ten moment jedną sporą wadę, mianowicie rozmiar szyfrowanej wiadomości może być zbyt mały, czyniąc algorytm mniej bezpiecznym. Aby tego uniknąć, używamy algorytmu paddingu opisanego w [RFC 8017](https://www.rfc-editor.org/rfc/rfc8017#section-8), który zwie się *Optimal Assymetric Encryption Padding*."
      ],
      "metadata": {
        "id": "K3gM9vGyPtna"
      }
    },
    {
      "cell_type": "markdown",
      "source": [
        "### OAEP encoding"
      ],
      "metadata": {
        "id": "PFJW4wW5QjjH"
      }
    },
    {
      "cell_type": "markdown",
      "source": [
        "Parametry wejściowe:\n",
        "\n",
        "1) $H$ - funkcja skrótu SHA-256, oraz $hlen$ czyli długość zwracanego skrótu w bajtach.\n",
        "\n",
        "2) $k$ - długość liczby $n$ wyrażona w bajtach.\n",
        "\n",
        "3) $mlen$ - długość wiadomości wyrażona w bajtach.\n",
        "\n",
        "4) $M$ - bajty wiadomości.\n",
        "\n",
        "5) $mgf1$ - Mask Generation Function 1."
      ],
      "metadata": {
        "id": "0BTXF8j6Reel"
      }
    },
    {
      "cell_type": "markdown",
      "source": [
        "Algorytm:\n",
        "\n",
        "1) Jeżeli $mlen > k - 2*hlen - 2$ zwróc błąd.\n",
        "\n",
        "2) Oblicz: $lHash = H(\"\")$.\n",
        "\n",
        "3) Wygeneruj tablicę bajtów $PS$ składającą się z $k - mlen - 2*hlen - 2$ bajtów o wartości 0x00. Rozmiar $PS$ może wynosić 0.\n",
        "\n",
        "4) Oblicz: $DB = lHash || PS || 0x01 || M$. Długość $DB$ powinna wynosić $k - hlen - 1$ bajtów.\n",
        "\n",
        "5) Wygeneruj losową tablicę bajtów $seed$ o rozmiarze $hlen$.\n",
        "\n",
        "6) Oblicz: $dbMask = mgf1(seed, k - hlen - 1)$.\n",
        "\n",
        "7) Oblicz: $maskedDB = DB ⊕ dbMask$.\n",
        "\n",
        "8) Oblicz: $seedMask = mgf1(maskedDB, hlen)$.\n",
        "\n",
        "9) Oblicz: $maskedSeed = seed ⊕ seedMask$.\n",
        "\n",
        "10) Oblicz: $EM = 0x00 || maskedSeed || maskedDB$. Długość $EM$ powinna wynosić $k$.\n",
        "\n",
        "11) Zwróc $EM$."
      ],
      "metadata": {
        "id": "YWse9bSFRfmu"
      }
    },
    {
      "cell_type": "markdown",
      "source": [
        "### OAEP decoding"
      ],
      "metadata": {
        "id": "lwJfZ28SUeKC"
      }
    },
    {
      "cell_type": "markdown",
      "source": [
        "Parametry wejściowe:\n",
        "\n",
        "1) $H$ - funkcja skrótu SHA-256, oraz $hlen$ czyli długość zwracanego skrótu w bajtach.\n",
        "\n",
        "2) $k$ - rozmiar EM wyrażony w bajtach.\n",
        "\n",
        "3) $mgf1$ - Mask Generation Function 1.\n",
        "\n",
        "4) $EM$ - bajty zakodowanej wiadomości."
      ],
      "metadata": {
        "id": "i21JfT9TUlXN"
      }
    },
    {
      "cell_type": "markdown",
      "source": [
        "Algorytm:\n",
        "\n",
        "1) Rozpakuj tablicę bajtów $EM$. Jej pierwszy bajt (najbardziej znaczący) przypisz do $Y$. Kolejne $hlen$ bajtów przypisz do $maskedSeed$, resztę do $maskedDB$. Czyli $EM = Y || maskedSeed || maskedDB$.\n",
        "\n",
        "2) Oblicz: $lHash = H(\"\")$.\n",
        "\n",
        "3) Oblicz: $seedMask = mgf1(maskedDB, hlen)$.\n",
        "\n",
        "4) Oblicz: $seed = maskedSeed ⊕ seedMask$.\n",
        "\n",
        "5) Oblicz: $dbMask = mgf1(seed, k - hlen - 1)$.\n",
        "\n",
        "6) Oblicz: $DB = maskedDB ⊕ dbMask$.\n",
        "\n",
        "7) Rozpkauj tablicę bakjtów $DB$. Pierwsze (najbardziej znaczące) $hlen$ bajtów przypisz do zmiennej $lHash'$. Następne $k - mlen - 2*hlen - 2$ bajtów do PS. Kolejny pojedynczy bajt powinien wynosić 0x01, jeżeli jest inaczej zwróć błąd i **zakończ działanie**. Resztę bajtów przypsiz do zmiennej $M$. Czyli: $DB = lHash' || PS || 0x01 || M$. \n",
        "\n",
        "8) Jeżeli $Y \\neq 0x00$ zwróć błąd i **zakończ działanie**.\n",
        "\n",
        "9) Jeżeli $lHash \\neq lHash'$ zwróć błąd i **zakończ działanie**.\n",
        "\n",
        "10) Zwróc $M$."
      ],
      "metadata": {
        "id": "Toe-FHBzU1n-"
      }
    },
    {
      "cell_type": "markdown",
      "source": [
        "**Zadanie 6**\n",
        "\n",
        "Zaproogramuj kodowanie i dekodowanie OAEP. Zmodyfikuj algorytm szyfrowania RSA, tak, aby przed zaszyfrowaniem wiadomość była paddingowana. Zmodyfikuj algorytm deszyfrowania tak, aby po zdeszyfrowaniu konieczne było wywołanie metody dekodowania OAEP w celu odzyskania wiadomości."
      ],
      "metadata": {
        "id": "A0yx2wepX4n1"
      }
    },
    {
      "cell_type": "code",
      "source": [
        "# def bytes_xor(n1, n2):\n",
        "#   result = int.from_bytes(n1, byteorder='big') ^ int.from_bytes(n2, byteorder='big')\n",
        "#   result = result.to_bytes((result.bit_length() + 7) // 8, byteorder='big')\n",
        "#   return result\n",
        "def bytes_xor(n, m):\n",
        "  xored = int.from_bytes(n, byteorder='big') ^ int.from_bytes(m, byteorder='big')\n",
        "  s = math.ceil(xored.bit_length() / 8)\n",
        "  return xored.to_bytes(s, byteorder='big')"
      ],
      "metadata": {
        "id": "oeeS3sjeTC5X"
      },
      "execution_count": null,
      "outputs": []
    },
    {
      "cell_type": "code",
      "source": [
        "def OAEP_encode(k, M, H=hl.sha256, hlen=256//8, mgf=MGF1):\n",
        "  mlen = len(M)\n",
        "  # print(f'mlen = {mlen}')\n",
        "  if mlen > k - 2 * hlen - 2:\n",
        "    raise ValueError('Algorithm pt. 1: \"mlen > k - 2 * hlen - 2\" criterium met (message is too long)')\n",
        "\n",
        "  # print(f'OAEP_encode::M = {M}')\n",
        "  if not isinstance(M, bytes):\n",
        "    M = bytes(M, 'utf-8')\n",
        "\n",
        "  lHash = H(b'').digest()\n",
        "\n",
        "  PS = bytes(k - mlen - 2 * hlen - 2)\n",
        "  # print(PS)\n",
        "\n",
        "  DB = lHash + PS + b'\\x01' + M\n",
        "  # print(f'len(DB) = {len(DB)}')\n",
        "  # print(f'(k - hlen - 1) = {(k - hlen - 1)}')\n",
        "\n",
        "  if len(DB) != (k - hlen - 1):\n",
        "    raise ValueError('Algorithm pt. 4: \"len(DB) == (k - hlen - 1)\" criterium not met')\n",
        "  \n",
        "  seed = b''.join([cu.getRandomRange(0, 256).to_bytes(1, byteorder='big') for _ in range(hlen)])\n",
        "  # print(seed)\n",
        "\n",
        "  dbMask = mgf(seed, k - hlen - 1)\n",
        "  maskedDB = bytes_xor(DB, dbMask) # DB ^ dbMask\n",
        "  # print(maskedDB)\n",
        "  seedMask = mgf(maskedDB, hlen)\n",
        "  maskedSeed = bytes_xor(seed, seedMask) # seed ^ seedMask\n",
        "\n",
        "  EM = b'\\x00' + maskedSeed + maskedDB\n",
        "\n",
        "  if len(EM) != k:\n",
        "    raise ValueError('Algorithm pt. 10: \"len(EM) == k\" criterium not met')\n",
        "  \n",
        "  return EM\n",
        "\n",
        "def OAEP_decode(k, EM, mlen, H=hl.sha256, hlen=256//8, mgf=MGF1):\n",
        "  # print(f'EM = {EM}')\n",
        "  # print(f'mlen = {mlen}')\n",
        "  Y = EM[0]\n",
        "\n",
        "  # print(f'Y = \\n{Y.to_bytes(1, byteorder='big')}')\n",
        "\n",
        "  if not Y.to_bytes(1, byteorder='big') == b'\\x00':\n",
        "    raise ValueError('Algorithm pt. 8: \"Y == b\\\\x00\" criterium not met')\n",
        "\n",
        "  maskedSeed = EM[1:hlen + 1] # desc tells that it should be hlen but hlen + 1 is ok\n",
        "  maskedDB = EM[hlen + 1::]\n",
        "  \n",
        "  # print(f'maskedSeed = \\n{maskedSeed}')\n",
        "  # print(f'maskedDB = \\n{maskedDB}')\n",
        "\n",
        "  lHash = H(b'').digest()\n",
        "  seedMask = mgf(maskedDB, hlen)\n",
        "  seed = bytes_xor(maskedSeed, seedMask)\n",
        "  dbMask = mgf(seed, k - hlen - 1)\n",
        "  DB = bytes_xor(maskedDB, dbMask)\n",
        "\n",
        "  # print(f'DB = \\n{DB}')\n",
        "\n",
        "  lHash_prim = DB[:hlen]\n",
        "  # print(f'lHash_prim = \\n{lHash_prim}')\n",
        "  # print(f'lHash = \\n{lHash}')\n",
        "\n",
        "  if not lHash == lHash_prim:\n",
        "    raise ValueError('Algorithm pt. 9: \"lHash == lHash_prim\" criterium not met')\n",
        "\n",
        "  PS = DB[hlen:(k - mlen - hlen - 2)] # (k - mlen - hlen - 2) instead of (k - mlen - 2 * hlen - 2)\n",
        "  \n",
        "  # print(f'PS = \\n{PS}')\n",
        "  # print(f'k - mlen - 2 * hlen - 2) = \\n{(k - mlen - hlen - 2)}')\n",
        "\n",
        "  if not DB[(k - mlen - hlen - 2):(k - mlen - hlen - 2) + 1] == b'\\x01':\n",
        "    raise ValueError('Algorithm pt. 7: \"DB[(k - mlen - 2 * hlen - 2) + 1] == b\\\\x01\" criterium not met')\n",
        "  \n",
        "  M = DB[(k - mlen - hlen - 2) + 1::]\n",
        "\n",
        "  # return M.decode('utf-8')\n",
        "  return M"
      ],
      "metadata": {
        "id": "-XNdRTSJI31Q"
      },
      "execution_count": null,
      "outputs": []
    },
    {
      "cell_type": "code",
      "source": [
        "M = 'Ala ma kota'\n",
        "\n",
        "OAEP_encode_res = OAEP_encode(nlen, M)\n",
        "print(f'OAEP encode result: \\n{OAEP_encode_res}')\n",
        "\n",
        "OAEP_decode_res = OAEP_decode(nlen, OAEP_encode_res, len(M))\n",
        "print(f'OAEP decode result: \\n{OAEP_decode_res.decode(\"utf-8\")}')"
      ],
      "metadata": {
        "id": "sA1oCpziYT6z",
        "colab": {
          "base_uri": "https://localhost:8080/"
        },
        "outputId": "eb30f9df-f0e0-4019-f9a1-816262474d47"
      },
      "execution_count": null,
      "outputs": [
        {
          "output_type": "stream",
          "name": "stdout",
          "text": [
            "OAEP encode result: \n",
            "b'\\x00:\\x97.\\xf8cR\\xad\\x84\\xaf\\xe9\\xd2\\r\\x8c2\\xe7\\xe9Af\\x7f~\\x07\\x03\\xde\\n\\xde\\x85\\xa1\\xa2\\x0f\\x92\\xf5,\\xac\\xd5\\xb2\\x92\\x94\\xb4M\\x9f\\xa34\\xe0\\xbcD\\xac+\\xba\\xe65y\\xdb\\xd1\\xad\\xc1\\xe7\\x012\\x97\\xd2\\xbe\\xed\\xdc\\xe8\\x981k\\xca\\x0e\\x07][\\x90.\\xa3\\x087N\\x94Cj\\xb1E\\xc67rO\\xac\\n\\xe3)\\xef\\x0c\\xd8\\xd8\\xfc\\x97\\xe3\\x0b\\xc9\\xcc\\xb0\\xb0\\xf6\\x07\\xb6\\xde\\xd64X\\x0b}\\xe6@]7y\\xca\\x91\\xad\\xb90\\x03eGno7\\x1d\\xfe\\xab/\\x141s\\xefv\\x8b\\xae\\xf6\\xa4\\xaf]U~\\xa6p.\\x1bA\\xf6\\xf0>\\xeb\\xc6W\\x84\\x91\\xbb\\x99*\\x19\\x08\\xe5\\xb3\\xd9\\xac\\x04\\xee7\\x16\\x89*\\xff>\\xac\\xcf\\x05s\\tNZ\\xff>\\xa2\\xc1\\xc0\\x16\\xda\\xbe\\xa4f\\xc1\\x97g8\\xde\\x8d\\xcc\\xf7\\xcao\\xc6\\x9a7\\x92\\xdc\\xce\\xfc\\x12\\xc3\\x7f3\\xf6\\xda\\xee>\\x83d\\x9b\\xd1!\\xdc\\x84\\xdc\\x15\\x80\\x10\\xae\\xf9\\xcd\\x1bG\\xcd\\xc5*&\\x87\\x0e\\x06R?\\xd0\\xa9\\x99\\xff\\x0fj#c\\xb9\\xf9;\\x99\\xe5{\\xb2#\\xc3\\x9asrHO^\\xf4\\x7fEX\\xfb8\\x0f\\x16\\xb5\\xc8\"\\x17\\xd1&\\xe3\\xff!\\x08\\xf7\\xb2oc\\x08P\\xe8d=Q\\xfb\\xaf\\xe7\\xda\\x1cf`9=n\\x02\\xea\\xef\\xf4\\x97\\xd0\\xdf\\xee\\xb4\\xa8+|\\x15\\x8blC\\xe752Y\\xbc\\xc2\\xf6L\\x9b\\x87o\\'#\\xadz\\t\\x1e\\x9f\\x95\\xa2\\xf9\\x83\\xb9\\x80\\xbb\\x97\\xdf\\x8a\\x16\\x18\\xde\\x03\\xd1\\xd3\\xc5\\xcd\\x02+\\xff\\xf4\\xb5\\xccN\\x15v\\xddf\\x05\\xfe\\x19\\x89M\\xbdr\\x13\\xb9\\x14R\\nCI\\x00\\x80+\\x9an\\xc2N>\\x81\\x86>\\xdfVa\\x98\\xafB\\x9e2\\xf6\\\\\\x80S\\x02\\x94,]U\\xbd\\xd4hW\\xfc\\xb91\\x84\\x9b\\xe8L\\x8e\\x16B\\xe7{\\x8c\\xb60\\xc6\\x9cs\\xa3\\xfb\\x9f?\\x1f\\x1cP\\xde\\x1a\\x84\\x87\\xdf!\\x92M/\\xe8\\xf3\\xf5\\x90_\\xd1?}\\xfb\\xebY\\xbap\\xeew\\x19\\xdd\\xe3\\xf0\\xbdD?\\x8e\\xf2\\xc7Y\\xce2>\\xde3,e81P\\x18\\xf8C\\x03\\x83\\xac\\x8a\\x0e*\"=i\\xf5\\xc9\\x0f\\xbeRq\\xd6Uji\\x0b\\xb2\\x990a\\xaa\\x06\\x9bu\\x96\\x82wy\\x97&\\xa7\\x0c\\x0e6\\xcc\\x04\\xc5CM\\xeb\\x11\\xb8\\x17T\\x9a\\x12\\x1e\\x8d\\xa1N\\x95\\x1e\\x87/\\xbe\\x97\\xd8\\xa5j\\n\\x0ej\\x86\\xaa\\x0c\\xa7\\x9f5\\xc8\\x1c\\xdf\\x80\\xa9\\xf6\\x1c~p)\\xb6\\x13\\x94\\xb6\\xaa$\\t\\xad\\x97\\xect\\xf1n<\\x8e\\xf0t\\xa7\\xa9z\\xb1\\xc5\\x02\\xb6\\xae=\\xb8c\\x1f\\x9dO\\xf9\\xd0\\xdfC\\xed\\x10\\xc8\\x83\\xfc\\xfeo\\x1a\\x92V\\xdc\\x8e|\\x1a\\xfc\\x13\\x97\\xf2\\xd3\\xeb\\x89^\\xfcq\\x85\\xbdW\\xf6\\xef\\xe6\\x8d(b+\\xf8i\\x926\\xa8kD\\xa6WK\\xff\\x0c\\x852\\xe7e)\\xe3\\xb2\\xb9\\x1eL\\r\\x93*\\xf1\\xc1]%)\\x99\\xfb 5\\x8e\\x92g\\xb4GE\\x1c\\xe0{\\xc2\\xfa\\xcc\\x8f2\\xf03\\xcaj\\xfd\\xee\\xff\\x90d\\xda\\x97\\x04Fb-.\\xe9\\xac\\x05\\x02\\x1d\\xaa\\x80\\xc6m\\xe8\\x81\\x14\\xbc\\xd2\\x906,h\\xc4\\xd5\\xfe\\x98\\xe9\\x8dP\\xfc\\x1a66BP\\xcd\\xcb\\xca\\t\\x10U|\\x16\\xf7)F\\x9d\\x99\\xcf\\xb1\\x0b\\xdf7\\x15cT\\x9d\\xfdW\\xef({\\xb8\\t+n2\\x13\\xfa\\x85hG\\xd4I\\xe3S\\xd3\\xe53\\x92\\x88M\\xe5h\\x182H\\xf3\\x80\\xf4\\x07\\x0eE\\x00\\x18G\\xf3\\t\\xd3\\xe9\\x1fY\\nN8\\x1fe\\x08 \\x1d\\x90\\x16\\x82\\xe0\\xb9?\\x85\\x88\\x17\\x97\\xc6r\\'\\xd3H\\x9cp-\\xf8w\\xc7\\xe74\\xc0\\x03\\x8d,\\x9c\\xc8\\x8c\\x1f\\x11\\x9a\\x00\\x04 \\x97kjh\\x9fv\\xae\\xf2Y\\x8e;\\r\\xa33\\xb7\\x05\\xd6\\xd1?.\\xc1`\\x17}=\\xffk\\xd3\\xbdv\\xa8`\\xd0\\x0c$\\x1f\\x0b\\x1f\\x17\\xeaeLo9YiR\\xedB:\\xd52|\\x97:\\xb5\\xe67\\xe4\\xd4;\\xce\\x1d\\x9b\\xf5\\xe2\\xb0\\xe8\\xde\\xc8%^\\xf4\\x1f2p\\x83\\x11\\x93a\\xd78\\xbd7\\xe8\\x8e\\xe0\\xe5\\x85\\xddj6]<\\xb1\\xbe\\x18\\x9ff\\xd3\\xf9\\x96\\x91\\'\\xa6\\x85\\xc3\\xb7\\xd9V\\x14\\xba\\n\\xc8Pk\\x18\\x88\\xa9z]\\xd1\\x06\\x88\\'*MB\\x89g/Ge\\xc0|a\\x0c\\xac=\\x96A%\\x10!\\xd3m(\\t^\\xbe\\xe8\\xa7\\x10\\x1dP\\xd4\\x9e\\\\\\xb7\\xcaC\\x87\\x16\\xb1u\\xb2m\\xc1%\\x8a\\xb4\\xffo\\x9d\\xc1Zm\\x95\\xe9\\x7f,(\\x14\\xde0eeS\\x08\\x16/7\\xed\\x16f4S\\xb1e&td\\xd6WW\\xda4\\xee\\xf8\\xea\\'b-wG\\x1b\\xde\\x98J(\\x94\\n\\x1e|\\xd5\\xd3\\x85\\r\\xfaV\\xdb\\xe3\\xef\\xe1f\\xda\\x98\\xeeB\\xee\\x0e\\xaeJTv-\\x83\\x9b+=Z<\\xeb\\xe1\\xd6Z\\xa2y\\\\Pvh\\xdcP\\x84rl8\\xe0Q\\x17x-\\x1dd\\x0fo\\xf30\\x82n=B\\xfe\\xf3`F\\x11\\xaf\\xe3\\x1a\\xb3\\xd9\\x96#\\x92\\xb5\\x17\\xb7S\\xa6\\xd0?\\xaf\\xd8\\x14\\xea\\x18v6\\xf7N\\x81\\r\\xa3\\xb5\\xf6]7F \\x95 \\x06\\xd9a\\xe4\\xac\\xae;\\x07\\xb3\\x91:x\\xe3\\xb3\\xfd\\xe8\\xf0}\\xa0;\\xee\\x87\\x99\\x92\\xba\\xa1\\xb2\\xfd\\x1c\\xd6-\\x87lYVa\\x86\\x18b\\x90l2\\xd2\\xef\\xd35\\xf7\\xb9}q4\\xd9\\n4\\xc3\\xc6\\xfb\\xf9\\xbcr~\\xce\\x80Y\\x82\\xdc\\xffR\\xbb\\x07\\x99K7q\\xae\\xda\\xfa\\xf0\\x84\\xb4j[\\xc6\\xb0\\xf7[~\\x03\\x14P\\xfe\\x0e\\\\\\xd9Dv\\x90\\x90\\x81R\\xb2\"v\\x81\\x92\\xcb\\x0f\\x14\"I\\x86\\xb7]\\xde\\xea\\x9c4\\xc5\\xc5\\x9b\\x04\\tO\\x08\\xab\\xcd\\xb21\\xc9\\x85u\\xc6_y\\xdeP\\xee^}\\xd9e\\r\\x9e)\\x92\\xb4\\xef\\xf4\\xd7\\xcd\\n\\xf3\\x87\\xe3=\\xc8\\xac>\\xe4\\xfe\\xdb\\xab\\x9c\\x05\\xee\\xce\\xad\\xf9\\xc8\\x0f{2\\x9a.\\xbe\\xf05>\\x16\\x0cJ|\\xefI?\\xb9\\x08}\\xdd\\xa2\\x7fi\\x0b\\xe0\\x1d\\x90\\xd5\\xc3\\x9d\\x0fB\\x92\\x1c\\xe5\\xdf\\xb8\\xe8\\r\\x02\\x81\\xc4\\xa0\\x0f\\x1f\\x0e\\x0e\\xb9\\xf4\\x9b\\x8f\\xda~\\xe8\\xd8\\x11\\x93\\xe9\\xe6\\xfd9\\x93\\xfa\\\\\\xd8U\\xbb\\xca.\\xa3\\xffd\\x0b\\xbf\\x16W>%\\r\\x9e\\xc8\\xb7\\x12\\xc5\\x0c\\xa3\\xef\\xd4\\xd7@\\x01\\x1a\\x06\\xd4\\x93\\x96\\xe8n\\x82Y\\x80\\xb56\\x9e\\x14\\xb67\\xff\\x0c@\\x95G\\xd3\\x96-?\\x10L\\x1d:P8\\xbfc5\\x9a\\xbaGo\\x15\\x7f\\x87\\x07z\\x87\\xb8\\xb2\\xcc\\x05 \\xae\\xa4\\xa5u\\r(\\xc6\\xec\\xff\\xde\\xc4[D\\xac\\x11\\x90\\xdcw\\x80ZX/\\xf0\\xf5\\xdbq\\xe4AZ>\\x80,L\\xa3\\xdbD\\x14\\x82\\xd7\\x9d\\xcf\\xca$\\xf9a\\xaeER6\\xb6Y}\\xb5\\x9e\\x1b\\xfay\\x97r{\\xd0Y\\xaf\\x1c\"\\x8b\\xad\\xb8\\x85+\\x0e\\x94\\xb5F\\xf5\\xf2\\xb5<;\\xf6f.L\\xd5\\xf0\\x80qW\\xb4\\xc6\\xf9Hh\\x1a\\x8d\\x1d\\xd7\\xa1\\xa4\\x19\\x7f\\x91\\x95\\xa4I\\xe2y\\x8fb\\x9c\\x88\\x97\\x9e\\xdbA\\x90\\xde\\x9d\\xa1\\xdd\\x84\\\\\\xfc\\x88\\xc2\\xf0\\xeam\\xba\\xc2\\xa9\\x82\\xb2\\n\\x7f\\xfb\\xda\\xea\\xd3\\xe9A\\xb2\\x9c$\\xe1\\xec\\xe4\\xe2\\x1c\\x919n\\x12w\\xe9 a\\xc1Wt\\x04\\x9e\\xb44\\xdc\\xe8v\\xc2\\xec\\n\\xccBOMFt\\xc3\\xfb\\x91.\"\\x03b\\x96\\x90\\x15|GBj\\xb2\\xa0\\xcfosq\\xe2\\x81\\xfd\\xa2\\x18J\\xb07n\\x0591pN\\xeaN[\\xf9o\\\\\\x80\\x110\\xd1\\x9c\\xed\\xff<n\\x88\\xdaIP\\x9f\\xfa\\xe9\\xd0\\x16\\xc4!\\xf0\\xac\\n\\x03\\x1f\\xe6u\\xe5\\x08}\\xcf\\xf7\\x87<Q\\x90?l\\xd8`$\\xce\\x0c\\xf36\\x8d\\x82\\x9c\\xf7[\\xa4i\\xd8t\\x05q\\xc2R:\\x85\\xb1!:\\xdde\\xe4\\x02s\\x7f\\x7f\\xba\\xb3\\xb0\\xe9\\xf8%\\xe35\\xe3\\x17%\\xe9\\xaa\\xd0\\x00\\x7f\\xbe\\xac\\x80\\\\\\xdb\\x1a\\xf5\\xf0N\\xec\\r:&\\xc8\\xa4\\xfa\\xe2\\xeb \\x07\\xb0.\\x18\\xca\\xa4\\xb5GwbxZ\\xb4\\xe7\\x0f\\x85\\xd8v*\\x8a\\x0b\\xbc\\xc7)\\xd5\\xf2H\\xe9\\x8c\\x13\\xc3_y\\xcd\\xd4:\\xb4\\x02\\x1f\\x06\\xedM\\x97\\xc7\\xc4\\x17\\x89\\x1a\\xceR;\\x15&\\x0bs)\\x97\\x9b\\xca\\x96E\\xc0\\xb6p0a\\x18\\x07 \\x9c\\x9b\\xad\\xb2\\x9d\\xb58\\xc4\\xd9t^\\x8fLT\\x11\\x0f\\xb81\\xbew\\x91\\xc5\\x16\\xc8\\x0f\\x01\\xe1z\\xaf\\xb8\\x9a\\xc9\\xaf\\xf6\\xe8\\xffmA\\x81G\\xc82\\x04]\\xcd\\xe9\\x15\\xcc\\xad\\x8fr\\xeeA\\xf5e\\xebe--\\xdf\\xceL\\x82T\\x08\\xd7\\xb1\\x1aR\\x01\\xc2\\x8e\\xb8\\xd6\\xa2\\x12\\x97\\x087#\\x98|>\\xa8\\xcf\\xef\\x94\\x9f\\x9d,\\xccb\\xf1\\x8e\\x84e@fg\\xdd\\xe9\\x16\\xf4:\\xf5\\xc1\\xe7\\x13\\xf5\\xbe\\x16\\xca\\n\\xea\\x9e\\x93\\xdfEK\\xe1\\xc4o\\xf5\\x0c\\xee\\x81\\xff\\xd6\\xdfO7\\xf8K[\\xabQ@\\xe7+a\\xb8\\x94\\xa0\\x88EY\\xbb\\xa11\\x0b\\x8e76\\xa1\\xd4`\\x1d_\\xf1\\xd2\\xfb\\x98W\\x81%\\xdd\\xd2\\x1d\\xc8\\xd6\\xc8\\xe2\\xd3G3=\\xcb/\\x8eWI\\xdf\\xfe'\n",
            "OAEP decode result: \n",
            "Ala ma kota\n"
          ]
        }
      ]
    },
    {
      "cell_type": "code",
      "source": [
        "def encryptRSA_OAEP(M, public_key):\n",
        "  e, n = public_key\n",
        "  k = n.bit_length() // 8\n",
        "  M = OAEP_encode(k, M)\n",
        "  M = int.from_bytes(M, byteorder='big')\n",
        "  C = pow(M, e, n)\n",
        "  return C\n",
        "\n",
        "def decryptRSA_OAEP(C, mlen, private_key):\n",
        "  d, n = private_key\n",
        "  k = n.bit_length() // 8\n",
        "  M = pow(C, d, n)\n",
        "  M = M.to_bytes(k, byteorder='big')\n",
        "  M = OAEP_decode(k, M, mlen)\n",
        "  return M"
      ],
      "metadata": {
        "id": "Ba49-k7-pQs5"
      },
      "execution_count": null,
      "outputs": []
    },
    {
      "cell_type": "code",
      "source": [
        "M = 'Ala ma kota'\n",
        "\n",
        "encryptRSA_OAEP_res = encryptRSA_OAEP(M, public_key)\n",
        "print(f'encryptRSA_OAEP: \\n{encryptRSA_OAEP_res}')\n",
        "\n",
        "decryptRSA_OAEP_res = decryptRSA_OAEP(encryptRSA_OAEP_res, len(M), private_key)\n",
        "print(f'decryptRSA_OAEP_res: \\n{decryptRSA_OAEP_res}')"
      ],
      "metadata": {
        "colab": {
          "base_uri": "https://localhost:8080/"
        },
        "id": "0792MmRWqXTt",
        "outputId": "9a4b2c67-d3d0-4308-d77b-b4139947fa19"
      },
      "execution_count": null,
      "outputs": [
        {
          "output_type": "stream",
          "name": "stdout",
          "text": [
            "encryptRSA_OAEP: \n",
            "7499928425166095434223677342457267668314097645040883345809832720529417303589550030950374212339816482169613324528298536666566350286494651525968456190476955830422008525196593741317691063271426449550479921920138057120174523049889652876570254150297131709522480048021537453811329927134847629645049284874654169792920385708115649233749431080115229455702253479876886681707972622664369622763229696503713916286829209946378127029773684843680968787504209721040980956732652309258080606208521735487271720566272210259972597537437703932238209468592936257177782970896147231802277910313260072808411625601666757156169227057520867461005\n",
            "decryptRSA_OAEP_res: \n",
            "b'Ala ma kota'\n"
          ]
        }
      ]
    },
    {
      "cell_type": "markdown",
      "source": [
        "## EMSA - PSS\n",
        "\n",
        "Utworzenie bezpiecznej sygnatury RSA wymaga zastowania algorytmu *Encoding Method for Signature with Appendix - Probabilistic Signature Scheme* ."
      ],
      "metadata": {
        "id": "ug2e_I03YoR1"
      }
    },
    {
      "cell_type": "markdown",
      "source": [
        "### EMSA encoding"
      ],
      "metadata": {
        "id": "KrWpFTRHZSA7"
      }
    },
    {
      "cell_type": "markdown",
      "source": [
        "Parametry wejściowe:\n",
        "\n",
        "1) $H$ - funkcja skrótu SHA-256, oraz $hlen$ czyli długość zwracanego skrótu w bajtach.\n",
        "\n",
        "2) $slen$ - długość soli w bajtach, powinna być równa $hlen$.\n",
        "\n",
        "3) $M$ - bajty wiadomości do podpisania.\n",
        "\n",
        "4) $mgf1$ - Mask Generation Function 1.\n",
        "\n",
        "5) $emBits$ - pożądana długość sygnatury w bitach. Jest to najczęściej długość bitowa liczby modulus $n$ pomniejszona o jeden, czyli w naszym przypadku 2047.\n",
        "\n",
        "6) $emlen$ - długość sygnatury w bajtach, równa długości parametru $n$ wyrażonego w bajtach.\n"
      ],
      "metadata": {
        "id": "bNPN9mqIZT5F"
      }
    },
    {
      "cell_type": "markdown",
      "source": [
        "Algorytm:\n",
        "\n",
        "1) Oblicz: $mHash = H(M)$.\n",
        "\n",
        "2) Jeżeli $emlen < hlen + slen + 2$ **zakończ i zwróć błąd**.\n",
        "\n",
        "3) Wygeneruj tablicę losowych bajtów $salt$ o długości $slen$.\n",
        "\n",
        "4) Oblicz: $M' = 0x00 00 00 00 00 00 00 00 || mHash || salt$. Długość $M'$ to $8 + hlen + slen$.\n",
        "\n",
        "5) Oblicz: $mHash' = H(M')$.\n",
        "\n",
        "6) Wygeneruj tablicę $PS$ składającą się z bajtów 0x00 o długości $emlen - slen - hlen - 2$.\n",
        "\n",
        "7) Oblicz: $DB = PS || 0x01 || salt$. Długość $DB$ powinna wynosić $emlen - hlen - 1$ bajtów.\n",
        "\n",
        "8) Oblicz: $dbMask = mgf1(mHash', emlen - hlen - 1)$.\n",
        "\n",
        "9) Oblicz: $maskedDB = DB ⊕ dbMask$.\n",
        "\n",
        "10) Ustaw $8 * emlen - emBits$ **najbardziej znaczących** bitów $maskedDB$ na wartości 0.\n",
        "\n",
        "11) Oblicz: $EM = maskedDB || mHash' || 0xbc$.\n",
        "\n",
        "12) Zwróć $EM$.\n"
      ],
      "metadata": {
        "id": "6-0Vzuzf_f81"
      }
    },
    {
      "cell_type": "markdown",
      "source": [
        "## EMSA decoding"
      ],
      "metadata": {
        "id": "HWbbbw1DCGpr"
      }
    },
    {
      "cell_type": "markdown",
      "source": [
        "Parametry wejściowe:\n",
        "\n",
        "1) $H$ - funkcja skrótu SHA-256, oraz $hlen$ czyli długość zwracanego skrótu w bajtach.\n",
        "\n",
        "2) $slen$ - długość soli w bajtach, powinna być równa $hlen$.\n",
        "\n",
        "3) $EM$ - sygnatura wiadomości $M$.\n",
        "\n",
        "4) $M$ - bajty wiadomości do weryfikacji.\n",
        "\n",
        "4) $mgf1$ - Mask Generation Function 1.\n",
        "\n",
        "5) $emBits$ - długość sygnatury w bitach. Jest to najczęściej długość bitowa liczby modulus $n$ pomniejszona o jeden, czyli w naszym przypadku 2047.\n",
        "\n",
        "6) $emlen$ - długość sygnatury w bajtach, równa długości parametru $n$ wyrażonego w bajtach."
      ],
      "metadata": {
        "id": "xR6QyzduCIoc"
      }
    },
    {
      "cell_type": "markdown",
      "source": [
        "Algorytm:\n",
        "\n",
        "1) Oblicz: $mHash = H(M)$.\n",
        "\n",
        "2) Jeżeli $emlen < hlen + slen + 2$ **zakończ i zwróć błąd weryfikacji**.\n",
        "\n",
        "3) Jeżeli ostatni bajt (najmniej znaczący) $EM$ nie ma wartości 0xbc **zakończ i zwróć błąd weryfikacji**.\n",
        "\n",
        "4) Podstaw $emlen - hlen - 1$ najbardziej znaczących bajtów do $maskedDB$ oraz kolejne $hlen$ bajtów do $mHash'$.\n",
        "\n",
        "5) Jeżeli $8 * emlen - emBits$ najbardziej znaczących bitów $maskedDB$ nie ma wartości 0, **zakończ i zwróć błąd weryfikacji**.\n",
        "\n",
        "6) Oblicz: $dbMask = mgf1(mHash', emlen - hlen - 1)$.\n",
        "\n",
        "7) Oblicz: $DB = maskedDB ⊕ dbMask$.\n",
        "\n",
        "8) Ustaw $8 * emlen - emBits$ najbardziej znaczących bitów $DB$ na 0.\n",
        "\n",
        "9) Jeżeli $emlen - hlen - slen - 2$ najbardziej znaczących bajtów $DB$ nie posiada wartości 0x00 lub gdy bajt na pozycji $emlen - hlen - slen - 1$ (licząc od najbardziej znaczącego) nie posiada wartości 0x01 **zakończ i zwróć błąd weryfikacji**.\n",
        "\n",
        "10) Przypisz do zmiennej $salt$ dokładnie $slen$ najmniej znaczących bajtów $DB$.\n",
        "\n",
        "11) Oblicz: $M' = 0x00 00 00 00 00 00 00 00 || mHash || salt$. Długość $M'$ to $8 + hlen + slen$.\n",
        "\n",
        "12) Oblicz $mHash'' = H(M')$.\n",
        "\n",
        "13) Jeżeli $mHash' \\neq mHash''$ **zakończ i zwróć błąd weryfikacji**, w przeciwnym razie **weryfikacja powiodła się**.\n"
      ],
      "metadata": {
        "id": "MqZUQgT6CspI"
      }
    },
    {
      "cell_type": "markdown",
      "source": [
        "**Zadanie 7**\n",
        "\n",
        "Zaprogramuj kodowanie i dekodowanie EMSA, a następnie popraw algorytmy tworzenia i weryfikacji podpisu cyfrowego RSA. Tworzenie podpisu powinno wyglądać tak, że wiadomość najpierw jest kodowana z wykorzystaniem EMSA, a później tworzony jest popdis z wykorzystaniem klucza prywatnego. Dekodowanie powinno wyglądać tak, że najpierw używany jest klucz publiczny do odtworzenia podpisu EMSA, a następnie wykorzystywane jest dekodowanie EMSA w celu weryfikacji."
      ],
      "metadata": {
        "id": "wrxJHSkyIvz5"
      }
    },
    {
      "cell_type": "code",
      "source": [
        "def EMSA_encode(emlen, M, H=hl.sha256, hlen=256//8, mgf=MGF1):\n",
        "  emBits = emlen * 8 - 1\n",
        "  slen = hlen\n",
        "  M = bytes(M, 'utf-8')\n",
        "\n",
        "  mHash = H(M).digest()\n",
        "  if emlen < hlen + slen + 2:\n",
        "    raise ValueError('Algorithm pt. 2: \"emlen < hlen + slen + 2\" criterium met')\n",
        "  \n",
        "  salt = bytearray(random.getrandbits(4) for _ in range(slen))\n",
        "  # print(f'salt =\\n{salt}')\n",
        "  # print(f'len(salt) =\\n{len(salt)}')\n",
        "  \n",
        "  # print(f'mHash = {mHash}')\n",
        "  # print(f'len(mHash) = {len(mHash)}')\n",
        "  # print(f'salt = {salt}')\n",
        "  # print(f'len(salt) = {len(salt)}')\n",
        "\n",
        "  M_prim = b'\\x00\\x00\\x00\\x00\\x00\\x00\\x00\\x00' + mHash + salt # M_prim = b'\\x0000000000000000' + mHash + salt\n",
        "  # print(f'len(M_prim) = {len(M_prim)}')\n",
        "  # print(f'8 + hlen + slen = {8 + hlen + slen}')\n",
        "\n",
        "  if not len(M_prim) == 8 + hlen + slen:\n",
        "    raise ValueError('Algorithm pt. 4: \"len(M_prim) == 8 + hlen + slen\" criterium not met')\n",
        "  \n",
        "  mHash_prim = H(M_prim).digest()\n",
        "  # print(f'EMSA_encode::mHash_prim = {mHash_prim}')\n",
        "  PS = bytes(emlen - slen - hlen - 2)\n",
        "\n",
        "  DB = PS + b'\\x01' + salt\n",
        "\n",
        "  if not len(DB) == emlen - hlen - 1:\n",
        "    raise ValueError('Algorithm pt. 7: \"emlen - hlen - 1\" criterium not met')\n",
        "  \n",
        "  dbMask = mgf(mHash_prim, emlen - hlen - 1)\n",
        "  maskedDB = bytes_xor(DB, dbMask)\n",
        "\n",
        "  # print(f'EMSA_encode:: len(maskedDB)= {len(maskedDB)}')\n",
        "\n",
        "  # bin -> format 0b -> dlatego [2:] usuwa ten prefiks\n",
        "  # zfill dopełnia do pełnej długości\n",
        "  binary = bin(int.from_bytes(maskedDB, byteorder='big'))[2:].zfill(len(maskedDB) * 8)\n",
        "  # print(f'EMSA_encode:: binary beofre zero = \\n{binary}')\n",
        "  binary = '0' * (8 * emlen - emBits) + binary[8 * emlen - emBits:]\n",
        "  # print(f'EMSA_encode:: binary = \\n{binary}')\n",
        "  # print(f'EMSA_encode:: len(binary)= {len(binary)}')\n",
        "\n",
        "  num = int(binary, 2)\n",
        "  maskedDB = num.to_bytes(len(maskedDB), byteorder='big')\n",
        "  \n",
        "  # print(f'maskedDB = \\n{maskedDB}')\n",
        "  # print(f'len(maskedDB) = {len(maskedDB)}')\n",
        "  # print(f'EMSA_encode::8 * emlen - emBits = {8 * emlen - emBits}')\n",
        "  # print(f'maskedDB[8 * emlen - emBits:] = \\n{maskedDB[:8 * emlen - emBits]}')\n",
        "  # print(f'maskedDB[8 * emlen - emBits:8 * emlen - emBits + 1] (next bit) = \\n{maskedDB[8 * emlen - emBits:8 * emlen - emBits + 1]}')\n",
        "\n",
        "  EM = maskedDB + mHash_prim + b'\\xbc'\n",
        "\n",
        "  # print(f'EMSA_encode::len(EM) = {len(EM)}')\n",
        "  return EM\n",
        "\n",
        "def EMSA_decode(emlen, EM, M, H=hl.sha256, hlen=256//8, mgf=MGF1):\n",
        "  emBits = emlen * 8 - 1\n",
        "  slen = hlen\n",
        "  # print(f'EM = {EM}')\n",
        "  # print(f'len(EM) = {len(EM)}')\n",
        "\n",
        "  M = bytes(M, 'utf-8')\n",
        "  mHash = H(M).digest()\n",
        "\n",
        "  # print(f'mHash = {mHash}')\n",
        "\n",
        "  if emlen < hlen + slen + 2:\n",
        "    raise ValueError('Algorithm pt. 2: \"emlen < hlen + slen + 2\" criterium met')\n",
        "  \n",
        "  # print(f'EM[-1] = {EM[-1]}')\n",
        "  # print(f'EM[-1].to_bytes(1, byteorder=\"big\") = {EM[-1].to_bytes(1, byteorder=\"big\")}')\n",
        "\n",
        "  if EM[-1].to_bytes(1, byteorder='big') != b'\\xbc':\n",
        "    raise ValueError('Algorithm pt. 3: \"M[-1] != b\\\\xbc\" criterium not met')\n",
        "\n",
        "  maskedDB = EM[:emlen - hlen - 1]\n",
        "  # print(f'maskedDB = {maskedDB}')\n",
        "  # print(f'len(maskedDB) = {len(maskedDB)}')\n",
        "  # print(f'len(maskedDB) * 8 = {len(maskedDB) * 8}')\n",
        "  mHash_prim = EM[emlen - hlen - 1:emlen - 1]\n",
        "  # print(f'mHash_prim = {mHash_prim}')\n",
        "  \n",
        "  # print(f'EMSA_decode:: emlen - hlen - 1 = {emlen - hlen - 1}')\n",
        "  # print(f'EMSA_decode::8 * emlen - emBits = {8 * emlen - emBits}')\n",
        "\n",
        "  if not bin(int.from_bytes(maskedDB, byteorder='big'))[2:].zfill(len(maskedDB) * 8)[:8 * emlen - emBits] == '0' * (8 * emlen - emBits):\n",
        "    raise ValueError('Algorithm pt. 5: \"maskedDB[8 * emlen - emBits] == 0\" criterium not met')\n",
        "\n",
        "  dbMask = mgf(mHash_prim, emlen - hlen - 1)\n",
        "\n",
        "  # print(f'dbMask = \\n{dbMask}')\n",
        "  # print(f'maskedDB = \\n{maskedDB}')\n",
        "\n",
        "  DB = bytes_xor(maskedDB, dbMask)\n",
        "  # print(f'DB = {DB}')\n",
        "  binary = bin(int.from_bytes(DB, byteorder='big'))[2:].zfill(len(DB) * 8)\n",
        "  # print(f'binary before zeros = \\n{binary}')\n",
        "  # print(f'(8 * emlen - emBits) = {(8 * emlen - emBits)}')\n",
        "  binary = '0' * (8 * emlen - emBits) + binary[8 * emlen - emBits:]\n",
        "  num = int(binary, 2)\n",
        "  DB = num.to_bytes(len(DB), byteorder='big')\n",
        "\n",
        "  # print(f'binary = \\n{binary}')\n",
        "  # print(f'num = {num}')\n",
        "  # print(f'DB = {DB}')\n",
        "  # print(f'DB[:emlen - hlen - slen - 2] = {DB[:emlen - hlen - slen - 2] }')\n",
        "  # tempvar = b'\\x00' * (emlen - hlen - slen - 2)\n",
        "  # print(f'b\"\\\\x00\" * (emlen - hlen - slen - 2) = {tempvar}')\n",
        "\n",
        "  if DB[:emlen - hlen - slen - 2] != b'\\x00' * (emlen - hlen - slen - 2):\n",
        "    raise ValueError('Algorithm pt. 9: \"DB[emlen - hlen - slen - 2] == 0\" criterium not met')\n",
        "  \n",
        "  # print(f'len(DB) = {len(DB)}')\n",
        "  # print(f'DB[emlen - hlen - slen - 2:emlen - hlen - slen - 1] = {DB[emlen - hlen - slen - 2:emlen - hlen - slen - 1]}')\n",
        "  if DB[emlen - hlen - slen - 2:emlen - hlen - slen - 1] != b'\\x01':\n",
        "    raise ValueError('Algorithm pt. 9: \"DB[emlen - hlen - slen - 1] == b\\\\x01\" criterium not met')\n",
        "\n",
        "  salt = DB[-slen:]\n",
        "  M_prim = b'\\x00\\x00\\x00\\x00\\x00\\x00\\x00\\x00' + mHash + salt\n",
        "  if not len(M_prim) == 8 + hlen + slen:\n",
        "    raise ValueError('Algorithm pt. 11: \"len(M_prim) == 8 + hlen + slen\" criterium not met')\n",
        "  \n",
        "  mHash_bis = H(M_prim).digest()\n",
        "\n",
        "  if not mHash_prim == mHash_bis:\n",
        "    raise ValueError('Algorithm pt. 13: \"mHash_prim == mHash_bis\" criterium not met')\n",
        "  \n",
        "  return True"
      ],
      "metadata": {
        "id": "UMR18zEnbrke"
      },
      "execution_count": null,
      "outputs": []
    },
    {
      "cell_type": "code",
      "source": [
        "M = 'Ala ma podpis'\n",
        "\n",
        "EMSA_encode_res = EMSA_encode(nlen//8, M)\n",
        "\n",
        "print(f'M = \\n{M}')\n",
        "print(f'EMSA_encode_res = \\n{EMSA_encode_res}\\n')\n",
        "print(f'EMSA_decode verify: \\n{EMSA_decode(nlen//8, EMSA_encode_res, M)}')\n"
      ],
      "metadata": {
        "id": "S-TbQA4NJrl3",
        "colab": {
          "base_uri": "https://localhost:8080/"
        },
        "outputId": "50ccce4a-239b-424b-e044-323d93d42c62"
      },
      "execution_count": null,
      "outputs": [
        {
          "output_type": "stream",
          "name": "stdout",
          "text": [
            "M = \n",
            "Ala ma podpis\n",
            "EMSA_encode_res = \n",
            "b'\\x1f>\\x9e\\xa2\\xd7\\xff\\x98N\\x1a\\xbd\\xb0\\xc7<\\x91BY\\x10\\xb6\\x93\\x12\\x1e\\n\\x1d\\xef8\\x06\\x13\\xb3Z\\x08\\xf8>+*\\xc8\\xb5\\xbe\\xbd\\xd2\\x8b&\\x8an\\xac\\x1e\\xe7 }1\\xd9^\\x7f\\xa2\\xf3\\x84x\\x96\\nY\\n\\xb9\\x8d\\x06l\\xbarF\\x7fH\\x83\\x8dw\\xde\\x80$\\xd3\\x85\\xd1\\x08\\x93*LE\\xde\\xfbW\\xe3a\\n+\\xa5\\xf9\\xb1y\\xb8\\xe1k\\xd7\\xd6Q\\xa8\\xc2W\\x16Y\\xc1\\x1c\\x1f#!o\\x84\\x9d\\x87\\x14{\\x9a\\x18\\x89\\xa4\\xe7)\\xe8|\\xd9\\xe7\\x07\\xc4\\x19ld\\xa3\\xfc\\xd7,\\xd6\\x16\\xae\\xb31\\xde\\x9dv|x\\xd87\\xddk?+\\xd7\\xef\\x8a\\x9fFE\\xd4\\xa0\\xa1?]p\\xcf\\x91\\n\\xb2 \\x17\\xad\\x13L\\xf5\\x8e;F\\xd4\\xf3c\\x86\\x91\\x11\\r\\xe8\\xed\\x85m_~J\\xe7?\"@\\xef!I\\x18\\xd3\\x8b\\xd4TkY\\xe4&\\xf1,\\xef\\xb6^\\xb0&UV\\x0c\\x00lL\\xab\\xa7\\xaa\\xac\\r\\xc4\\xbc\\x94\\xa9\\x13\\xbeQ\\xee\\xa5\\xf6?\\x98\\x02\\xa3\\xff\\xe8\\x93\\xf5\\xb4:\\xf9\\x8f\\xf4F\\xf8\\x96\\xb1kGHM\\xbc'\n",
            "\n",
            "EMSA_decode verify: \n",
            "True\n"
          ]
        }
      ]
    },
    {
      "cell_type": "code",
      "source": [
        "def create_SIG_EMSA(M, key, nlen=2048//8):\n",
        "  EMSA_encode_res = EMSA_encode(nlen, M)\n",
        "  SIG = pow(int.from_bytes(EMSA_encode_res, byteorder='big'), key[0], key[1])\n",
        "  return M, SIG\n",
        "\n",
        "def verify_SIG_EMSA(M, SIG, key, nlen=2048//8):\n",
        "  VER = pow(SIG, key[0], key[1])\n",
        "\n",
        "  try:\n",
        "    return EMSA_decode(nlen, VER.to_bytes(nlen, byteorder='big'), M)\n",
        "  except ValueError:\n",
        "    return False"
      ],
      "metadata": {
        "id": "vpPlAWEk6jAk"
      },
      "execution_count": null,
      "outputs": []
    },
    {
      "cell_type": "code",
      "source": [
        "M = 'Ala ma podpis'\n",
        "M2 = 'Podpis ma Ale'\n",
        "\n",
        "create_SIG_EMSA_result = create_SIG_EMSA(M, private_key)\n",
        "print(f'Message 1: {M}')\n",
        "print(f'Message 2: {M}')\n",
        "print(f'Verify result: {verify_SIG_EMSA(M, create_SIG_EMSA_result[1], public_key)}')"
      ],
      "metadata": {
        "colab": {
          "base_uri": "https://localhost:8080/"
        },
        "id": "epe4eOU3PL34",
        "outputId": "6bf108fb-726c-4cc1-8a92-e47806cb0531"
      },
      "execution_count": null,
      "outputs": [
        {
          "output_type": "stream",
          "name": "stdout",
          "text": [
            "Message 1: Ala ma podpis\n",
            "Message 2: Ala ma podpis\n",
            "Verify result: True\n"
          ]
        }
      ]
    },
    {
      "cell_type": "code",
      "source": [
        "print(f'Message 1: {M}')\n",
        "print(f'Message 2: {M2}')\n",
        "create_SIG_EMSA_result = create_SIG_EMSA(M, private_key)\n",
        "print(f'Verify result: {verify_SIG_EMSA(M2, create_SIG_EMSA_result[1], public_key)}')"
      ],
      "metadata": {
        "colab": {
          "base_uri": "https://localhost:8080/"
        },
        "id": "eAfcVbnHUjZg",
        "outputId": "5437c695-3696-4e8b-e565-85fcfdbafde0"
      },
      "execution_count": null,
      "outputs": [
        {
          "output_type": "stream",
          "name": "stdout",
          "text": [
            "Message 1: Ala ma podpis\n",
            "Message 2: Podpis ma Ale\n",
            "Verify result: False\n"
          ]
        }
      ]
    },
    {
      "cell_type": "markdown",
      "source": [
        "## RSA - KEM\n",
        "\n",
        "RSA - KEM, czyli z ang. *Key Encapsulation Mechanism* to prosty algorytm dedykowany do wymiany klucza symetrycznego. Obie strony dysponują uzgodnioną funkcją skótu H. Instancja, która chce **otrzymać** tajny klucz do komunikacji symetrycznej generuje klucze RSA i udostępnia swój klucz publiczny. Instancja, która chce wygenerować tajny klucz do komunikacji symetrycznej dysponuje kluczem publicznym instancji, która chce go otrzymać."
      ],
      "metadata": {
        "id": "d7txLS64JZI-"
      }
    },
    {
      "cell_type": "markdown",
      "source": [
        "Instancja generująca klucz symetryczny:\n",
        "\n",
        "1) Znajdź losową liczbę $RAND$ spełniającą warunki OAEP.\n",
        "\n",
        "2) Oblicz: $KEY = H(RAND)$. Jeżeli trzeba, przytnij $KEY$ do odpowiedniej długości.\n",
        "\n",
        "3) Oblicz: $CIPHERED\\_KEY = RSA\\_OAEP\\_ENCODING(KEY, (e, n))$.\n",
        "\n",
        "4) Wyślij $CIPHERED\\_KEY$."
      ],
      "metadata": {
        "id": "tl7cu30PJ1lk"
      }
    },
    {
      "cell_type": "markdown",
      "source": [
        "Instancja otrzymująca zaszyfrowany klucz symetryczny:\n",
        "\n",
        "1) Oblicz: $KEY = RSA\\_OAEP\\_DECODING(CIPHERED\\_KEY, (d, n))$\n",
        "\n",
        "2) Jeżeli trzeba przytnij $KEY$ do odpowiedniej długości."
      ],
      "metadata": {
        "id": "oFB9JAwULw70"
      }
    },
    {
      "cell_type": "markdown",
      "source": [
        "Np. AES występuje w wersji 128b, 192b i 256b. Jeżeli jako H przyjmiemy więc SHA-256, nie trzeba przycinać klucza dla algorytmu AES-256. W przeciwnym razie należy klucz odpowiednio przyciąć (z lewej lub prawej, byle obie strony tak samo) i to ta wartość staje się kluczem symetrycznym."
      ],
      "metadata": {
        "id": "386c_pDZMSRG"
      }
    },
    {
      "cell_type": "markdown",
      "source": [
        "**Zadanie 8**\n",
        "\n",
        "Zasymuluj takową wymianę (bez przycinania klucza)."
      ],
      "metadata": {
        "id": "7N66NPBBMpLS"
      }
    },
    {
      "cell_type": "code",
      "source": [
        "def encrypt_key_RSA_KEM(pkey, H=hl.sha256):\n",
        "  rand = random.randint(0, 256).to_bytes(1, byteorder='big')\n",
        "  key = H(rand).digest()\n",
        "  cipherered_key = encryptRSA_OAEP(key, pkey)\n",
        "  return cipherered_key, key\n",
        "\n",
        "def decrypt_key_RSA_KEM(cipherered_key, key, pkey):\n",
        "  # print(f'cipherered_key = {cipherered_key}')\n",
        "  # print(f'key = {key}')\n",
        "  return decryptRSA_OAEP(cipherered_key, len(key), pkey)"
      ],
      "metadata": {
        "id": "Td_Qg2zlMuRt"
      },
      "execution_count": null,
      "outputs": []
    },
    {
      "cell_type": "code",
      "source": [
        "encrypt_key_RSA_KEM_res = encrypt_key_RSA_KEM(public_key)\n",
        "decrypt_key_RSA_KEM_res = decrypt_key_RSA_KEM(encrypt_key_RSA_KEM_res[0], encrypt_key_RSA_KEM_res[1], private_key)\n",
        "\n",
        "print(f'encrypt_key_RSA_KEM key = \\n{encrypt_key_RSA_KEM_res[1]}')\n",
        "print(f'decrypt_key_RSA_KEM key = \\n{decrypt_key_RSA_KEM_res}\\n')\n",
        "\n",
        "print(f'Is equal?:')\n",
        "if decrypt_key_RSA_KEM_res == encrypt_key_RSA_KEM_res[1]:\n",
        "  print(f'True')\n",
        "else:\n",
        "  print(f'False')"
      ],
      "metadata": {
        "colab": {
          "base_uri": "https://localhost:8080/"
        },
        "id": "EJA9JTmAcCFD",
        "outputId": "524cb7f5-c34e-417b-b254-e196c95eee6c"
      },
      "execution_count": null,
      "outputs": [
        {
          "output_type": "stream",
          "name": "stdout",
          "text": [
            "encrypt_key_RSA_KEM key = \n",
            "b'\\t\\xfc\\x96\\x08-4\\xc2\\xdf\\xc1)]\\x92\\x07;^\\xa1\\xdc\\x8e\\xf8\\xda\\x95\\xf1M\\xfd\\xed\\x01\\x1f\\xfb\\x96\\xd3\\xe5K'\n",
            "decrypt_key_RSA_KEM key = \n",
            "b'\\t\\xfc\\x96\\x08-4\\xc2\\xdf\\xc1)]\\x92\\x07;^\\xa1\\xdc\\x8e\\xf8\\xda\\x95\\xf1M\\xfd\\xed\\x01\\x1f\\xfb\\x96\\xd3\\xe5K'\n",
            "\n",
            "Is equal?:\n",
            "True\n"
          ]
        }
      ]
    }
  ]
}