{
  "nbformat": 4,
  "nbformat_minor": 0,
  "metadata": {
    "colab": {
      "provenance": []
    },
    "kernelspec": {
      "name": "python3",
      "display_name": "Python 3"
    },
    "language_info": {
      "name": "python"
    }
  },
  "cells": [
    {
      "cell_type": "markdown",
      "source": [
        "# RSA\n",
        "\n",
        "Rivest Shamir Adleman (RSA) jest jednym z pierwszych algorytmów asymetrycznych. Został zaprojektowany w 1977 roku i jest używany do dzisiejszego dnia. Zyskał akceptację zarówno NISTu jak i organizacji ISO/IEC oraz RFC. RSA posiada parę kluczy - publiczny oraz prywatny. Publiczny klucz może być znany każdemu i służy on do operacji szyfrowania. Klucz prywatny jest znany tylko i wyłącznie instancji, która klucze generowała. Ta sama instancja jako jedna jedyna ma możliwość odszyfrowania kryptogramów.\n",
        "\n",
        "RSA umożliwia także tworzenie podpisów cyfrowych (z ang *Digital Signatures*, czyli *DS*). Podpis cyfrowy to dodatkowy blok informacji dołączony do wiadomości, który zapewnia:\n",
        "1. *Integrity* - integralność wiadomości, czyli potwierdzenie, że nie była ona w żaden sposób modyfikowana.\n",
        "2. *Authentication* - autentykacje podpisującego, czyli potwierdzenie jego tożsamości.\n",
        "3. *Non-repudiation* - czyli wysyłający podpisaną wiadomość nie ma możliwości zaprzeczenia faktu, że to on ją podpisał, natomiast otrzymujący wiadomość nie ma możliwości zaprzeczenia faktu, iż to on ją zweryfikował. \n",
        "\n",
        "Samo haszowanie wiadomości zapewnia tylko *integirty*, natomiast utworzenie kodu MAC (*Message Authentiaction Code*) zapewnia jedynie *integrity* oraz *authentiaction*.\n",
        "\n",
        "Tworzenie podpisu cyfrowego z wykorzystaniem RSA wygląda odwrotnie niż komunikacja szyfrowana. To znaczy: podpis tworzony jest z wykorzystaniem klucza prywatnego - a więc tylko instancja generująca klucze może wiadomość podpisać. Weryfikacja odbywa się z wykorzystaniem klucza publicznego - czyli każda instancja, której nasz klucz udostępnimy, może podpis zweryfikować. \n",
        "\n",
        "Na początek zaimportujmy niezbędne biblioteki."
      ],
      "metadata": {
        "id": "O4N_EaD6qK27"
      }
    },
    {
      "cell_type": "code",
      "source": [
        "!pip install pycryptodome\n",
        "import Crypto.Util.number as cu\n",
        "import hashlib as hl\n",
        "import math\n",
        "import random"
      ],
      "metadata": {
        "id": "F7OxWY2Mz7BD",
        "colab": {
          "base_uri": "https://localhost:8080/"
        },
        "outputId": "a24f5543-6717-4f02-95fe-348e07a86783"
      },
      "execution_count": 1,
      "outputs": [
        {
          "output_type": "stream",
          "name": "stdout",
          "text": [
            "Looking in indexes: https://pypi.org/simple, https://us-python.pkg.dev/colab-wheels/public/simple/\n",
            "Requirement already satisfied: pycryptodome in /usr/local/lib/python3.10/dist-packages (3.18.0)\n"
          ]
        }
      ]
    },
    {
      "cell_type": "markdown",
      "source": [
        "**Zadanie 1**\n",
        "\n",
        "Odpowiedz na poniższe pytania. Rozważ sytuację, w której dwie instancje komunikują się ze sobą, a trzecia próbuje dokonywać nieautoryzowanych zmian w treści wiadomości na drodze jej przesyłu.\n",
        "1. Dlaczego haszowanie zapewnia tylko integrity? Podpowiedź: czy haszowanie uwzględnia jakikolwiek klucz prywatny?\n",
        "2. Dlaczego kod MAC nie zapewnia *non-repudiation*? Co (niepożądanego) może dokonać odbierający wiadomość i atakujący komunikację? Podpowiedź: czy kody MAC, w szczególności popularny kod HMAC - który zakłada użycie klucza prywatnego - w jakikolwiek sposób weryfikuje KTO i DO CZEGO go użył? Kto dysponuje, a kto NIE dysponuje kluczem prywatnym HMAC?\n",
        "3. Dlaczego podpis cyfrowy zapewnia wszystkie te trzy cechy?"
      ],
      "metadata": {
        "id": "64vuvjiEuP3M"
      }
    },
    {
      "cell_type": "markdown",
      "source": [
        "1. Haszowanie zapewnia jedynie integralność, ponieważ proces ten polega na przekształceniu wiadomości na wartość skrótu, który można później porównać z wartością skrótu oryginalnej wiadomości.\n",
        "\n",
        "2. Kod MAC zapewnia poufność i integralność, ale nie zapewnia non-repudiation. Odbiorca wiadomości lub atakujący może nadal przesłać tę samą wiadomość, ponieważ kod MAC nie uwzględnia, kto i do czego go użył. Nawet popularny kod HMAC, który wymaga użycia klucza prywatnego, nie zapewnia non-repudiation, ponieważ klucz prywatny może być udostępniony wielu osobom, a HMAC nie umożliwia identyfikacji konkretnego użytkownika.\n",
        "\n",
        "3. Podpis cyfrowy zapewnia wszystkie trzy cechy, czyli poufność, integralność i non-repudiation. Podpis cyfrowy wykorzystuje klucz prywatny do podpisywania wiadomości, a klucz publiczny do weryfikacji podpisu. Dzięki temu procesowi można jednoznacznie zidentyfikować nadawcę wiadomości i potwierdzić, że wiadomość nie została zmieniona od momentu podpisania."
      ],
      "metadata": {
        "id": "TF-FUs6HS1L0"
      }
    },
    {
      "cell_type": "markdown",
      "source": [
        "## Generowanie kluczy\n",
        "\n",
        "Algorytm generowania kluczy RSA może zostać przedstawiony w następujący sposób:\n",
        "\n",
        "1) Znajdź dwie różne i kryptograficznie bezpieczne liczby pierwsze.\n",
        "\n",
        "2) Oblicz $n = p * q$.\n",
        "\n",
        "3) Oblicz $f = (p - 1) * (q - 1)$.\n",
        "\n",
        "4) Znajdź dowolne $e$, takie, że $1 < e < f$ oraz $GCD(f, e) = 1$. GCD to największy wspólny dzielnik. Para $(e, n)$ to jest **klucz publiczny**.\n",
        "\n",
        "5) Oblicz $d = e^{-1}$ mod $f$. Para $(d, n)$ to **klucz prywatny**, przy czym tajne jest tylko $d$. "
      ],
      "metadata": {
        "id": "2qE7Uzp2xXKM"
      }
    },
    {
      "cell_type": "markdown",
      "source": [
        "W ten sposób generowane parametry byłyby matematycznie poprawne, lecz kryptograficznie niebezpieczne. Ustalmy więc, że chcemy aby nasz klucz publiczny był odpwowiednio długi. Będzie to długość bitowa parametru $n$, oznaczmy ją jako $nlen = 2048$. Parametr $nlen$ zawsze przyjmuje parzyste wartości. Mając to założenie, musimy (**uwzględniając wszystkie założenia z algorytmu generowania kluczy**) dodatkowo zapewnić, że:\n",
        "\n",
        "1. $65537 ≤ e < 2^{256}$\n",
        "2. $LCM(p - 1, q - 1) \\geq e * 2^{nlen/2}$\n",
        "3. $2^{(nlen - 1)//2} < p < 2^{nlen/2}$\n",
        "4. $2^{(nlen - 1)//2} < q < 2^{nlen/2}$\n",
        "5. $|p - q| > 2^{(nlen/2) - 100}$\n",
        "\n",
        "Gdzie LCM oznacza *Least Common Multiple*, czyli najmniejszą wspólną wielokrotność. Funkcję LCM znajdziesz w bibliotece math. Do potęgowania **nie używaj** pythonowej notacji \"**\", tylko metody pow() - przetestuj obie te metody obliczania potęgi i porównaj wydajność (zadanie opcjonalne). Do obliczania wartości bezwzględnej użyj metody abs() - również standardowa metoda pythona. Resztę niezbędnych metod znajdziesz w bibliotece [Crypto.Util.number](https://pycryptodome.readthedocs.io/en/latest/src/util/util.html) zaimpoertowanej jako cu. Opis powyższych założeń możesz znaleźć w [tym](https://nvlpubs.nist.gov/nistpubs/SpecialPublications/NIST.SP.800-56Br2.pdf) dokumencie NIST-owym."
      ],
      "metadata": {
        "id": "1MRcuBhC0UHA"
      }
    },
    {
      "cell_type": "markdown",
      "source": [
        "**Zadanie 2**\n",
        "\n",
        "Uwzględniając wszystko powyższe, napisz metodę/metody generujące wartości $n$, $e$ oraz $d$."
      ],
      "metadata": {
        "id": "5inlXTklGGMv"
      }
    },
    {
      "cell_type": "code",
      "source": [
        "nlen = 2048\n",
        "\n",
        "def gen_p_q():\n",
        "  p, q = cu.getPrime(nlen // 2), cu.getPrime(nlen // 2)\n",
        "  while not (abs(p - q) > pow(2, (nlen // 2) - 100)):\n",
        "    p, q = cu.getPrime(nlen // 2), cu.getPrime(nlen // 2)\n",
        "\n",
        "  return p, q\n",
        "\n",
        "def gen_f_e(p, q):\n",
        "  e = cu.getRandomRange(65537, pow(2, 256))\n",
        "  # e = 65537\n",
        "  f = (p - 1) * (q - 1)\n",
        "  while not math.gcd(f, e):\n",
        "    e = cu.getRandomRange(65537, pow(2, 256))\n",
        "\n",
        "  return f, e\n",
        "\n",
        "def gen_numbers_set():\n",
        "  p, q = gen_p_q()\n",
        "  f, e = gen_f_e(p, q)\n",
        "\n",
        "  while math.lcm(p - 1, q - 1) < e * pow(2, nlen // 2):\n",
        "    p, q = gen_p_q()\n",
        "    f, e = gen_f_e(p, q)\n",
        "\n",
        "  return p, q, f, e\n",
        "\n",
        "def gen_private_key(p, q, f, e):\n",
        "  n = p * q\n",
        "  d = cu.inverse(e, f)\n",
        "\n",
        "  return (d, n)\n",
        "\n",
        "def gen_public_key(p, q, e):\n",
        "  n = p * q\n",
        "\n",
        "  return (e, n)"
      ],
      "metadata": {
        "id": "g0NrTqwxc4gw"
      },
      "execution_count": 2,
      "outputs": []
    },
    {
      "cell_type": "code",
      "source": [
        "gen_numbers_set_success = False\n",
        "err_count = 0\n",
        "\n",
        "while not gen_numbers_set_success:\n",
        "  try:\n",
        "    p, q, f, e = gen_numbers_set()\n",
        "\n",
        "    # print(f'f=\\n{f}')\n",
        "    # print(f'e=\\n{e}')\n",
        "\n",
        "    private_key = gen_private_key(p, q, f, e)\n",
        "    public_key = gen_public_key(p, q, e)\n",
        "    gen_numbers_set_success = True\n",
        "  except ValueError:\n",
        "    err_count += 1\n",
        "    print(f'{err_count} ValueError: base is not invertible for the given modules')\n",
        "\n",
        "# Czesto wywala blad - musi byc jakis scenariusz do pokrycia z f i e - odpalac do skutku\n",
        "# ValueError: base is not invertible for the given modulus"
      ],
      "metadata": {
        "id": "OrBQ2hrihLaS"
      },
      "execution_count": 3,
      "outputs": []
    },
    {
      "cell_type": "code",
      "source": [
        "print(f'd=\\n{private_key[0]}\\n')\n",
        "print(f'n=\\n{private_key[1]}\\n')\n",
        "print(f'private_key =\\n{private_key}\\n')\n",
        "\n",
        "print(400 * '=')\n",
        "print(f'\\n')\n",
        "\n",
        "print(f'e=\\n{public_key[0]}\\n')\n",
        "print(f'n=\\n{public_key[1]}\\n')\n",
        "print(f'private_key =\\n{public_key}')"
      ],
      "metadata": {
        "colab": {
          "base_uri": "https://localhost:8080/"
        },
        "id": "DoCrz6mLldI1",
        "outputId": "f54cea66-cf75-47af-c876-d4696940bb5b"
      },
      "execution_count": 4,
      "outputs": [
        {
          "output_type": "stream",
          "name": "stdout",
          "text": [
            "d=\n",
            "12443734719496163183900707603439746371372322295213045650163791479441982950255498964655625167862236531059580359124062519614384305736363872685945355437771659629691052551489061153262526359498090663369956624440088194114681138074013512683227423453717234991281725866747207402277292540326221286495196611970948431615444661888545142896180717231089891722393395511602640668786721938867855104788066830313123970698781904673754268141800058975627110415260374430181924041386354698690252705477505289470547164526715737472915839811007846128336075551534937169588179651743430264745895164021430321511470882918697350150607895690911361485457\n",
            "\n",
            "n=\n",
            "17767153451205338910275680558696968105885826721200171144189016519398239613677249722622748972577184615690126185154688121748434280988544533382050711537242448736919564219963859811805805472816465047726977053200424478101178305507990732721891139668003665196610712801480663043202091130606637280709475954975671984642486948342298250927915220611462641683788274339079778699606899015548716028421798729580131419403372595725265903653553750470435223356087107298149728578011254617566689709720827533707242626558892776873393887132519732625037964873764148191337924633555267490149241430612298618944377059917643998302779948113161036945967\n",
            "\n",
            "private_key =\n",
            "(12443734719496163183900707603439746371372322295213045650163791479441982950255498964655625167862236531059580359124062519614384305736363872685945355437771659629691052551489061153262526359498090663369956624440088194114681138074013512683227423453717234991281725866747207402277292540326221286495196611970948431615444661888545142896180717231089891722393395511602640668786721938867855104788066830313123970698781904673754268141800058975627110415260374430181924041386354698690252705477505289470547164526715737472915839811007846128336075551534937169588179651743430264745895164021430321511470882918697350150607895690911361485457, 17767153451205338910275680558696968105885826721200171144189016519398239613677249722622748972577184615690126185154688121748434280988544533382050711537242448736919564219963859811805805472816465047726977053200424478101178305507990732721891139668003665196610712801480663043202091130606637280709475954975671984642486948342298250927915220611462641683788274339079778699606899015548716028421798729580131419403372595725265903653553750470435223356087107298149728578011254617566689709720827533707242626558892776873393887132519732625037964873764148191337924633555267490149241430612298618944377059917643998302779948113161036945967)\n",
            "\n",
            "================================================================================================================================================================================================================================================================================================================================================================================================================\n",
            "\n",
            "\n",
            "e=\n",
            "79739229805619073865247210818393860711035971241972641866692372092455971538833\n",
            "\n",
            "n=\n",
            "17767153451205338910275680558696968105885826721200171144189016519398239613677249722622748972577184615690126185154688121748434280988544533382050711537242448736919564219963859811805805472816465047726977053200424478101178305507990732721891139668003665196610712801480663043202091130606637280709475954975671984642486948342298250927915220611462641683788274339079778699606899015548716028421798729580131419403372595725265903653553750470435223356087107298149728578011254617566689709720827533707242626558892776873393887132519732625037964873764148191337924633555267490149241430612298618944377059917643998302779948113161036945967\n",
            "\n",
            "private_key =\n",
            "(79739229805619073865247210818393860711035971241972641866692372092455971538833, 17767153451205338910275680558696968105885826721200171144189016519398239613677249722622748972577184615690126185154688121748434280988544533382050711537242448736919564219963859811805805472816465047726977053200424478101178305507990732721891139668003665196610712801480663043202091130606637280709475954975671984642486948342298250927915220611462641683788274339079778699606899015548716028421798729580131419403372595725265903653553750470435223356087107298149728578011254617566689709720827533707242626558892776873393887132519732625037964873764148191337924633555267490149241430612298618944377059917643998302779948113161036945967)\n"
          ]
        }
      ]
    },
    {
      "cell_type": "markdown",
      "source": [
        "## Naiwne szyfrowanie i deszyfrowanie"
      ],
      "metadata": {
        "id": "wae-whoNGlz_"
      }
    },
    {
      "cell_type": "markdown",
      "source": [
        "\n",
        "Naiwny algorytm szyfrowania wiadomości **M** z wykorzystaniem RSA:\n",
        "\n",
        "1) Zakoduj $M$ jako liczbę.\n",
        "\n",
        "2) Oblicz: $C = M^e$ mod $n$."
      ],
      "metadata": {
        "id": "fESNrzCYNVfy"
      }
    },
    {
      "cell_type": "markdown",
      "source": [
        "Naiwny algorytm deszyfrowania kryptogramu **C** z wykorzystaniem RSA:\n",
        "\n",
        "1) $M = C^d$ mod $n$.\n",
        "\n",
        "2) Zdekoduj wiadomość $M$ do jej pierwotnej postaci (np. stringa). \n"
      ],
      "metadata": {
        "id": "FQvVgWWrHBX2"
      }
    },
    {
      "cell_type": "markdown",
      "source": [
        "**Zadanie 3**\n",
        "\n",
        "Napisz metody szyfrujące i deszyfrujące wiadomość $M$ zgodnie z powyższym algorytmem. Zaszyfruj wiadomość, zdeszyfruj i wypisz oryginalny tekst na ekranie. Odpowiedz na pytanie: jaki warunek musi spełniać liczbowa reprezentacja wiadomości $M$, aby można ją było poprawnie zaszyfrować i zdeszyfrować?"
      ],
      "metadata": {
        "id": "mFRFP0BsHc9l"
      }
    },
    {
      "cell_type": "markdown",
      "source": [
        "Wiadomość musi być mniejsza lub równa liczbie $n$, w przeciwnym wypadku należy podzielić ją na bloki."
      ],
      "metadata": {
        "id": "_FMXzsjT0i3X"
      }
    },
    {
      "cell_type": "code",
      "source": [
        "def str2num(text):\n",
        "  print(f'str2num::text = {text}')\n",
        "  conv = text.encode('utf-8')\n",
        "  number = int.from_bytes(conv, byteorder='big')\n",
        "  return number\n",
        "\n",
        "def num2str(number):\n",
        "  # number.bit_length() - liczba bitów potrzebnych do zapisania liczby\n",
        "  # dodanie 7 i podzielenie całości przez 8 (wynik całkowity) pozwala na zaokrąglenie w górę do pełnej liczby, co pozwala na prawidłową konwersję na tekst\n",
        "  conv = number.to_bytes((number.bit_length() + 7) // 8, byteorder='big')\n",
        "  text = conv.decode('utf-8')\n",
        "  return text"
      ],
      "metadata": {
        "id": "DMxSsIloqE1U"
      },
      "execution_count": 5,
      "outputs": []
    },
    {
      "cell_type": "code",
      "source": [
        "def encryptRSA(M, public_key):\n",
        "  M = str2num(M)\n",
        "  e, n = public_key\n",
        "  C = pow(M, e, n) # nie dawać n poza modulo - liczy sie w nieskonczonosc!\n",
        "  return C\n",
        "\n",
        "def decryptRSA(C, private_key):\n",
        "  d, n = private_key\n",
        "  M = pow(C, d, n)\n",
        "  return num2str(M)"
      ],
      "metadata": {
        "id": "La2FPCUHtmTH"
      },
      "execution_count": 6,
      "outputs": []
    },
    {
      "cell_type": "code",
      "source": [
        "M = 'Ala ma kota'\n",
        "\n",
        "print(str2num(M))\n",
        "print(num2str(str2num(M)))"
      ],
      "metadata": {
        "id": "N3y7NMf_HkuB",
        "colab": {
          "base_uri": "https://localhost:8080/"
        },
        "outputId": "760622f1-f4d6-4e86-b1f0-97be7b636f0f"
      },
      "execution_count": 7,
      "outputs": [
        {
          "output_type": "stream",
          "name": "stdout",
          "text": [
            "str2num::text = Ala ma kota\n",
            "79091985525906541409956961\n",
            "str2num::text = Ala ma kota\n",
            "Ala ma kota\n"
          ]
        }
      ]
    },
    {
      "cell_type": "code",
      "source": [
        "msg_enc = encryptRSA(M, public_key)"
      ],
      "metadata": {
        "id": "jVEmqK2s2fUN",
        "colab": {
          "base_uri": "https://localhost:8080/"
        },
        "outputId": "42abb7ec-ad74-4d18-9305-6d6f60c9fd3c"
      },
      "execution_count": 8,
      "outputs": [
        {
          "output_type": "stream",
          "name": "stdout",
          "text": [
            "str2num::text = Ala ma kota\n"
          ]
        }
      ]
    },
    {
      "cell_type": "code",
      "source": [
        "print(f'Encrypted M = \\n{msg_enc}')"
      ],
      "metadata": {
        "colab": {
          "base_uri": "https://localhost:8080/"
        },
        "id": "BGVJp1kw2x6K",
        "outputId": "d1d06a46-c74d-4894-ea6e-74f886576a03"
      },
      "execution_count": 9,
      "outputs": [
        {
          "output_type": "stream",
          "name": "stdout",
          "text": [
            "Encrypted M = \n",
            "9118878561502515178854277368235299529616856561277089056842943817498259079972910781036454962517434717166140615521672653421661213535422654983194245216000308540648070329347854069815188043132660606556906436322084384145112357640982302073076310540447936181091188172592864497418075879123486791385314797312392748526148969367231037931249861775397294871291817448874954198974899002905341363297791221905936877306763317743244380035887130863036368055204238699540530677624361393337350284268270950600052958145801244854633392943665422284976176278697605870179044276195138534007494592181793841417092979691199199603753931146800177715240\n"
          ]
        }
      ]
    },
    {
      "cell_type": "code",
      "source": [
        "msg_dec = decryptRSA(msg_enc, private_key)"
      ],
      "metadata": {
        "id": "2-2NosFi3beu"
      },
      "execution_count": 10,
      "outputs": []
    },
    {
      "cell_type": "code",
      "source": [
        "print(f'Decrypted M = \\n{msg_dec}')"
      ],
      "metadata": {
        "colab": {
          "base_uri": "https://localhost:8080/"
        },
        "id": "8xcr-uqV3kOX",
        "outputId": "bed6a3f0-7a56-462c-c583-306337579ccb"
      },
      "execution_count": 11,
      "outputs": [
        {
          "output_type": "stream",
          "name": "stdout",
          "text": [
            "Decrypted M = \n",
            "Ala ma kota\n"
          ]
        }
      ]
    },
    {
      "cell_type": "markdown",
      "source": [
        "## Naiwny schemat podpisu cyfrowego"
      ],
      "metadata": {
        "id": "NjF8Fr_dN0s6"
      }
    },
    {
      "cell_type": "markdown",
      "source": [
        "Naiwna metoda tworzenia podpisu z wiadmości $M$:\n",
        "\n",
        "1) Oblicz $h = H(M)$. H to uzgodniona funkcja skrótu, niech to będzie SHA-256.\n",
        "\n",
        "2) Zakoduj $h$ jako liczbę.\n",
        "\n",
        "3) Oblicz $SIG = h^d$ mod $n$.\n",
        "\n",
        "4) Wyślij parę $(M, SIG)$ weryfikującemu."
      ],
      "metadata": {
        "id": "AsvkSf9zN4i8"
      }
    },
    {
      "cell_type": "markdown",
      "source": [
        "Naiwna metoda weryfikacji podpisu $(M, SIG)$:\n",
        "\n",
        "1) Oblicz $h = H(M)$. H to uzgodniona funkcja skrótu, niech to będzie SHA-256.\n",
        "\n",
        "2) Zakoduj $h$ jako liczbę.\n",
        "\n",
        "3) Oblicz $VER = SIG^e$ mod $n$.\n",
        "\n",
        "4) Jeżeli $VER = h$, weryfikacja przebiegła pomyślnie, a w przeciwnym razie niepomyślnie."
      ],
      "metadata": {
        "id": "xcMiT4DhOoOt"
      }
    },
    {
      "cell_type": "markdown",
      "source": [
        "**Zadanie 4**\n",
        "\n",
        "Zaimplementuj naiwną metodę tworzenia i weryfikowania podpisu cyfrowego RSA."
      ],
      "metadata": {
        "id": "Jx86zFg6PDDs"
      }
    },
    {
      "cell_type": "code",
      "source": [
        "def create_SIG(M, key):\n",
        "  h = hl.sha256(M.encode('utf-8')).hexdigest()\n",
        "  SIG = encryptRSA(h, key)\n",
        "  return M, SIG\n",
        "\n",
        "def verify_SIG(M, SIG, key):\n",
        "  h = hl.sha256(M.encode('utf-8')).hexdigest()\n",
        "  VER = decryptRSA(SIG, key)\n",
        "\n",
        "  if VER == h:\n",
        "    return True\n",
        "  else:\n",
        "    return False"
      ],
      "metadata": {
        "id": "Y7OSfmf0PJ2Q"
      },
      "execution_count": 12,
      "outputs": []
    },
    {
      "cell_type": "code",
      "source": [
        "M = 'Ala ma kota'"
      ],
      "metadata": {
        "id": "qqJwP_RlBzWh"
      },
      "execution_count": 13,
      "outputs": []
    },
    {
      "cell_type": "code",
      "source": [
        "sigmsg, sig = create_SIG(M, private_key)\n",
        "verify_SIG(sigmsg, sig, public_key)"
      ],
      "metadata": {
        "colab": {
          "base_uri": "https://localhost:8080/"
        },
        "id": "jtzmSLxq8FKE",
        "outputId": "92b45e36-527c-407a-837e-1e7bc289c11b"
      },
      "execution_count": 14,
      "outputs": [
        {
          "output_type": "stream",
          "name": "stdout",
          "text": [
            "str2num::text = 124bfb6284d82f3b1105f88e3e7a0ee02d0e525193413c05b75041917022cd6e\n"
          ]
        },
        {
          "output_type": "execute_result",
          "data": {
            "text/plain": [
              "True"
            ]
          },
          "metadata": {},
          "execution_count": 14
        }
      ]
    },
    {
      "cell_type": "code",
      "source": [
        "M2 = 'Kot ma Ale'"
      ],
      "metadata": {
        "id": "4Zk5tFASB19V"
      },
      "execution_count": 15,
      "outputs": []
    },
    {
      "cell_type": "code",
      "source": [
        "verify_SIG(M2, sig, public_key)"
      ],
      "metadata": {
        "colab": {
          "base_uri": "https://localhost:8080/"
        },
        "id": "WRGY2sIU8cXt",
        "outputId": "7c068441-e8e3-4ccc-e64d-9ff59edacaaf"
      },
      "execution_count": 16,
      "outputs": [
        {
          "output_type": "execute_result",
          "data": {
            "text/plain": [
              "False"
            ]
          },
          "metadata": {},
          "execution_count": 16
        }
      ]
    },
    {
      "cell_type": "markdown",
      "source": [
        "## MGF 1\n",
        "\n",
        "W dalszej części laboratoriów będziemy potrzebowali generować maskę. Jedynym zatwierdzonym algorytmem który do tego służy jest *Mask Generation Function 1*, opisany w [RFC 8017](https://www.rfc-editor.org/rfc/rfc8017). Jest on stosunkowo prosty. "
      ],
      "metadata": {
        "id": "-6MsXDuaIj2C"
      }
    },
    {
      "cell_type": "markdown",
      "source": [
        "Parametry wejściowe:\n",
        "\n",
        "1) M - bajty wiadomości.\n",
        "\n",
        "2) len - pożądana długość zwórconej maski w bajtach.\n",
        "\n",
        "3) H - wybrana funkcja skrótu, zwracająca $n$ bitowy skrót. Niech to będzie SHA-256. Dla wygody przyjmijmy też, że $hlen = n / 8$ oznacza liczbę bajtów zwracaną przez naszą funkcję skrótu.\n",
        "\n",
        "Wyjściem funkcji są bajty tworzące maskę."
      ],
      "metadata": {
        "id": "wXuwYrpsJzkU"
      }
    },
    {
      "cell_type": "markdown",
      "source": [
        "Algorytm MGF-1:\n",
        "\n",
        "1) Dla 32-biotwego integera $i = 0, ..., ⌈ \\frac{len}{hlen}⌉ - 1$ wykonuj kroki 2 i 3.\n",
        "\n",
        "2) Oblicz tmp = H(M || i). Znak || to konkatenacja i chodzi tu o bajty wiadomości M oraz reprezentację w bajtach 32-bitowego itegera $i$.\n",
        "\n",
        "3) Oblicz output = output || tmp.\n",
        "\n",
        "4) Zwróc $len$ wiodących bajtów zmiennej output."
      ],
      "metadata": {
        "id": "oriQJLCvJ0vM"
      }
    },
    {
      "cell_type": "markdown",
      "source": [
        "**Zadanie 5**\n",
        "\n",
        "Zaprogramuj i przetestuj dla dowolnych wartości funkcję MGF1."
      ],
      "metadata": {
        "id": "o-AkA1mHK7cp"
      }
    },
    {
      "cell_type": "code",
      "source": [
        "def MGF1(M, len, H=hl.sha256, hlen=256//8):\n",
        "  if not isinstance(M, bytes):\n",
        "    M = bytes(M, 'utf-8')\n",
        "\n",
        "  output = bytes()\n",
        "\n",
        "  for i in range(0, math.ceil(len / hlen)):\n",
        "    tmp = H(M + i.to_bytes(4, byteorder='big')).digest() # 4 bytes = size of int\n",
        "    output = output + tmp\n",
        "  return output[:len]"
      ],
      "metadata": {
        "id": "rrBuKJWZLCV9"
      },
      "execution_count": 17,
      "outputs": []
    },
    {
      "cell_type": "code",
      "source": [
        "MGF1('', 4)"
      ],
      "metadata": {
        "colab": {
          "base_uri": "https://localhost:8080/"
        },
        "id": "HlM-ipSGHZZs",
        "outputId": "4887a7e1-cb16-48e4-8af5-324c3dc9ed22"
      },
      "execution_count": 18,
      "outputs": [
        {
          "output_type": "execute_result",
          "data": {
            "text/plain": [
              "b'\\xdf?a\\x98'"
            ]
          },
          "metadata": {},
          "execution_count": 18
        }
      ]
    },
    {
      "cell_type": "code",
      "source": [
        "MGF1('', 8)"
      ],
      "metadata": {
        "colab": {
          "base_uri": "https://localhost:8080/"
        },
        "id": "8PIgLFcRHYPz",
        "outputId": "0462295c-ba66-40e8-b727-d9ebc8d346d6"
      },
      "execution_count": 19,
      "outputs": [
        {
          "output_type": "execute_result",
          "data": {
            "text/plain": [
              "b'\\xdf?a\\x98\\x04\\xa9/\\xdb'"
            ]
          },
          "metadata": {},
          "execution_count": 19
        }
      ]
    },
    {
      "cell_type": "code",
      "source": [
        "MGF1('', 16)"
      ],
      "metadata": {
        "colab": {
          "base_uri": "https://localhost:8080/"
        },
        "id": "lrxjutwaHXPd",
        "outputId": "5363978c-0a4c-476d-a2f9-f197167311ca"
      },
      "execution_count": 20,
      "outputs": [
        {
          "output_type": "execute_result",
          "data": {
            "text/plain": [
              "b'\\xdf?a\\x98\\x04\\xa9/\\xdb@W\\x19-\\xc4=\\xd7H'"
            ]
          },
          "metadata": {},
          "execution_count": 20
        }
      ]
    },
    {
      "cell_type": "code",
      "source": [
        "M = 'Ala ma kota'"
      ],
      "metadata": {
        "id": "CkhJPdRmHi6L"
      },
      "execution_count": 21,
      "outputs": []
    },
    {
      "cell_type": "code",
      "source": [
        "MGF1(M, 5)"
      ],
      "metadata": {
        "colab": {
          "base_uri": "https://localhost:8080/"
        },
        "id": "NfQFaJpsHjUE",
        "outputId": "893b0720-5745-4b22-a61a-7c746798fe79"
      },
      "execution_count": 22,
      "outputs": [
        {
          "output_type": "execute_result",
          "data": {
            "text/plain": [
              "b'O\\x82y,\\xd5'"
            ]
          },
          "metadata": {},
          "execution_count": 22
        }
      ]
    },
    {
      "cell_type": "code",
      "source": [
        "MGF1(M, 10)"
      ],
      "metadata": {
        "colab": {
          "base_uri": "https://localhost:8080/"
        },
        "id": "FvYqb8tjHmx1",
        "outputId": "25fcb7e8-35fe-4f9d-b727-435237092a43"
      },
      "execution_count": 23,
      "outputs": [
        {
          "output_type": "execute_result",
          "data": {
            "text/plain": [
              "b'O\\x82y,\\xd5\\x98\\x18\\xc5B7'"
            ]
          },
          "metadata": {},
          "execution_count": 23
        }
      ]
    },
    {
      "cell_type": "code",
      "source": [
        "MGF1(M, 20)"
      ],
      "metadata": {
        "colab": {
          "base_uri": "https://localhost:8080/"
        },
        "id": "5djytWVGHnv-",
        "outputId": "b9051f05-c20c-4de8-97ae-52f615f15aa4"
      },
      "execution_count": 24,
      "outputs": [
        {
          "output_type": "execute_result",
          "data": {
            "text/plain": [
              "b'O\\x82y,\\xd5\\x98\\x18\\xc5B7\\xc4YT\\xe6\\xfa\\x82\\xdd\\x08\\xc8\\x8d'"
            ]
          },
          "metadata": {},
          "execution_count": 24
        }
      ]
    },
    {
      "cell_type": "markdown",
      "source": [
        "## OAEP\n",
        "\n",
        "Nasz schemat ma na ten moment jedną sporą wadę, mianowicie rozmiar szyfrowanej wiadomości może być zbyt mały, czyniąc algorytm mniej bezpiecznym. Aby tego uniknąć, używamy algorytmu paddingu opisanego w [RFC 8017](https://www.rfc-editor.org/rfc/rfc8017#section-8), który zwie się *Optimal Assymetric Encryption Padding*."
      ],
      "metadata": {
        "id": "K3gM9vGyPtna"
      }
    },
    {
      "cell_type": "markdown",
      "source": [
        "### OAEP encoding"
      ],
      "metadata": {
        "id": "PFJW4wW5QjjH"
      }
    },
    {
      "cell_type": "markdown",
      "source": [
        "Parametry wejściowe:\n",
        "\n",
        "1) $H$ - funkcja skrótu SHA-256, oraz $hlen$ czyli długość zwracanego skrótu w bajtach.\n",
        "\n",
        "2) $k$ - długość liczby $n$ wyrażona w bajtach.\n",
        "\n",
        "3) $mlen$ - długość wiadomości wyrażona w bajtach.\n",
        "\n",
        "4) $M$ - bajty wiadomości.\n",
        "\n",
        "5) $mgf1$ - Mask Generation Function 1."
      ],
      "metadata": {
        "id": "0BTXF8j6Reel"
      }
    },
    {
      "cell_type": "markdown",
      "source": [
        "Algorytm:\n",
        "\n",
        "1) Jeżeli $mlen > k - 2*hlen - 2$ zwróc błąd.\n",
        "\n",
        "2) Oblicz: $lHash = H(\"\")$.\n",
        "\n",
        "3) Wygeneruj tablicę bajtów $PS$ składającą się z $k - mlen - 2*hlen - 2$ bajtów o wartości 0x00. Rozmiar $PS$ może wynosić 0.\n",
        "\n",
        "4) Oblicz: $DB = lHash || PS || 0x01 || M$. Długość $DB$ powinna wynosić $k - hlen - 1$ bajtów.\n",
        "\n",
        "5) Wygeneruj losową tablicę bajtów $seed$ o rozmiarze $hlen$.\n",
        "\n",
        "6) Oblicz: $dbMask = mgf1(seed, k - hlen - 1)$.\n",
        "\n",
        "7) Oblicz: $maskedDB = DB ⊕ dbMask$.\n",
        "\n",
        "8) Oblicz: $seedMask = mgf1(maskedDB, hlen)$.\n",
        "\n",
        "9) Oblicz: $maskedSeed = seed ⊕ seedMask$.\n",
        "\n",
        "10) Oblicz: $EM = 0x00 || maskedSeed || maskedDB$. Długość $EM$ powinna wynosić $k$.\n",
        "\n",
        "11) Zwróc $EM$."
      ],
      "metadata": {
        "id": "YWse9bSFRfmu"
      }
    },
    {
      "cell_type": "markdown",
      "source": [
        "### OAEP decoding"
      ],
      "metadata": {
        "id": "lwJfZ28SUeKC"
      }
    },
    {
      "cell_type": "markdown",
      "source": [
        "Parametry wejściowe:\n",
        "\n",
        "1) $H$ - funkcja skrótu SHA-256, oraz $hlen$ czyli długość zwracanego skrótu w bajtach.\n",
        "\n",
        "2) $k$ - rozmiar EM wyrażony w bajtach.\n",
        "\n",
        "3) $mgf1$ - Mask Generation Function 1.\n",
        "\n",
        "4) $EM$ - bajty zakodowanej wiadomości."
      ],
      "metadata": {
        "id": "i21JfT9TUlXN"
      }
    },
    {
      "cell_type": "markdown",
      "source": [
        "Algorytm:\n",
        "\n",
        "1) Rozpakuj tablicę bajtów $EM$. Jej pierwszy bajt (najbardziej znaczący) przypisz do $Y$. Kolejne $hlen$ bajtów przypisz do $maskedSeed$, resztę do $maskedDB$. Czyli $EM = Y || maskedSeed || maskedDB$.\n",
        "\n",
        "2) Oblicz: $lHash = H(\"\")$.\n",
        "\n",
        "3) Oblicz: $seedMask = mgf1(maskedDB, hlen)$.\n",
        "\n",
        "4) Oblicz: $seed = maskedSeed ⊕ seedMask$.\n",
        "\n",
        "5) Oblicz: $dbMask = mgf1(seed, k - hlen - 1)$.\n",
        "\n",
        "6) Oblicz: $DB = maskedDB ⊕ dbMask$.\n",
        "\n",
        "7) Rozpkauj tablicę bakjtów $DB$. Pierwsze (najbardziej znaczące) $hlen$ bajtów przypisz do zmiennej $lHash'$. Następne $k - mlen - 2*hlen - 2$ bajtów do PS. Kolejny pojedynczy bajt powinien wynosić 0x01, jeżeli jest inaczej zwróć błąd i **zakończ działanie**. Resztę bajtów przypsiz do zmiennej $M$. Czyli: $DB = lHash' || PS || 0x01 || M$. \n",
        "\n",
        "8) Jeżeli $Y \\neq 0x00$ zwróć błąd i **zakończ działanie**.\n",
        "\n",
        "9) Jeżeli $lHash \\neq lHash'$ zwróć błąd i **zakończ działanie**.\n",
        "\n",
        "10) Zwróc $M$."
      ],
      "metadata": {
        "id": "Toe-FHBzU1n-"
      }
    },
    {
      "cell_type": "markdown",
      "source": [
        "**Zadanie 6**\n",
        "\n",
        "Zaproogramuj kodowanie i dekodowanie OAEP. Zmodyfikuj algorytm szyfrowania RSA, tak, aby przed zaszyfrowaniem wiadomość była paddingowana. Zmodyfikuj algorytm deszyfrowania tak, aby po zdeszyfrowaniu konieczne było wywołanie metody dekodowania OAEP w celu odzyskania wiadomości."
      ],
      "metadata": {
        "id": "A0yx2wepX4n1"
      }
    },
    {
      "cell_type": "code",
      "source": [
        "# def bytes_xor(n1, n2):\n",
        "#   result = int.from_bytes(n1, byteorder='big') ^ int.from_bytes(n2, byteorder='big')\n",
        "#   result = result.to_bytes((result.bit_length() + 7) // 8, byteorder='big')\n",
        "#   return result\n",
        "def bytes_xor(n, m):\n",
        "  xored = int.from_bytes(n, byteorder='big') ^ int.from_bytes(m, byteorder='big')\n",
        "  s = math.ceil(xored.bit_length() / 8)\n",
        "  return xored.to_bytes(s, byteorder='big')"
      ],
      "metadata": {
        "id": "oeeS3sjeTC5X"
      },
      "execution_count": 25,
      "outputs": []
    },
    {
      "cell_type": "code",
      "source": [
        "def OAEP_encode(k, M, H=hl.sha256, hlen=256//8, mgf=MGF1):\n",
        "  mlen = len(M)\n",
        "  # print(f'mlen = {mlen}')\n",
        "  if mlen > k - 2 * hlen - 2:\n",
        "    raise ValueError('Algorithm pt. 1: \"mlen > k - 2 * hlen - 2\" criterium met (message is too long)')\n",
        "\n",
        "  # print(f'OAEP_encode::M = {M}')\n",
        "  if not isinstance(M, bytes):\n",
        "    M = bytes(M, 'utf-8')\n",
        "\n",
        "  lHash = H(b'').digest()\n",
        "\n",
        "  PS = bytes(k - mlen - 2 * hlen - 2)\n",
        "  # print(PS)\n",
        "\n",
        "  DB = lHash + PS + b'\\x01' + M\n",
        "  # print(f'len(DB) = {len(DB)}')\n",
        "  # print(f'(k - hlen - 1) = {(k - hlen - 1)}')\n",
        "\n",
        "  if len(DB) != (k - hlen - 1):\n",
        "    raise ValueError('Algorithm pt. 4: \"len(DB) == (k - hlen - 1)\" criterium not met')\n",
        "  \n",
        "  seed = b''.join([cu.getRandomRange(0, 256).to_bytes(1, byteorder='big') for _ in range(hlen)])\n",
        "  # print(seed)\n",
        "\n",
        "  dbMask = mgf(seed, k - hlen - 1)\n",
        "  maskedDB = bytes_xor(DB, dbMask) # DB ^ dbMask\n",
        "  # print(maskedDB)\n",
        "  seedMask = mgf(maskedDB, hlen)\n",
        "  maskedSeed = bytes_xor(seed, seedMask) # seed ^ seedMask\n",
        "\n",
        "  EM = b'\\x00' + maskedSeed + maskedDB\n",
        "\n",
        "  if len(EM) != k:\n",
        "    raise ValueError('Algorithm pt. 10: \"len(EM) == k\" criterium not met')\n",
        "  \n",
        "  return EM\n",
        "\n",
        "def OAEP_decode(k, EM, mlen, H=hl.sha256, hlen=256//8, mgf=MGF1):\n",
        "  # print(f'EM = {EM}')\n",
        "  # print(f'mlen = {mlen}')\n",
        "  Y = EM[0]\n",
        "\n",
        "  # print(f'Y = \\n{Y.to_bytes(1, byteorder='big')}')\n",
        "\n",
        "  if not Y.to_bytes(1, byteorder='big') == b'\\x00':\n",
        "    raise ValueError('Algorithm pt. 8: \"Y == b\\\\x00\" criterium not met')\n",
        "\n",
        "  maskedSeed = EM[1:hlen + 1] # desc tells that it should be hlen but hlen + 1 is ok\n",
        "  maskedDB = EM[hlen + 1::]\n",
        "  \n",
        "  # print(f'maskedSeed = \\n{maskedSeed}')\n",
        "  # print(f'maskedDB = \\n{maskedDB}')\n",
        "\n",
        "  lHash = H(b'').digest()\n",
        "  seedMask = mgf(maskedDB, hlen)\n",
        "  seed = bytes_xor(maskedSeed, seedMask)\n",
        "  dbMask = mgf(seed, k - hlen - 1)\n",
        "  DB = bytes_xor(maskedDB, dbMask)\n",
        "\n",
        "  # print(f'DB = \\n{DB}')\n",
        "\n",
        "  lHash_prim = DB[:hlen]\n",
        "  # print(f'lHash_prim = \\n{lHash_prim}')\n",
        "  # print(f'lHash = \\n{lHash}')\n",
        "\n",
        "  if not lHash == lHash_prim:\n",
        "    raise ValueError('Algorithm pt. 9: \"lHash == lHash_prim\" criterium not met')\n",
        "\n",
        "  PS = DB[hlen:(k - mlen - hlen - 2)] # (k - mlen - hlen - 2) instead of (k - mlen - 2 * hlen - 2)\n",
        "  \n",
        "  # print(f'PS = \\n{PS}')\n",
        "  # print(f'k - mlen - 2 * hlen - 2) = \\n{(k - mlen - hlen - 2)}')\n",
        "\n",
        "  if not DB[(k - mlen - hlen - 2):(k - mlen - hlen - 2) + 1] == b'\\x01':\n",
        "    raise ValueError('Algorithm pt. 7: \"DB[(k - mlen - 2 * hlen - 2) + 1] == b\\\\x01\" criterium not met')\n",
        "  \n",
        "  M = DB[(k - mlen - hlen - 2) + 1::]\n",
        "\n",
        "  # return M.decode('utf-8')\n",
        "  return M"
      ],
      "metadata": {
        "id": "-XNdRTSJI31Q"
      },
      "execution_count": 26,
      "outputs": []
    },
    {
      "cell_type": "code",
      "source": [
        "M = 'Ala ma kota'\n",
        "\n",
        "OAEP_encode_res = OAEP_encode(nlen, M)\n",
        "print(f'OAEP encode result: \\n{OAEP_encode_res}')\n",
        "\n",
        "OAEP_decode_res = OAEP_decode(nlen, OAEP_encode_res, len(M))\n",
        "print(f'OAEP decode result: \\n{OAEP_decode_res.decode(\"utf-8\")}')"
      ],
      "metadata": {
        "id": "sA1oCpziYT6z",
        "colab": {
          "base_uri": "https://localhost:8080/"
        },
        "outputId": "a59829c2-3d04-443e-96b6-4e0f3d3d06ee"
      },
      "execution_count": 27,
      "outputs": [
        {
          "output_type": "stream",
          "name": "stdout",
          "text": [
            "OAEP encode result: \n",
            "b'\\x00V\\x9f\\xf8P\\xd5ctc\\xe4(\\xe8\\xca\\x88B\\x87$t 6&BM\\x00$<\\xf8\\xb6\\x90\\xf3y\\xf7\\x08y`#Qi|\\x14<\\x94;\\x00Q\\xbb\\xa8aL\\xc2\\xc7e1k\\xd7\\xb2\\x82Vz\\x81\\xd4\\xd2\\x8cN8t]N\\x1a26\\xb9z\\xc1[/\\xcd\\xa7Q8\\x9c\\xecE\\x91\\xb2\\xa0Y\\xa7\\x89\\xa5K\\\\\\x0c7\\xa9\\x94w\\xc8\\x02h\\x06\\x18\\xb7\\x86\\xbd\\x1e\\xa0\\xa6\\x9e\\x9b\\x87\\x17J\\xd8mH\\x0el\\xa1\\xa9\\x1f\\xf4`o\\xde\\xc9\\xeb\\xff\\xa1\\xa9\\xc9\\x91\\xb4\\xde\\xf0\\xc6\\xe8\\x18\\x84\\x92\\xd4h1\\x98\\xc4\\x85y\\x9d\\xe71\\xca\\x00\\x04.rf\\xbd\\xb9\\x028\\x196\\xed[\\x0c\\x9f\\xf7[C\\xc0\\xbd\\xb8\\xa3\\xa0\\xf0\\x8e\\xe4\\x9b\\xa2\\xe6\\xfe\\xc3LU\\x91\\x94\\xbc*Iv\\x15-\\x81\\xc2\\xa5\\x145\\xad:\\xa9\\xb2ig+\\xa9+rh\\xf4\\xff!M\\xf7h[B?UT\\xadr\\xa5\\xc9\\xcfW\\xa3\\x1d\\xa5\\x8b\\xecJ\\xcd=\\x1e\\x0c\\xe0C\\x9c\\xc0~f\\xc6W\\x0e\\xe05Z>\\xac\\x84\\xba[\\xccI\\x8e\\x04\\xc7\\xcd\\x9d\\xb1q\\xb1Q3\\xf0\\xfc+\\xa7#\\x0b\\x13\\xa7\\x8b\\xb9\\xbcUF\\xc7\\xa2Mv\\xfb\\xb3#E\\x13\\t\\x9a<8R\\xad:\"GB\\xc0\\x9cp\\xae\\x98\\xfc{\\xa8C2\\xa2>\\xe4\\xea\\x16\\xc6\\xf9lz\\xa0\\x9f\\xc9\\x15\\x10N\"\\x06\\xc8%\\xba\\xe8\\xf4\\xc2\\xea2\\x9f\\xe5\\\\)F\\xe8\\xbb\\xe18\\xf1\\xc1\\xdf\\xa0\\xcc\\xd4\\xa0\\xab\\xccb\\x17/\\x0f\\xc9\\xabK\\xb1\\x7f9\\xf3-&%\\xc8\\xd8\\x91\\x9dts\\xa4\\xc0^\\x06\\x1f#\\xc5.Hq;\\xb5(\\xce\\xc1+\\xcdT5\\x128~\\xec\\xd2vsm\\xfa\\x1d\\x89(E\\x05\\'\\xf1QX\\xa8\\xb4C\\xc5\\xc0\\xdf\\xdb}\\xc1_I\\x06>\\x89\\x04\\xc7o\\xe5\\xa3!R\\x88\\xf6\\x0b\\xcc\\xc1n\\xc5z\\x000@]\\xdc\\x16\\xd2\\xad\\xb2\\x9a\\xde\\xbf\\xea\\xb3D\\xae\\x12s\\x9b\\xeeC\\x84\\xaeG\\xdf\\xa4\\xcf\\xa6iL\\xba\\x05{a\\xd5W#P\\x97=\\x87v\\xe7\\xe1>\\xd7\\x14\\x1a\\x80K\\x80\\xa1\\x83\\xffd\\xd9\\x05\\nsZ|\\xfe>\\xe0\\x1c\\xc5\\xde\\xee\\x80Q\\x1f\\xe3\\xf5\\x9a\\xc0e\\'\\xc6\\xef3l\\xa8\\x81\\xbeVE\\x02\\x16-Pc\\xaa\\xe9\\xeb\\x0e\\x98\\x93\\x0b\\x98\\xcd\\xdb\\x0e3\\xc0y2?\\xaf\\xb3\\xa5\\xd6\\xf9\\xb2c\\x05\\xd6\\xab=\\x011\\xac\\xc0w\\x8a\\xe9\\x80\\xbf\\x1c\\xa7w\\xaa\\x1aW\\x87\\x022\\xac\\xfd\\xc7O\\xae\\xf1\\xfc\\xf8\\xd7\\x83\\x0c4c\\x17\\x81\\xe0\\xf5$\\xdf|@\\xe0\\xf1\\x9e\\x8a<U\\xa2A\\xb6b\\x81B|fJ\\x9c\\xb6\\xeb\\xfb\\xd4\\xe9\\xaeG\\xd4\\xd1\\x1e\\x19D\\xef\\xbb\\x9f)\\x99\\xbf\\xd1\\xe2\\x8a\\xf5;\\xd3\\xdfg\\xac\\x88)\\xf8\\x94P\\xa91\\x1f\\x9e@\\\\6\\t\\x1d\\\\\\x85\\x04\\x04\\x8a\\xef\\xd0\\xb5c\\x88\\x14x\\xdd{\\x17\\x81\\xado\\x97\\x1f\\x9a\\x85\\xc7N\\x99\\xea-\\xb6NY\\xae\\xca\\n\\x92cB2\\x143\\xa9\\x00+,k8\\xf6\\x18\\x91x\\xc4\\xabG\\xdcZ\\xd8\\x01\\xd9\\\\W\\x0c\\xf1\\x1a\\x1b\\xba-\\x85\\x12\\x1d\\x9f\\xad\\xb2\\xbd\\x10\\xe2\\xac\\xf2\\xb1\\x0c\\xca\\xb1j\\x807)U\\xf9\\xb5\\x18~\\xea\\xa6Zy\\xc6\\xc05g/z\\xb4\\xa3\\xe2\\\\u\\xa0\\xa6,&\\x07\\xabb^\\xc3#\\xdc+]\\x01\\x92\\xc1\\xa2\\xec\\xba\\xd1\\xd5\\x92\\x8a\":\\xa2\\x90\\xcf^\\xf5o5\\xb6\\xaf\\xea\\xb5W\\xdc\\x8b\\x917:\\x87Q\\xad\\xff\\x03\\x18\\xf2cA\\x03\\xc3?\\x0e\\xa5\\x875\\x99b\\xaa\\xbb\\x1f- \\x9e\\x93\"\\xdc\\x9c\\\\!\\xea\\x7f\\x1e\\x8b\\xc3\\xfd\\xb7b~\\xdd\\xadz\\xd7\\x87\\xb5)U%&k2\\xc2\\x14\\xdc\\x1a\\x08\\xed\\xbb\\xb9GX\\xd9J\\x18\\x1cc\\xcc\\x7f\\x96\\xf1\\xb2\\x94\\x1e)e\\x03\\xfa4\\t\\x07d\\x8a\\x98\\x81\\\\c\\\\\\x8d\\xb7\\x89Ny\\xb9\\x10\\x9e5;\\xd1\\xd3V\\x85\\x8c\\xcd\\x80\\x8e=D\\xf0\\x94py\\x1fj\\xb20!\\x93\\xca\\xe5,\\x83\\x06\\x0ct\\xfc\\x1a\\x91\\x9a\\xc1\\x92a\\xb5\\xf5\"\\x94U\\x03ph\\xe3\\x19\\xc4\\x98\\xec\\xe4\\x1fg\\x95(\\xcf\\x17\\xe960\\x93\\x0e\\x90\\xe3z\\x8c\\xe8S{hPXz}\\xa9\\xe1F\\xb5ak3W\\xc0p\\xe4S\\x0e\\xcd\\x96\\x90\\xfe\\\\\\xe9H\\x7f,r\\x80f\\xccVf\\x80%U\\xb1\\xca\\xee\\xb9e\\xd4\\x03\\xc9\\xfe\\xeb\\xe0\\xdc\\x95\\x00\\x16\\x14\\x93\\x01\\x18\\x94\\xf9\\xecdq\\x88\\xab\\x1b\\xc2\\x9a(\\xd3\\x9eV$\\xc5\\xd7\\xa7\\xc2\\x04A\"\\x1f\\t\\xa10\\x1b\\x8c\\x08\\x0e\\x81J\\xec0\\xe2\\xac\\xad(U\\xf3zk\\xd7Q_n\\xc14A\\x12\\xc1\\x8e\\xfc\\x89\\xd8\\xbe\\xa5\\x91<\\x99\\x16\\xaa\\x86\\xd5\\x1b\\xedC\\xfeRio\\x1f\\x86\\xcel:\\xf1 \\xd3\\xc7\\x96-\\xed\\x87\\xca\\x86\\x16\\xfaz1iWO\\x8as\\x91\\xb8/Isj\\xb4y\\xa0\\nR\\xc8A@/\\xd2P1\\xdb\\xa7\\x9c-\\xceGke\\xda\\xf7\\x85\\xce\\x85\\xbe.\\xf2\\x1aqy%\\x00P*D\\xaf\\xf11\\xdfR\\xef\\')\\xc0\\xb5F\\xe7\\xfd\\x90\\xfe>-\\x8e\\x9bI\\xfc\\'g\\x18\\x1d\\x95\\x0cZ\\x90u+3\\xa9\\xc0\\xd0Q\\x9e\\xe9\\x0e(\\xd9\\xae\\xd9\\xde\\xd0\\x96\\xc7D|J\\x8f\\x8c$4\\xcb\\xd5\\\\A^-\\xdb\\xea\\x04o\\xb0/\\xb3\\xbb\\x93\\xe5 \\xf2/\\xdd,E\\x9d\\x15\\x8b\\x9e[\\xf4\\x15c\\x0b\\xf52\\xfb\\x95\\xf0\\x1f\"\\xb2\\xe7\\x07\\xa0\\x9c\\x9b\\xd2\\x95\\x99a\\x84]\\x95\\xf6\\xf4[\\x83\\xcb\\x8a\\x83\\x9eb\\xad\\xb5\\x9a\\xc3\\x0e\\'\\xa6z|!@`t\\xe5\\x86\\x8cU\\xeb\\x8b\\x7f\\xe4\\x92\\xf1\\xa08\\x85w\\xc9\\xc6gm\\xb6\\xe5MHw\\x8f\\xbe$\\xb5?\\x88\\xa1\\x16\\xd7\\xe7\\x87\\x1bh\\x1do\\xfd\\x8b\\xab\\x9dg\\x99zG|\\xf0W\\x16\\x92w\\xd6\\xf4\\xc7\\xf9/\\x9e\\xf5\\xa1\\x1fM\\x03\\x06\\xbe\\xe5]\\xfc\\xc8\\xe44H\\xb3\\xfe\\xb6\\x12\\x04WuqD\\xe2\\xd0\\xae\\xee1I\\x845\\x10\\xc1w\\x15@\\xf5u\\xe9@\\x1f\\xb5\\xd72\\x93\\x1bt\\xb0P\\xe6E\\xce\\t\\x12\\xe8\\xd7\\xf1\\xafa\\x9dv\\xc2h/\\xa4\\x18Y;2\\xb8\\xdd\\x84\\x03\\xca:\\x86\\xe7\\xb1\\x80D\\x00d\\x1a\\xa3\\xd2\\xa9\\xd6\\xd7\\xfa\\x0e\\x0c\\xfd\\xcegN\\\\\\x89\\x8aML\\x02\\xe5\\x981U\\x98\\x95\\xef2\\xeb\\x96\\xbeR1\\x19\\xe5\\x8c\\x12\\x0b\\xe9\\xd9\\xdc\\xbe\\xfaG\\xf0x\\xcb\\xa2`n\\xd3qar\\xdc\\xc07r\\xbb\\xd2\\xc4\\xae\\x94\\x18\\xbc\\x8d\\xa7\\x8b~\\xe5@Q\\x06u\\xe8\\x11\\xec:\\r>Z\\xa8\\x90D\\x8e\\xc7\\xfc\\x9f\\n\\x0f\\xcf\\x8d\\xbag[A\\x1c\\xc6s\\xa9\\x93\\xe2 \\xac\\xb6\\xd4\\x16vI\\xc0D\\xf3+>\\xc1O\\x81\\xfc\\x86T\\x17\\x8b\\x98\\xed\\x08\\x05\\xa4\\x8e\\x07zh\\t\\x06:\\xee9/\\xc6\\x07L\\xa9\\xe7\\xa1e,R\\x03\\xf5=\\nZ\\x93O\\x0e\\xd7\\xd6\\xee\\x7f\\n\\x11\\x1db\\xf2\\x1f\\x14\\xff@\\xc6\\xcdG\\xb7\\xb3\\xaaoD\\x11\\x97\\xcd\\xbf[\\xbf*\\x1b8\\xc7o\\xc5i\\r|^\\xc7\\x87\\xf8\\x9ax\\x1a\\x03O\\x01p\\x1e\\x05r}\\x1a\\x0cs~\\xe2\\x07\\x04\\x7fg\\x99FlB\\x00\\xcfP=\\xcd\\xfe\\x08\\xda\\x10\\xc1\\xe7\\xf6,\\xe9\\xfe\\xa5lwR\\x80\\xe6\\xe6\\x87\\x82o\\xc5K\\x89\\x9b2\\x17\\xc9\\xf4D\\xf7x\\xd8\\xc6\\x97\\x8f\\xec)\\x85\\xdaA\\x0c\\xae,\\xeflV\\x07w\\x9d\\xee\\xe2Ga%3\\x00k6Hki\\x05_\\xd1\\xc4)T\\xdf\\x07Wy\\x0cX\\xef2\\x1dR\\x01\"\\xcc\\x0fb\\xa6\\xe2\\x0e\\xa7\\xd2\\x0b*\\xefdB\\x83UB\\xa7\\xc3eC\\xac+}\\xb0\\x82\\t\\xc9\\x04\\x9a7\\x83\\x13\\xb0g\\xa8\\xf7@\\xe71\\xbe\\xe7\\x02e\\xe9\\xf0\\xc4\\xae\\xc3\\xc2~\\x13\\tX\\xbfT\\x1a\\xe8\\x866\\xa0\\xa2\\xe8\\x83\\x18\\x817\\xa8\\x1a\\xc9\\x00\\xc4\\x0e\\x7f\\xbd\\xf5\\xa5`\\xd4\\x14\\x1e\\x97T%\\xf3t+w\\xdd7sS\\x96\\xde\\x1b(\\xd0\\xd2\\xc6\\xc7\\xbc\\xa5Y\\x1f\\xbe\\x89\\xdf\\x001\\x8b\\x1d\\x8b\\xb1\\xaa\\xa0\\xb1NR\\xf8\\x93\\t\\xc5\\xde\\x00\\x96\\x98%\\xbd$\\xdcO\\xfb\\xd7t\\xe3\\xc5o\\x04\\xd0\\xba\\x84\\x19*\\xdd\\xbed\\x93\\x82;\\x01\\x8d\\xba>\\x02\\x94I\\xe3\\x93\\xbcf\\x88\\xa4\\x86D\\xa3\\xd7f\\x1a,_\\xee\\xcb;?\\xd6}\\x90#\\x9c<>\\x03\\xeeb\\xfa\\'~9\\x85\\xd7Hb\\x96\\x15B\\xab\\x8c\\xe0\\xafW7\\xbaQQ :\\xfd\\xd9])!#}v\\xa7[8\\x05\\x8c\\x88\\xdc\\xa8I\\xc4\\xdb\\xb2_\\xadgi\\x03\\'\\xd58\\xbf1>\\x91S\\xb8#\\xa5\\x9dQ\\x80\"\\x99(\\x0b\\x17_\\xcaND\\x99\\xa5\\xa2\\xcdY\\x12\\xb9\\xf3\\x184&\\xba&\\x97D\\xe8\\xb3l\\x88J\\'\\xd3a#\\x92\\xf4\\xd66\\x98\\xf7\\xac\\xf8\\x887\\xf1S5\\xad\\x8b\\x0c\\xb1\\x08O-\\x95\\xed\\xc2\\x81\\x13+\\xb9f#\\x08\\x92\\x17\\xa3\\xae\\xfe\\x1d$,\\xd0\\x85\\x9a3\\xf0\\xdb\\x0b\\xe8~\\x13\\x97\\xaft;\\x01'\n",
            "OAEP decode result: \n",
            "Ala ma kota\n"
          ]
        }
      ]
    },
    {
      "cell_type": "code",
      "source": [
        "def encryptRSA_OAEP(M, public_key):\n",
        "  e, n = public_key\n",
        "  k = n.bit_length() // 8\n",
        "  M = OAEP_encode(k, M)\n",
        "  M = int.from_bytes(M, byteorder='big')\n",
        "  C = pow(M, e, n)\n",
        "  return C\n",
        "\n",
        "def decryptRSA_OAEP(C, mlen, private_key):\n",
        "  d, n = private_key\n",
        "  k = n.bit_length() // 8\n",
        "  M = pow(C, d, n)\n",
        "  M = M.to_bytes(k, byteorder='big')\n",
        "  M = OAEP_decode(k, M, mlen)\n",
        "  return M"
      ],
      "metadata": {
        "id": "Ba49-k7-pQs5"
      },
      "execution_count": 28,
      "outputs": []
    },
    {
      "cell_type": "code",
      "source": [
        "M = 'Ala ma kota'\n",
        "\n",
        "encryptRSA_OAEP_res = encryptRSA_OAEP(M, public_key)\n",
        "print(f'encryptRSA_OAEP: \\n{encryptRSA_OAEP_res}')\n",
        "\n",
        "decryptRSA_OAEP_res = decryptRSA_OAEP(encryptRSA_OAEP_res, len(M), private_key)\n",
        "print(f'decryptRSA_OAEP_res: \\n{decryptRSA_OAEP_res}')"
      ],
      "metadata": {
        "colab": {
          "base_uri": "https://localhost:8080/"
        },
        "id": "0792MmRWqXTt",
        "outputId": "26aaf186-266f-4365-8b7a-9ea9bf80ebd1"
      },
      "execution_count": 29,
      "outputs": [
        {
          "output_type": "stream",
          "name": "stdout",
          "text": [
            "encryptRSA_OAEP: \n",
            "14354549140033241523107496411738664016817190278312959851317896160310576255844949410125842437050237871730797522039489565147376410387620664046721726558292047639306871224146131493126188156320879703049219987018139212505153217658444712286169788402721393338428335489352637950803402739747749356318048945763485649077051485957149356993121533217853602584507562750467852270128425426095793671195369015848382686597880551297600867740492113404812795460451180821711393724575298349623978731641574164538008359490288841729985745054308076564669737714668278054082553091650942139494658817097874837959007600025446289921534437146004303254333\n",
            "decryptRSA_OAEP_res: \n",
            "b'Ala ma kota'\n"
          ]
        }
      ]
    },
    {
      "cell_type": "markdown",
      "source": [
        "## EMSA - PSS\n",
        "\n",
        "Utworzenie bezpiecznej sygnatury RSA wymaga zastowania algorytmu *Encoding Method for Signature with Appendix - Probabilistic Signature Scheme* ."
      ],
      "metadata": {
        "id": "ug2e_I03YoR1"
      }
    },
    {
      "cell_type": "markdown",
      "source": [
        "### EMSA encoding"
      ],
      "metadata": {
        "id": "KrWpFTRHZSA7"
      }
    },
    {
      "cell_type": "markdown",
      "source": [
        "Parametry wejściowe:\n",
        "\n",
        "1) $H$ - funkcja skrótu SHA-256, oraz $hlen$ czyli długość zwracanego skrótu w bajtach.\n",
        "\n",
        "2) $slen$ - długość soli w bajtach, powinna być równa $hlen$.\n",
        "\n",
        "3) $M$ - bajty wiadomości do podpisania.\n",
        "\n",
        "4) $mgf1$ - Mask Generation Function 1.\n",
        "\n",
        "5) $emBits$ - pożądana długość sygnatury w bitach. Jest to najczęściej długość bitowa liczby modulus $n$ pomniejszona o jeden, czyli w naszym przypadku 2047.\n",
        "\n",
        "6) $emlen$ - długość sygnatury w bajtach, równa długości parametru $n$ wyrażonego w bajtach.\n"
      ],
      "metadata": {
        "id": "bNPN9mqIZT5F"
      }
    },
    {
      "cell_type": "markdown",
      "source": [
        "Algorytm:\n",
        "\n",
        "1) Oblicz: $mHash = H(M)$.\n",
        "\n",
        "2) Jeżeli $emlen < hlen + slen + 2$ **zakończ i zwróć błąd**.\n",
        "\n",
        "3) Wygeneruj tablicę losowych bajtów $salt$ o długości $slen$.\n",
        "\n",
        "4) Oblicz: $M' = 0x00 00 00 00 00 00 00 00 || mHash || salt$. Długość $M'$ to $8 + hlen + slen$.\n",
        "\n",
        "5) Oblicz: $mHash' = H(M')$.\n",
        "\n",
        "6) Wygeneruj tablicę $PS$ składającą się z bajtów 0x00 o długości $emlen - slen - hlen - 2$.\n",
        "\n",
        "7) Oblicz: $DB = PS || 0x01 || salt$. Długość $DB$ powinna wynosić $emlen - hlen - 1$ bajtów.\n",
        "\n",
        "8) Oblicz: $dbMask = mgf1(mHash', emlen - hlen - 1)$.\n",
        "\n",
        "9) Oblicz: $maskedDB = DB ⊕ dbMask$.\n",
        "\n",
        "10) Ustaw $8 * emlen - emBits$ **najbardziej znaczących** bitów $maskedDB$ na wartości 0.\n",
        "\n",
        "11) Oblicz: $EM = maskedDB || mHash' || 0xbc$.\n",
        "\n",
        "12) Zwróć $EM$.\n"
      ],
      "metadata": {
        "id": "6-0Vzuzf_f81"
      }
    },
    {
      "cell_type": "markdown",
      "source": [
        "## EMSA decoding"
      ],
      "metadata": {
        "id": "HWbbbw1DCGpr"
      }
    },
    {
      "cell_type": "markdown",
      "source": [
        "Parametry wejściowe:\n",
        "\n",
        "1) $H$ - funkcja skrótu SHA-256, oraz $hlen$ czyli długość zwracanego skrótu w bajtach.\n",
        "\n",
        "2) $slen$ - długość soli w bajtach, powinna być równa $hlen$.\n",
        "\n",
        "3) $EM$ - sygnatura wiadomości $M$.\n",
        "\n",
        "4) $M$ - bajty wiadomości do weryfikacji.\n",
        "\n",
        "4) $mgf1$ - Mask Generation Function 1.\n",
        "\n",
        "5) $emBits$ - długość sygnatury w bitach. Jest to najczęściej długość bitowa liczby modulus $n$ pomniejszona o jeden, czyli w naszym przypadku 2047.\n",
        "\n",
        "6) $emlen$ - długość sygnatury w bajtach, równa długości parametru $n$ wyrażonego w bajtach."
      ],
      "metadata": {
        "id": "xR6QyzduCIoc"
      }
    },
    {
      "cell_type": "markdown",
      "source": [
        "Algorytm:\n",
        "\n",
        "1) Oblicz: $mHash = H(M)$.\n",
        "\n",
        "2) Jeżeli $emlen < hlen + slen + 2$ **zakończ i zwróć błąd weryfikacji**.\n",
        "\n",
        "3) Jeżeli ostatni bajt (najmniej znaczący) $EM$ nie ma wartości 0xbc **zakończ i zwróć błąd weryfikacji**.\n",
        "\n",
        "4) Podstaw $emlen - hlen - 1$ najbardziej znaczących bajtów do $maskedDB$ oraz kolejne $hlen$ bajtów do $mHash'$.\n",
        "\n",
        "5) Jeżeli $8 * emlen - emBits$ najbardziej znaczących bitów $maskedDB$ nie ma wartości 0, **zakończ i zwróć błąd weryfikacji**.\n",
        "\n",
        "6) Oblicz: $dbMask = mgf1(mHash', emlen - hlen - 1)$.\n",
        "\n",
        "7) Oblicz: $DB = maskedDB ⊕ dbMask$.\n",
        "\n",
        "8) Ustaw $8 * emlen - emBits$ najbardziej znaczących bitów $DB$ na 0.\n",
        "\n",
        "9) Jeżeli $emlen - hlen - slen - 2$ najbardziej znaczących bajtów $DB$ nie posiada wartości 0x00 lub gdy bajt na pozycji $emlen - hlen - slen - 1$ (licząc od najbardziej znaczącego) nie posiada wartości 0x01 **zakończ i zwróć błąd weryfikacji**.\n",
        "\n",
        "10) Przypisz do zmiennej $salt$ dokładnie $slen$ najmniej znaczących bajtów $DB$.\n",
        "\n",
        "11) Oblicz: $M' = 0x00 00 00 00 00 00 00 00 || mHash || salt$. Długość $M'$ to $8 + hlen + slen$.\n",
        "\n",
        "12) Oblicz $mHash'' = H(M')$.\n",
        "\n",
        "13) Jeżeli $mHash' \\neq mHash''$ **zakończ i zwróć błąd weryfikacji**, w przeciwnym razie **weryfikacja powiodła się**.\n"
      ],
      "metadata": {
        "id": "MqZUQgT6CspI"
      }
    },
    {
      "cell_type": "markdown",
      "source": [
        "**Zadanie 7**\n",
        "\n",
        "Zaprogramuj kodowanie i dekodowanie EMSA, a następnie popraw algorytmy tworzenia i weryfikacji podpisu cyfrowego RSA. Tworzenie podpisu powinno wyglądać tak, że wiadomość najpierw jest kodowana z wykorzystaniem EMSA, a później tworzony jest popdis z wykorzystaniem klucza prywatnego. Dekodowanie powinno wyglądać tak, że najpierw używany jest klucz publiczny do odtworzenia podpisu EMSA, a następnie wykorzystywane jest dekodowanie EMSA w celu weryfikacji."
      ],
      "metadata": {
        "id": "wrxJHSkyIvz5"
      }
    },
    {
      "cell_type": "code",
      "source": [
        "def EMSA_encode(emlen, M, H=hl.sha256, hlen=256//8, mgf=MGF1):\n",
        "  emBits = emlen * 8 - 1\n",
        "  slen = hlen\n",
        "  M = bytes(M, 'utf-8')\n",
        "\n",
        "  mHash = H(M).digest()\n",
        "  if emlen < hlen + slen + 2:\n",
        "    raise ValueError('Algorithm pt. 2: \"emlen < hlen + slen + 2\" criterium met')\n",
        "  \n",
        "  salt = bytearray(random.getrandbits(4) for _ in range(slen))\n",
        "  # print(f'salt =\\n{salt}')\n",
        "  # print(f'len(salt) =\\n{len(salt)}')\n",
        "  \n",
        "  # print(f'mHash = {mHash}')\n",
        "  # print(f'len(mHash) = {len(mHash)}')\n",
        "  # print(f'salt = {salt}')\n",
        "  # print(f'len(salt) = {len(salt)}')\n",
        "\n",
        "  M_prim = b'\\x00\\x00\\x00\\x00\\x00\\x00\\x00\\x00' + mHash + salt # M_prim = b'\\x0000000000000000' + mHash + salt\n",
        "  # print(f'len(M_prim) = {len(M_prim)}')\n",
        "  # print(f'8 + hlen + slen = {8 + hlen + slen}')\n",
        "\n",
        "  if not len(M_prim) == 8 + hlen + slen:\n",
        "    raise ValueError('Algorithm pt. 4: \"len(M_prim) == 8 + hlen + slen\" criterium not met')\n",
        "  \n",
        "  mHash_prim = H(M_prim).digest()\n",
        "  # print(f'EMSA_encode::mHash_prim = {mHash_prim}')\n",
        "  PS = bytes(emlen - slen - hlen - 2)\n",
        "\n",
        "  DB = PS + b'\\x01' + salt\n",
        "\n",
        "  if not len(DB) == emlen - hlen - 1:\n",
        "    raise ValueError('Algorithm pt. 7: \"emlen - hlen - 1\" criterium not met')\n",
        "  \n",
        "  dbMask = mgf(mHash_prim, emlen - hlen - 1)\n",
        "  maskedDB = bytes_xor(DB, dbMask)\n",
        "\n",
        "  # print(f'EMSA_encode:: len(maskedDB)= {len(maskedDB)}')\n",
        "\n",
        "  # bin -> format 0b -> dlatego [2:] usuwa ten prefiks\n",
        "  # zfill dopełnia do pełnej długości\n",
        "  binary = bin(int.from_bytes(maskedDB, byteorder='big'))[2:].zfill(len(maskedDB) * 8)\n",
        "  # print(f'EMSA_encode:: binary beofre zero = \\n{binary}')\n",
        "  binary = '0' * (8 * emlen - emBits) + binary[8 * emlen - emBits:]\n",
        "  # print(f'EMSA_encode:: binary = \\n{binary}')\n",
        "  # print(f'EMSA_encode:: len(binary)= {len(binary)}')\n",
        "\n",
        "  num = int(binary, 2)\n",
        "  maskedDB = num.to_bytes(len(maskedDB), byteorder='big')\n",
        "  \n",
        "  # print(f'maskedDB = \\n{maskedDB}')\n",
        "  # print(f'len(maskedDB) = {len(maskedDB)}')\n",
        "  # print(f'EMSA_encode::8 * emlen - emBits = {8 * emlen - emBits}')\n",
        "  # print(f'maskedDB[8 * emlen - emBits:] = \\n{maskedDB[:8 * emlen - emBits]}')\n",
        "  # print(f'maskedDB[8 * emlen - emBits:8 * emlen - emBits + 1] (next bit) = \\n{maskedDB[8 * emlen - emBits:8 * emlen - emBits + 1]}')\n",
        "\n",
        "  EM = maskedDB + mHash_prim + b'\\xbc'\n",
        "\n",
        "  # print(f'EMSA_encode::len(EM) = {len(EM)}')\n",
        "  return EM\n",
        "\n",
        "def EMSA_decode(emlen, EM, M, H=hl.sha256, hlen=256//8, mgf=MGF1):\n",
        "  emBits = emlen * 8 - 1\n",
        "  slen = hlen\n",
        "  # print(f'EM = {EM}')\n",
        "  # print(f'len(EM) = {len(EM)}')\n",
        "\n",
        "  M = bytes(M, 'utf-8')\n",
        "  mHash = H(M).digest()\n",
        "\n",
        "  # print(f'mHash = {mHash}')\n",
        "\n",
        "  if emlen < hlen + slen + 2:\n",
        "    raise ValueError('Algorithm pt. 2: \"emlen < hlen + slen + 2\" criterium met')\n",
        "  \n",
        "  # print(f'EM[-1] = {EM[-1]}')\n",
        "  # print(f'EM[-1].to_bytes(1, byteorder=\"big\") = {EM[-1].to_bytes(1, byteorder=\"big\")}')\n",
        "\n",
        "  if EM[-1].to_bytes(1, byteorder='big') != b'\\xbc':\n",
        "    raise ValueError('Algorithm pt. 3: \"M[-1] != b\\\\xbc\" criterium not met')\n",
        "\n",
        "  maskedDB = EM[:emlen - hlen - 1]\n",
        "  # print(f'maskedDB = {maskedDB}')\n",
        "  # print(f'len(maskedDB) = {len(maskedDB)}')\n",
        "  # print(f'len(maskedDB) * 8 = {len(maskedDB) * 8}')\n",
        "  mHash_prim = EM[emlen - hlen - 1:emlen - 1]\n",
        "  # print(f'mHash_prim = {mHash_prim}')\n",
        "  \n",
        "  # print(f'EMSA_decode:: emlen - hlen - 1 = {emlen - hlen - 1}')\n",
        "  # print(f'EMSA_decode::8 * emlen - emBits = {8 * emlen - emBits}')\n",
        "\n",
        "  if not bin(int.from_bytes(maskedDB, byteorder='big'))[2:].zfill(len(maskedDB) * 8)[:8 * emlen - emBits] == '0' * (8 * emlen - emBits):\n",
        "    raise ValueError('Algorithm pt. 5: \"maskedDB[8 * emlen - emBits] == 0\" criterium not met')\n",
        "\n",
        "  dbMask = mgf(mHash_prim, emlen - hlen - 1)\n",
        "\n",
        "  # print(f'dbMask = \\n{dbMask}')\n",
        "  # print(f'maskedDB = \\n{maskedDB}')\n",
        "\n",
        "  DB = bytes_xor(maskedDB, dbMask)\n",
        "  # print(f'DB = {DB}')\n",
        "  binary = bin(int.from_bytes(DB, byteorder='big'))[2:].zfill(len(DB) * 8)\n",
        "  # print(f'binary before zeros = \\n{binary}')\n",
        "  # print(f'(8 * emlen - emBits) = {(8 * emlen - emBits)}')\n",
        "  binary = '0' * (8 * emlen - emBits) + binary[8 * emlen - emBits:]\n",
        "  num = int(binary, 2)\n",
        "  DB = num.to_bytes(len(DB), byteorder='big')\n",
        "\n",
        "  # print(f'binary = \\n{binary}')\n",
        "  # print(f'num = {num}')\n",
        "  # print(f'DB = {DB}')\n",
        "  # print(f'DB[:emlen - hlen - slen - 2] = {DB[:emlen - hlen - slen - 2] }')\n",
        "  # tempvar = b'\\x00' * (emlen - hlen - slen - 2)\n",
        "  # print(f'b\"\\\\x00\" * (emlen - hlen - slen - 2) = {tempvar}')\n",
        "\n",
        "  if DB[:emlen - hlen - slen - 2] != b'\\x00' * (emlen - hlen - slen - 2):\n",
        "    raise ValueError('Algorithm pt. 9: \"DB[emlen - hlen - slen - 2] == 0\" criterium not met')\n",
        "  \n",
        "  # print(f'len(DB) = {len(DB)}')\n",
        "  # print(f'DB[emlen - hlen - slen - 2:emlen - hlen - slen - 1] = {DB[emlen - hlen - slen - 2:emlen - hlen - slen - 1]}')\n",
        "  if DB[emlen - hlen - slen - 2:emlen - hlen - slen - 1] != b'\\x01':\n",
        "    raise ValueError('Algorithm pt. 9: \"DB[emlen - hlen - slen - 1] == b\\\\x01\" criterium not met')\n",
        "\n",
        "  salt = DB[-slen:]\n",
        "  M_prim = b'\\x00\\x00\\x00\\x00\\x00\\x00\\x00\\x00' + mHash + salt\n",
        "  if not len(M_prim) == 8 + hlen + slen:\n",
        "    raise ValueError('Algorithm pt. 11: \"len(M_prim) == 8 + hlen + slen\" criterium not met')\n",
        "  \n",
        "  mHash_bis = H(M_prim).digest()\n",
        "\n",
        "  if not mHash_prim == mHash_bis:\n",
        "    raise ValueError('Algorithm pt. 13: \"mHash_prim == mHash_bis\" criterium not met')\n",
        "  \n",
        "  return True"
      ],
      "metadata": {
        "id": "UMR18zEnbrke"
      },
      "execution_count": 30,
      "outputs": []
    },
    {
      "cell_type": "code",
      "source": [
        "M = 'Ala ma podpis'\n",
        "\n",
        "EMSA_encode_res = EMSA_encode(nlen//8, M)\n",
        "\n",
        "print(f'M = \\n{M}')\n",
        "print(f'EMSA_encode_res = \\n{EMSA_encode_res}\\n')\n",
        "print(f'EMSA_decode verify: \\n{EMSA_decode(nlen//8, EMSA_encode_res, M)}')\n"
      ],
      "metadata": {
        "id": "S-TbQA4NJrl3",
        "colab": {
          "base_uri": "https://localhost:8080/"
        },
        "outputId": "6ab06d7a-1609-444c-d373-6ed4f42f7e9b"
      },
      "execution_count": 31,
      "outputs": [
        {
          "output_type": "stream",
          "name": "stdout",
          "text": [
            "M = \n",
            "Ala ma podpis\n",
            "EMSA_encode_res = \n",
            "b'\\x02\\xb5:\\x8d\\x82[\\x97sM\\xb0\\x91Hj\\x06\\x16\\x9c6*\\xc2\\xf45\\xde\\xca8\\x14\\xde\\xb9\\xc3\\x1a2I\\x95\\xceD\\x83\\xd9\\xca\\xd8\\x17s\\x03\\x023t\\x89`\\xae7\\x13\\xf0\\xabZ\\x10\\xb6D\\x8f[\\xaf_\\x83\\xf1\\x85\\xed\\xbb0h\\x99\\xc0_\\x017\\x14\"\\xbf+\\x1d\\x92\\x05$!\\x81\\xb4\\xefY?Q\\xa1k5C\\xc1[Y[\\x16G\\xed\\xa7\\x00\\x8a\\x95\\xb6-PS\\xde}\\xfc0\\\\/\\x9c\\xb4\\x13\\xe7\\x91\\x83\\xc2@\\xa2x\\x85\\xdd\\xc3\\x11\\xecmS\\x80\\'.4\\xa3M\\x18q\\xef\\x11\\xe3o\\x9b>7~\\xf0\\x88Y?{x\\'\\xeb\\xdf\\x93\\xea\\x0bN\\x80\\xbd\\x9f\\xd3\\xb0QhP\\xda\\x0b\\xd8\\xbf^N\\x7fT\\xf0XPP\\xf0\\xf4\\xa1\\x82\\xc5{\\x99\\xcd\\x07\\x1e\\x1c\\x7f\\x1b\\x97j>\\xff\\xd3\\xc5\\xa38\\xe9\\xfd8R\"G\\x0e\\x93\\xd8\\xac\\x93=\\xa3\\x9f\\x0cGp\\xb3G\\xaa\\xc3\\x18-t\\x17\\x1d\\xbb\\x97i\\x18\\x10\\xe3\\xe6\\xd3\\xe1\\xfc\\xde\\x11\\x023\\xbe\\x96Aq\\xe1\\xd5\\xf0\\xbb\\x8bI\\x7f\\x92\\x8cB%\\x92\\xc4\\xbc'\n",
            "\n",
            "EMSA_decode verify: \n",
            "True\n"
          ]
        }
      ]
    },
    {
      "cell_type": "code",
      "source": [
        "def create_SIG_EMSA(M, key, nlen=2048):\n",
        "  EMSA_encode_res = EMSA_encode(nlen, M)\n",
        "  SIG = pow(int.from_bytes(EMSA_encode_res, byteorder='big'), key[0], key[1])\n",
        "  return M, SIG\n",
        "\n",
        "def verify_SIG_EMSA(M, SIG, key, nlen=2048):\n",
        "  VER = pow(SIG, key[0], key[1])\n",
        "\n",
        "  try:\n",
        "    return EMSA_decode(nlen, VER.to_bytes(nlen, byteorder='big'), M)\n",
        "  except ValueError:\n",
        "    return False"
      ],
      "metadata": {
        "id": "vpPlAWEk6jAk"
      },
      "execution_count": 32,
      "outputs": []
    },
    {
      "cell_type": "code",
      "source": [
        "M = 'Ala ma podpis'\n",
        "M2 = 'Podpis ma Ale'\n",
        "\n",
        "create_SIG_EMSA_result = create_SIG_EMSA(M, private_key)\n",
        "print(f'Message 1: {M}')\n",
        "print(f'Message 2: {M}')\n",
        "print(f'Verify result: {verify_SIG_EMSA(M, create_SIG_EMSA_result[1], public_key)}')"
      ],
      "metadata": {
        "colab": {
          "base_uri": "https://localhost:8080/"
        },
        "id": "epe4eOU3PL34",
        "outputId": "654df146-9e88-4c2d-be50-315e3d056339"
      },
      "execution_count": 33,
      "outputs": [
        {
          "output_type": "stream",
          "name": "stdout",
          "text": [
            "Message 1: Ala ma podpis\n",
            "Message 2: Ala ma podpis\n",
            "Verify result: False\n"
          ]
        }
      ]
    },
    {
      "cell_type": "code",
      "source": [
        "print(f'Message 1: {M}')\n",
        "print(f'Message 2: {M2}')\n",
        "create_SIG_EMSA_result = create_SIG_EMSA(M, private_key)\n",
        "print(f'Verify result: {verify_SIG_EMSA(M2, create_SIG_EMSA_result[1], public_key)}')"
      ],
      "metadata": {
        "colab": {
          "base_uri": "https://localhost:8080/"
        },
        "id": "eAfcVbnHUjZg",
        "outputId": "91495757-7a7d-4d17-cd45-c7bbac1e7bb6"
      },
      "execution_count": 34,
      "outputs": [
        {
          "output_type": "stream",
          "name": "stdout",
          "text": [
            "Message 1: Ala ma podpis\n",
            "Message 2: Podpis ma Ale\n",
            "Verify result: False\n"
          ]
        }
      ]
    },
    {
      "cell_type": "markdown",
      "source": [
        "## RSA - KEM\n",
        "\n",
        "RSA - KEM, czyli z ang. *Key Encapsulation Mechanism* to prosty algorytm dedykowany do wymiany klucza symetrycznego. Obie strony dysponują uzgodnioną funkcją skótu H. Instancja, która chce **otrzymać** tajny klucz do komunikacji symetrycznej generuje klucze RSA i udostępnia swój klucz publiczny. Instancja, która chce wygenerować tajny klucz do komunikacji symetrycznej dysponuje kluczem publicznym instancji, która chce go otrzymać."
      ],
      "metadata": {
        "id": "d7txLS64JZI-"
      }
    },
    {
      "cell_type": "markdown",
      "source": [
        "Instancja generująca klucz symetryczny:\n",
        "\n",
        "1) Znajdź losową liczbę $RAND$ spełniającą warunki OAEP.\n",
        "\n",
        "2) Oblicz: $KEY = H(RAND)$. Jeżeli trzeba, przytnij $KEY$ do odpowiedniej długości.\n",
        "\n",
        "3) Oblicz: $CIPHERED\\_KEY = RSA\\_OAEP\\_ENCODING(KEY, (e, n))$.\n",
        "\n",
        "4) Wyślij $CIPHERED\\_KEY$."
      ],
      "metadata": {
        "id": "tl7cu30PJ1lk"
      }
    },
    {
      "cell_type": "markdown",
      "source": [
        "Instancja otrzymująca zaszyfrowany klucz symetryczny:\n",
        "\n",
        "1) Oblicz: $KEY = RSA\\_OAEP\\_DECODING(CIPHERED\\_KEY, (d, n))$\n",
        "\n",
        "2) Jeżeli trzeba przytnij $KEY$ do odpowiedniej długości."
      ],
      "metadata": {
        "id": "oFB9JAwULw70"
      }
    },
    {
      "cell_type": "markdown",
      "source": [
        "Np. AES występuje w wersji 128b, 192b i 256b. Jeżeli jako H przyjmiemy więc SHA-256, nie trzeba przycinać klucza dla algorytmu AES-256. W przeciwnym razie należy klucz odpowiednio przyciąć (z lewej lub prawej, byle obie strony tak samo) i to ta wartość staje się kluczem symetrycznym."
      ],
      "metadata": {
        "id": "386c_pDZMSRG"
      }
    },
    {
      "cell_type": "markdown",
      "source": [
        "**Zadanie 8**\n",
        "\n",
        "Zasymuluj takową wymianę (bez przycinania klucza)."
      ],
      "metadata": {
        "id": "7N66NPBBMpLS"
      }
    },
    {
      "cell_type": "code",
      "source": [
        "def encrypt_key_RSA_KEM(pkey, H=hl.sha256):\n",
        "  rand = random.randint(0, 256).to_bytes(1, byteorder='big')\n",
        "  key = H(rand).digest()\n",
        "  cipherered_key = encryptRSA_OAEP(key, pkey)\n",
        "  return cipherered_key, key\n",
        "\n",
        "def decrypt_key_RSA_KEM(cipherered_key, key, pkey):\n",
        "  # print(f'cipherered_key = {cipherered_key}')\n",
        "  # print(f'key = {key}')\n",
        "  return decryptRSA_OAEP(cipherered_key, len(key), pkey)"
      ],
      "metadata": {
        "id": "Td_Qg2zlMuRt"
      },
      "execution_count": 35,
      "outputs": []
    },
    {
      "cell_type": "code",
      "source": [
        "encrypt_key_RSA_KEM_res = encrypt_key_RSA_KEM(public_key)\n",
        "decrypt_key_RSA_KEM_res = decrypt_key_RSA_KEM(encrypt_key_RSA_KEM_res[0], encrypt_key_RSA_KEM_res[1], private_key)\n",
        "\n",
        "print(f'encrypt_key_RSA_KEM key = \\n{encrypt_key_RSA_KEM_res[1]}')\n",
        "print(f'decrypt_key_RSA_KEM key = \\n{decrypt_key_RSA_KEM_res}\\n')\n",
        "\n",
        "print(f'Is equal?:')\n",
        "if decrypt_key_RSA_KEM_res == encrypt_key_RSA_KEM_res[1]:\n",
        "  print(f'True')\n",
        "else:\n",
        "  print(f'False')"
      ],
      "metadata": {
        "colab": {
          "base_uri": "https://localhost:8080/"
        },
        "id": "EJA9JTmAcCFD",
        "outputId": "883fdcdb-19ef-4e30-ce22-629237143f93"
      },
      "execution_count": 36,
      "outputs": [
        {
          "output_type": "stream",
          "name": "stdout",
          "text": [
            "encrypt_key_RSA_KEM key = \n",
            "b'\\xe7{\\x9a\\x9a\\xe9\\xe3\\x0b\\r\\xbd\\xb6\\xf5\\x10\\xa2d\\xef\\x9d\\xe7\\x81P\\x1d{k\\x92\\xae\\x89\\xeb\\x05\\x9cZ\\xb7C\\xdb'\n",
            "decrypt_key_RSA_KEM key = \n",
            "b'\\xe7{\\x9a\\x9a\\xe9\\xe3\\x0b\\r\\xbd\\xb6\\xf5\\x10\\xa2d\\xef\\x9d\\xe7\\x81P\\x1d{k\\x92\\xae\\x89\\xeb\\x05\\x9cZ\\xb7C\\xdb'\n",
            "\n",
            "Is equal?:\n",
            "True\n"
          ]
        }
      ]
    }
  ]
}